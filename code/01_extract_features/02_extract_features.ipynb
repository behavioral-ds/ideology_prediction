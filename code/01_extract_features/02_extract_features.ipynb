{
 "cells": [
  {
   "cell_type": "markdown",
   "id": "f0fa3d6f",
   "metadata": {},
   "source": [
    "# Extract Lenses"
   ]
  },
  {
   "cell_type": "code",
   "execution_count": 3,
   "id": "d639e274",
   "metadata": {},
   "outputs": [],
   "source": [
    "from dotenv import load_dotenv\n",
    "import os\n",
    "import pandas as pd\n",
    "load_dotenv()\n",
    "import pickle as pk\n",
    "import numpy as np\n",
    "from pathlib import Path\n",
    "base_dir = os.getenv('BASEDIR')\n",
    "\n",
    "from tqdm import tqdm\n",
    "tqdm.pandas()"
   ]
  },
  {
   "cell_type": "code",
   "execution_count": 1,
   "id": "08de60a2",
   "metadata": {},
   "outputs": [
    {
     "name": "stderr",
     "output_type": "stream",
     "text": [
      "2023-02-09 10:27:25.303105: I tensorflow/core/platform/cpu_feature_guard.cc:193] This TensorFlow binary is optimized with oneAPI Deep Neural Network Library (oneDNN) to use the following CPU instructions in performance-critical operations:  AVX2 AVX512F AVX512_VNNI FMA\n",
      "To enable them in other operations, rebuild TensorFlow with the appropriate compiler flags.\n",
      "2023-02-09 10:27:25.437222: I tensorflow/core/util/util.cc:169] oneDNN custom operations are on. You may see slightly different numerical results due to floating-point round-off errors from different computation orders. To turn them off, set the environment variable `TF_ENABLE_ONEDNN_OPTS=0`.\n",
      "2023-02-09 10:27:25.443837: W tensorflow/stream_executor/platform/default/dso_loader.cc:64] Could not load dynamic library 'libcudart.so.11.0'; dlerror: libcudart.so.11.0: cannot open shared object file: No such file or directory; LD_LIBRARY_PATH: /home/roram/anaconda3/lib:\n",
      "2023-02-09 10:27:25.443850: I tensorflow/stream_executor/cuda/cudart_stub.cc:29] Ignore above cudart dlerror if you do not have a GPU set up on your machine.\n",
      "2023-02-09 10:27:25.473693: E tensorflow/stream_executor/cuda/cuda_blas.cc:2981] Unable to register cuBLAS factory: Attempting to register factory for plugin cuBLAS when one has already been registered\n",
      "2023-02-09 10:27:47.242713: W tensorflow/stream_executor/platform/default/dso_loader.cc:64] Could not load dynamic library 'libnvinfer.so.7'; dlerror: libnvinfer.so.7: cannot open shared object file: No such file or directory; LD_LIBRARY_PATH: /home/roram/anaconda3/lib:\n",
      "2023-02-09 10:27:47.243428: W tensorflow/stream_executor/platform/default/dso_loader.cc:64] Could not load dynamic library 'libnvinfer_plugin.so.7'; dlerror: libnvinfer_plugin.so.7: cannot open shared object file: No such file or directory; LD_LIBRARY_PATH: /home/roram/anaconda3/lib:\n",
      "2023-02-09 10:27:47.243437: W tensorflow/compiler/tf2tensorrt/utils/py_utils.cc:38] TF-TRT Warning: Cannot dlopen some TensorRT libraries. If you would like to use Nvidia GPU with TensorRT, please make sure the missing libraries mentioned above are installed properly.\n"
     ]
    }
   ],
   "source": [
    "import pandas as pd\n",
    "import os \n",
    "import re\n",
    "import numpy as np\n",
    "from sklearn.feature_extraction.text import TfidfVectorizer\n",
    "from tqdm import tqdm\n",
    "import tensorflow as tf\n",
    "import tensorflow_hub as hub"
   ]
  },
  {
   "cell_type": "markdown",
   "id": "4598f9fb",
   "metadata": {},
   "source": [
    "### Generate Hashtag Features"
   ]
  },
  {
   "cell_type": "code",
   "execution_count": 8,
   "id": "7a99f184",
   "metadata": {},
   "outputs": [],
   "source": [
    "datasets = ['qanda', 'ausvotes', 'riot']"
   ]
  },
  {
   "cell_type": "code",
   "execution_count": 10,
   "id": "192b1ac6",
   "metadata": {},
   "outputs": [],
   "source": [
    "def dummy_fun(doc):\n",
    "    return doc\n",
    "\n",
    "granularity = '_per_user'\n",
    "for dataset in datasets:\n",
    "    data_path = os.path.join(base_dir,'data','01_raw_data',dataset, dataset+granularity+'.pk')\n",
    "    with open(data_path, 'rb') as rf:\n",
    "        data = pk.load(rf)\n",
    "        data_hashtags = data['hashtags']\n",
    "        tfidf = TfidfVectorizer(\n",
    "            analyzer='word',\n",
    "            tokenizer=dummy_fun,\n",
    "            preprocessor=dummy_fun,\n",
    "            token_pattern=None,\n",
    "            min_df = 10)\n",
    "        ht_embeddings = tfidf.fit_transform(data_hashtags.apply(lambda l: [str(s) for s in l])).todense()\n",
    "        Path( os.path.join(base_dir,'data','03_processed',dataset,'features') ).mkdir( parents=True, exist_ok=True )\n",
    "    with open(os.path.join(base_dir,'data','03_processed',dataset,'features', dataset+'_ht_'+granularity+'.pk'), 'wb') as wf:\n",
    "        pk.dump(ht_embeddings, wf)"
   ]
  },
  {
   "cell_type": "markdown",
   "id": "de7a2334",
   "metadata": {},
   "source": [
    "### Generate Retweet Features"
   ]
  },
  {
   "cell_type": "code",
   "execution_count": 15,
   "id": "0632c4a3",
   "metadata": {},
   "outputs": [],
   "source": [
    "datasets = ['qanda', 'ausvotes', 'riot']"
   ]
  },
  {
   "cell_type": "code",
   "execution_count": 17,
   "id": "2e15d93d",
   "metadata": {},
   "outputs": [
    {
     "name": "stderr",
     "output_type": "stream",
     "text": [
      "100%|████████████████████████████████████████████████████████| 103074/103074 [00:23<00:00, 4407.28it/s]\n",
      "100%|████████████████████████████████████████████████████████| 273874/273874 [02:30<00:00, 1817.63it/s]\n",
      "100%|███████████████████████████████████████████████████████| 574281/574281 [00:53<00:00, 10773.75it/s]\n"
     ]
    }
   ],
   "source": [
    "granularity = '_per_user'\n",
    "for dataset in datasets:\n",
    "    data_path = os.path.join(base_dir,'data','01_raw_data',dataset, dataset+granularity+'.pk')\n",
    "    post_data_path = os.path.join(base_dir,'data','01_raw_data',dataset, dataset+'_per_post'+'.pk')\n",
    "    with open(data_path, 'rb') as rf, open(post_data_path, 'rb') as prf:\n",
    "        data = pk.load(rf)\n",
    "        post_level_data = pk.load(prf)\n",
    "        most_popular_threads = post_level_data['rid'].value_counts().iloc[0:1000].index.values\n",
    "        if granularity != 'per_post':\n",
    "            def to_bow(rids):\n",
    "                res = np.zeros(1000)\n",
    "                for i, thread in enumerate(most_popular_threads):\n",
    "                    if thread in rids:\n",
    "                        res[i] += 1\n",
    "                return res\n",
    "\n",
    "            retweet_embeddings = data['rid'].progress_apply(to_bow) \n",
    "        else:\n",
    "            def to_bow(rid):\n",
    "                res = np.zeros(1000)\n",
    "                for i, thread in enumerate(most_popular_threads):\n",
    "                    if rid == thread:\n",
    "                        res[i] += 1\n",
    "                return res\n",
    "\n",
    "            retweet_embeddings = data['rid'].progress_apply(to_bow)\n",
    "    rt_embeddings = np.vstack(retweet_embeddings.values)\n",
    "\n",
    "    Path( os.path.join(base_dir,'data','03_processed',dataset,'features') ).mkdir( parents=True, exist_ok=True )\n",
    "    with open(os.path.join(base_dir,'data','03_processed',dataset,'features', dataset+'_rt_'+granularity+'.pk'), 'wb') as wf:\n",
    "        pk.dump(rt_embeddings, wf)"
   ]
  },
  {
   "cell_type": "markdown",
   "id": "112cbff2",
   "metadata": {},
   "source": [
    "### Generate Lexical USE Embeddings"
   ]
  },
  {
   "cell_type": "code",
   "execution_count": 18,
   "id": "ec728d31",
   "metadata": {},
   "outputs": [
    {
     "name": "stderr",
     "output_type": "stream",
     "text": [
      "2022-11-08 09:21:59.260381: W tensorflow/stream_executor/platform/default/dso_loader.cc:64] Could not load dynamic library 'libcudart.so.11.0'; dlerror: libcudart.so.11.0: cannot open shared object file: No such file or directory\n",
      "2022-11-08 09:21:59.261854: W tensorflow/stream_executor/platform/default/dso_loader.cc:64] Could not load dynamic library 'libcublas.so.11'; dlerror: libcublas.so.11: cannot open shared object file: No such file or directory\n",
      "2022-11-08 09:21:59.263388: W tensorflow/stream_executor/platform/default/dso_loader.cc:64] Could not load dynamic library 'libcublasLt.so.11'; dlerror: libcublasLt.so.11: cannot open shared object file: No such file or directory\n",
      "2022-11-08 09:21:59.265034: W tensorflow/stream_executor/platform/default/dso_loader.cc:64] Could not load dynamic library 'libcufft.so.10'; dlerror: libcufft.so.10: cannot open shared object file: No such file or directory\n",
      "2022-11-08 09:21:59.267946: W tensorflow/stream_executor/platform/default/dso_loader.cc:64] Could not load dynamic library 'libcurand.so.10'; dlerror: libcurand.so.10: cannot open shared object file: No such file or directory\n",
      "2022-11-08 09:21:59.271730: W tensorflow/stream_executor/platform/default/dso_loader.cc:64] Could not load dynamic library 'libcusolver.so.11'; dlerror: libcusolver.so.11: cannot open shared object file: No such file or directory\n",
      "2022-11-08 09:21:59.273637: W tensorflow/stream_executor/platform/default/dso_loader.cc:64] Could not load dynamic library 'libcusparse.so.11'; dlerror: libcusparse.so.11: cannot open shared object file: No such file or directory\n",
      "2022-11-08 09:21:59.275040: W tensorflow/stream_executor/platform/default/dso_loader.cc:64] Could not load dynamic library 'libcudnn.so.8'; dlerror: libcudnn.so.8: cannot open shared object file: No such file or directory\n",
      "2022-11-08 09:21:59.275053: W tensorflow/core/common_runtime/gpu/gpu_device.cc:1934] Cannot dlopen some GPU libraries. Please make sure the missing libraries mentioned above are installed properly if you would like to use GPU. Follow the guide at https://www.tensorflow.org/install/gpu for how to download and setup the required libraries for your platform.\n",
      "Skipping registering GPU devices...\n",
      "2022-11-08 09:21:59.395904: I tensorflow/core/platform/cpu_feature_guard.cc:193] This TensorFlow binary is optimized with oneAPI Deep Neural Network Library (oneDNN) to use the following CPU instructions in performance-critical operations:  AVX2 AVX512F AVX512_VNNI FMA\n",
      "To enable them in other operations, rebuild TensorFlow with the appropriate compiler flags.\n"
     ]
    },
    {
     "name": "stdout",
     "output_type": "stream",
     "text": [
      "module https://tfhub.dev/google/universal-sentence-encoder/4 loaded\n"
     ]
    }
   ],
   "source": [
    "module_url = \"https://tfhub.dev/google/universal-sentence-encoder/4\"\n",
    "model = hub.load(module_url)\n",
    "print (\"module %s loaded\" % module_url)\n",
    "def embed(input):\n",
    "    return model(input)\n",
    "\n",
    "def batched_embed(l_text):\n",
    "    all_embeddings = []\n",
    "    chunk_size = 10\n",
    "    for i in tqdm(range(0, len(l_text), chunk_size)):\n",
    "        chunk = l_text[i: min(i+chunk_size, len(l_text))]\n",
    "        emb = embed(chunk)\n",
    "        all_embeddings.append(emb.numpy())\n",
    "    return np.vstack(all_embeddings)"
   ]
  },
  {
   "cell_type": "code",
   "execution_count": 19,
   "id": "02fcf789",
   "metadata": {},
   "outputs": [],
   "source": [
    "datasets = ['qanda', 'ausvotes', 'riot', 'parler', 'socialsense']"
   ]
  },
  {
   "cell_type": "code",
   "execution_count": 20,
   "id": "2f4dca99",
   "metadata": {},
   "outputs": [
    {
     "name": "stderr",
     "output_type": "stream",
     "text": [
      "100%|████████████████████████████████████████████████████████████| 10308/10308 [02:45<00:00, 62.25it/s]\n",
      "100%|████████████████████████████████████████████████████████████| 27388/27388 [21:28<00:00, 21.26it/s]\n",
      "100%|███████████████████████████████████████████████████████████| 57429/57429 [05:09<00:00, 185.43it/s]\n",
      "100%|███████████████████████████████████████████████████████████| 12005/12005 [01:54<00:00, 104.90it/s]\n",
      "100%|██████████████████████████████████████████████████████████████| 4945/4945 [01:38<00:00, 50.30it/s]\n"
     ]
    }
   ],
   "source": [
    "granularity = '_per_user'\n",
    "for dataset in datasets:\n",
    "    data_path = os.path.join(base_dir,'data','01_raw_data',dataset, dataset+granularity+'.pk')\n",
    "    with open(data_path, 'rb') as rf:\n",
    "        data = pk.load(rf)\n",
    "        use_embeddings = batched_embed(list(data['text']))\n",
    "        Path( os.path.join(base_dir,'data','03_processed',dataset,'features') ).mkdir( parents=True, exist_ok=True )\n",
    "    with open(os.path.join(base_dir,'data','03_processed',dataset,'features', dataset+'_use_'+granularity+'.pk'), 'wb') as wf:\n",
    "        pk.dump(use_embeddings, wf)"
   ]
  }
 ],
 "metadata": {
  "kernelspec": {
   "display_name": "rr",
   "language": "python",
   "name": "rr"
  },
  "language_info": {
   "codemirror_mode": {
    "name": "ipython",
    "version": 3
   },
   "file_extension": ".py",
   "mimetype": "text/x-python",
   "name": "python",
   "nbconvert_exporter": "python",
   "pygments_lexer": "ipython3",
   "version": "3.10.4"
  }
 },
 "nbformat": 4,
 "nbformat_minor": 5
}
