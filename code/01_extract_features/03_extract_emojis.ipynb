{
 "cells": [
  {
   "cell_type": "markdown",
   "id": "6b378fec",
   "metadata": {},
   "source": [
    "# Extract Emojis from Datasets"
   ]
  },
  {
   "cell_type": "code",
   "execution_count": 62,
   "id": "bc94d22d-442c-4b5e-b5b9-b19ac1aef9e9",
   "metadata": {},
   "outputs": [],
   "source": [
    "from dotenv import load_dotenv\n",
    "import os\n",
    "import pandas as pd\n",
    "load_dotenv()\n",
    "import pickle as pk\n",
    "import numpy as np\n",
    "from pathlib import Path\n",
    "base_dir = os.getenv('BASEDIR')\n",
    "\n",
    "from tqdm import tqdm\n",
    "tqdm.pandas()"
   ]
  },
  {
   "cell_type": "code",
   "execution_count": 63,
   "id": "c0680479-674d-4fb4-910a-0b432637542a",
   "metadata": {},
   "outputs": [],
   "source": [
    "dataset='qanda'"
   ]
  },
  {
   "cell_type": "code",
   "execution_count": 64,
   "id": "9187160a-4dbc-4295-a049-6608c9c0b045",
   "metadata": {},
   "outputs": [],
   "source": [
    "import emoji\n",
    "\n",
    "def extract_emojis(s):\n",
    "    return([o['emoji'] for o in emoji.emoji_list(s)])"
   ]
  },
  {
   "cell_type": "code",
   "execution_count": 65,
   "id": "1d90dbbe-e7d3-42ca-b7b1-c3df2bf592fa",
   "metadata": {},
   "outputs": [],
   "source": [
    "dataset_name='qanda'\n",
    "data = pd.read_csv(os.path.join(base_dir,'data','01_raw_data','qanda','qanda_emoji.csv'), dtype=str, names=['tid', 'rid' ,'qid', 'uid','name', 'bio', 'date', 'text_extended', 'text', 'hashtags', 'hashtags_extended', 'mentions', 'mentions_extended', 'urls_extended', 'urls'], index_col=False)\n",
    "\n",
    "data['text'] = data['text'].fillna('')\n",
    "data['bio'] = data['bio'].fillna('')\n",
    "data['name'] = data['name'].fillna('')"
   ]
  },
  {
   "cell_type": "code",
   "execution_count": 66,
   "id": "da891d84-473f-4ef6-a6f1-37c29ce94e23",
   "metadata": {},
   "outputs": [
    {
     "name": "stderr",
     "output_type": "stream",
     "text": [
      "100%|████████████████████████████████████████████████████████████████████████████████████████████████████████████████████████████████████████████████████████████████| 103074/103074 [00:48<00:00, 2129.81it/s]\n"
     ]
    }
   ],
   "source": [
    "data_per_user = data.groupby('uid').progress_apply(lambda d: pd.DataFrame({'name' : [d['name'].values[0]], 'bio' : [d['bio'].values[0]], 'text' : [' '.join(d['text'])] }))"
   ]
  },
  {
   "cell_type": "code",
   "execution_count": 67,
   "id": "fd83a5b9-efce-4760-b5f0-3c6b065836ed",
   "metadata": {},
   "outputs": [
    {
     "name": "stderr",
     "output_type": "stream",
     "text": [
      "100%|████████████████████████████████████████████████████████████████████████████████████████████████████████████████████████████████████████████████████████████████| 103074/103074 [00:34<00:00, 3021.44it/s]\n"
     ]
    }
   ],
   "source": [
    "emojis = data_per_user.progress_apply(lambda row: extract_emojis(row['name'] + row['bio'] + row['text']), axis=1)"
   ]
  },
  {
   "cell_type": "code",
   "execution_count": 68,
   "id": "e8c9320d-6c3b-4227-a25d-225c84d477d8",
   "metadata": {},
   "outputs": [
    {
     "name": "stderr",
     "output_type": "stream",
     "text": [
      "100%|██████████████████████████████████████████████████████████████████████████████████████████████████████████████████████████████████████████████████████████████| 103074/103074 [00:00<00:00, 874961.43it/s]\n",
      "100%|██████████████████████████████████████████████████████████████████████████████████████████████████████████████████████████████████████████████████████████████| 103074/103074 [00:00<00:00, 865563.15it/s]\n",
      "100%|██████████████████████████████████████████████████████████████████████████████████████████████████████████████████████████████████████████████████████████████| 103074/103074 [00:00<00:00, 879434.19it/s]\n",
      "100%|██████████████████████████████████████████████████████████████████████████████████████████████████████████████████████████████████████████████████████████████| 103074/103074 [00:00<00:00, 881620.34it/s]\n",
      "100%|██████████████████████████████████████████████████████████████████████████████████████████████████████████████████████████████████████████████████████████████| 103074/103074 [00:00<00:00, 898618.76it/s]\n",
      "100%|██████████████████████████████████████████████████████████████████████████████████████████████████████████████████████████████████████████████████████████████| 103074/103074 [00:00<00:00, 882747.23it/s]\n",
      "100%|██████████████████████████████████████████████████████████████████████████████████████████████████████████████████████████████████████████████████████████████| 103074/103074 [00:00<00:00, 896421.95it/s]\n",
      "100%|██████████████████████████████████████████████████████████████████████████████████████████████████████████████████████████████████████████████████████████████| 103074/103074 [00:00<00:00, 896529.77it/s]\n",
      "100%|██████████████████████████████████████████████████████████████████████████████████████████████████████████████████████████████████████████████████████████████| 103074/103074 [00:00<00:00, 887885.11it/s]\n"
     ]
    }
   ],
   "source": [
    "flags = ['🇦🇺','🇺🇸','🇺🇳','🏳️‍🌈','🏳️‍⚧️','🌈', '💣', '🔪','☕']\n",
    "for flag in flags:\n",
    "    data_per_user[flag] = emojis.progress_apply(lambda l: len([x for x in l if x == flag]))"
   ]
  },
  {
   "cell_type": "code",
   "execution_count": 69,
   "id": "6cefced7-31f5-432d-ad2b-f3dc06867f61",
   "metadata": {},
   "outputs": [],
   "source": [
    "data_per_user = data_per_user.reset_index(drop=False)"
   ]
  },
  {
   "cell_type": "code",
   "execution_count": 70,
   "id": "2d389dd9-922e-41b2-9b3e-22bfbd22950c",
   "metadata": {},
   "outputs": [
    {
     "data": {
      "text/html": [
       "<div>\n",
       "<style scoped>\n",
       "    .dataframe tbody tr th:only-of-type {\n",
       "        vertical-align: middle;\n",
       "    }\n",
       "\n",
       "    .dataframe tbody tr th {\n",
       "        vertical-align: top;\n",
       "    }\n",
       "\n",
       "    .dataframe thead th {\n",
       "        text-align: right;\n",
       "    }\n",
       "</style>\n",
       "<table border=\"1\" class=\"dataframe\">\n",
       "  <thead>\n",
       "    <tr style=\"text-align: right;\">\n",
       "      <th></th>\n",
       "      <th>uid</th>\n",
       "      <th>🇦🇺</th>\n",
       "      <th>🇺🇸</th>\n",
       "      <th>🇺🇳</th>\n",
       "      <th>🏳️‍🌈</th>\n",
       "      <th>🏳️‍⚧️</th>\n",
       "      <th>🌈</th>\n",
       "      <th>💣</th>\n",
       "      <th>🔪</th>\n",
       "      <th>☕</th>\n",
       "    </tr>\n",
       "  </thead>\n",
       "  <tbody>\n",
       "    <tr>\n",
       "      <th>0</th>\n",
       "      <td>1000001245946490880</td>\n",
       "      <td>0</td>\n",
       "      <td>0</td>\n",
       "      <td>0</td>\n",
       "      <td>0</td>\n",
       "      <td>0</td>\n",
       "      <td>0</td>\n",
       "      <td>0</td>\n",
       "      <td>0</td>\n",
       "      <td>0</td>\n",
       "    </tr>\n",
       "    <tr>\n",
       "      <th>1</th>\n",
       "      <td>1000022700092411904</td>\n",
       "      <td>0</td>\n",
       "      <td>0</td>\n",
       "      <td>0</td>\n",
       "      <td>0</td>\n",
       "      <td>0</td>\n",
       "      <td>0</td>\n",
       "      <td>0</td>\n",
       "      <td>0</td>\n",
       "      <td>0</td>\n",
       "    </tr>\n",
       "    <tr>\n",
       "      <th>2</th>\n",
       "      <td>1000111986917572608</td>\n",
       "      <td>0</td>\n",
       "      <td>0</td>\n",
       "      <td>0</td>\n",
       "      <td>0</td>\n",
       "      <td>0</td>\n",
       "      <td>0</td>\n",
       "      <td>0</td>\n",
       "      <td>0</td>\n",
       "      <td>0</td>\n",
       "    </tr>\n",
       "    <tr>\n",
       "      <th>3</th>\n",
       "      <td>1000127207048728576</td>\n",
       "      <td>0</td>\n",
       "      <td>0</td>\n",
       "      <td>0</td>\n",
       "      <td>0</td>\n",
       "      <td>0</td>\n",
       "      <td>0</td>\n",
       "      <td>0</td>\n",
       "      <td>0</td>\n",
       "      <td>0</td>\n",
       "    </tr>\n",
       "    <tr>\n",
       "      <th>4</th>\n",
       "      <td>1000175125608583168</td>\n",
       "      <td>0</td>\n",
       "      <td>0</td>\n",
       "      <td>0</td>\n",
       "      <td>0</td>\n",
       "      <td>0</td>\n",
       "      <td>0</td>\n",
       "      <td>0</td>\n",
       "      <td>0</td>\n",
       "      <td>0</td>\n",
       "    </tr>\n",
       "    <tr>\n",
       "      <th>...</th>\n",
       "      <td>...</td>\n",
       "      <td>...</td>\n",
       "      <td>...</td>\n",
       "      <td>...</td>\n",
       "      <td>...</td>\n",
       "      <td>...</td>\n",
       "      <td>...</td>\n",
       "      <td>...</td>\n",
       "      <td>...</td>\n",
       "      <td>...</td>\n",
       "    </tr>\n",
       "    <tr>\n",
       "      <th>103069</th>\n",
       "      <td>999931831364435968</td>\n",
       "      <td>0</td>\n",
       "      <td>0</td>\n",
       "      <td>0</td>\n",
       "      <td>0</td>\n",
       "      <td>0</td>\n",
       "      <td>0</td>\n",
       "      <td>0</td>\n",
       "      <td>0</td>\n",
       "      <td>0</td>\n",
       "    </tr>\n",
       "    <tr>\n",
       "      <th>103070</th>\n",
       "      <td>999937171766235136</td>\n",
       "      <td>0</td>\n",
       "      <td>0</td>\n",
       "      <td>0</td>\n",
       "      <td>0</td>\n",
       "      <td>0</td>\n",
       "      <td>0</td>\n",
       "      <td>0</td>\n",
       "      <td>0</td>\n",
       "      <td>0</td>\n",
       "    </tr>\n",
       "    <tr>\n",
       "      <th>103071</th>\n",
       "      <td>999954234119356416</td>\n",
       "      <td>0</td>\n",
       "      <td>0</td>\n",
       "      <td>0</td>\n",
       "      <td>0</td>\n",
       "      <td>0</td>\n",
       "      <td>0</td>\n",
       "      <td>0</td>\n",
       "      <td>0</td>\n",
       "      <td>0</td>\n",
       "    </tr>\n",
       "    <tr>\n",
       "      <th>103072</th>\n",
       "      <td>999960633960316929</td>\n",
       "      <td>0</td>\n",
       "      <td>0</td>\n",
       "      <td>0</td>\n",
       "      <td>0</td>\n",
       "      <td>0</td>\n",
       "      <td>0</td>\n",
       "      <td>0</td>\n",
       "      <td>0</td>\n",
       "      <td>0</td>\n",
       "    </tr>\n",
       "    <tr>\n",
       "      <th>103073</th>\n",
       "      <td>999968158231363585</td>\n",
       "      <td>0</td>\n",
       "      <td>0</td>\n",
       "      <td>0</td>\n",
       "      <td>0</td>\n",
       "      <td>0</td>\n",
       "      <td>0</td>\n",
       "      <td>0</td>\n",
       "      <td>0</td>\n",
       "      <td>0</td>\n",
       "    </tr>\n",
       "  </tbody>\n",
       "</table>\n",
       "<p>103074 rows × 10 columns</p>\n",
       "</div>"
      ],
      "text/plain": [
       "                        uid  🇦🇺  🇺🇸  🇺🇳  🏳️‍🌈  🏳️‍⚧️  🌈  💣  🔪  ☕\n",
       "0       1000001245946490880   0   0   0     0      0  0  0  0  0\n",
       "1       1000022700092411904   0   0   0     0      0  0  0  0  0\n",
       "2       1000111986917572608   0   0   0     0      0  0  0  0  0\n",
       "3       1000127207048728576   0   0   0     0      0  0  0  0  0\n",
       "4       1000175125608583168   0   0   0     0      0  0  0  0  0\n",
       "...                     ...  ..  ..  ..   ...    ... .. .. .. ..\n",
       "103069   999931831364435968   0   0   0     0      0  0  0  0  0\n",
       "103070   999937171766235136   0   0   0     0      0  0  0  0  0\n",
       "103071   999954234119356416   0   0   0     0      0  0  0  0  0\n",
       "103072   999960633960316929   0   0   0     0      0  0  0  0  0\n",
       "103073   999968158231363585   0   0   0     0      0  0  0  0  0\n",
       "\n",
       "[103074 rows x 10 columns]"
      ]
     },
     "execution_count": 70,
     "metadata": {},
     "output_type": "execute_result"
    }
   ],
   "source": [
    "data_per_user[['uid'] + flags]"
   ]
  },
  {
   "cell_type": "code",
   "execution_count": 71,
   "id": "bd474ca5-c547-4e78-a65b-bad31675eae7",
   "metadata": {},
   "outputs": [],
   "source": [
    "data_per_user[['uid'] + flags].to_csv(os.path.join(base_dir,'data','01_raw_data',dataset_name,'emoji_count.csv'))"
   ]
  }
 ],
 "metadata": {
  "kernelspec": {
   "display_name": "rr",
   "language": "python",
   "name": "rr"
  },
  "language_info": {
   "codemirror_mode": {
    "name": "ipython",
    "version": 3
   },
   "file_extension": ".py",
   "mimetype": "text/x-python",
   "name": "python",
   "nbconvert_exporter": "python",
   "pygments_lexer": "ipython3",
   "version": "3.10.4"
  }
 },
 "nbformat": 4,
 "nbformat_minor": 5
}
