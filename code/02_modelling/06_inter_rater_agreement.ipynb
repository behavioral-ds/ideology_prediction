{
 "cells": [
  {
   "cell_type": "markdown",
   "id": "efb467a2",
   "metadata": {},
   "source": [
    "# Calculate Inter-annotator Agreement from Manual Validation Set"
   ]
  },
  {
   "cell_type": "code",
   "execution_count": 42,
   "id": "60a80051-14a7-4aa3-8d71-d9a56f80f4d2",
   "metadata": {},
   "outputs": [],
   "source": [
    "from dotenv import load_dotenv\n",
    "import os\n",
    "import pandas as pd\n",
    "load_dotenv()\n",
    "import pickle as pk\n",
    "import numpy as np\n",
    "from pathlib import Path\n",
    "base_dir = os.getenv('BASEDIR')\n",
    "\n",
    "from tqdm import tqdm\n",
    "tqdm.pandas()\n",
    "\n",
    "from sklearn.metrics import cohen_kappa_score"
   ]
  },
  {
   "cell_type": "code",
   "execution_count": 43,
   "id": "b9e2a706-6bf5-4c8e-bf6a-45308ac9d75f",
   "metadata": {},
   "outputs": [],
   "source": [
    "manual_validation = pd.read_csv(os.path.join(base_dir,'data','02_ground_truth_data','manual_validation','qanda_validated_2.csv'), dtype=str)\n",
    "manual_validation['stance'] = manual_validation.label.astype(int)\n",
    "manual_validation['uid'] = manual_validation.UID"
   ]
  },
  {
   "cell_type": "code",
   "execution_count": 44,
   "id": "21fa917e-d68b-4d9b-96a4-122642076c6c",
   "metadata": {},
   "outputs": [],
   "source": [
    "group_manual_validation = pd.read_csv(os.path.join(base_dir,'data','02_ground_truth_data','group_qanda_manual_annotation.csv'), dtype=str)\n",
    "group_manual_validation['stance'] = group_manual_validation.label.astype(int)\n",
    "group_manual_validation['uid'] = group_manual_validation.UID"
   ]
  },
  {
   "cell_type": "code",
   "execution_count": 47,
   "id": "366ba510-d629-4987-ad8c-2dcf18af95d3",
   "metadata": {},
   "outputs": [],
   "source": [
    "df = pd.merge(group_manual_validation[['uid','stance','Person']], manual_validation[['uid','stance']], on='uid', how='left')"
   ]
  },
  {
   "cell_type": "code",
   "execution_count": 49,
   "id": "02a9bac5-62fc-414b-97b6-b416091b4a73",
   "metadata": {},
   "outputs": [
    {
     "data": {
      "text/plain": [
       "0.5146520146520146"
      ]
     },
     "execution_count": 49,
     "metadata": {},
     "output_type": "execute_result"
    }
   ],
   "source": [
    "cohen_kappa_score(df.stance_x, df.stance_y)"
   ]
  },
  {
   "cell_type": "code",
   "execution_count": 53,
   "id": "c5c30625-89d9-4b4b-8767-f8911d0541ed",
   "metadata": {},
   "outputs": [
    {
     "data": {
      "text/plain": [
       "0.7047368421052631"
      ]
     },
     "execution_count": 53,
     "metadata": {},
     "output_type": "execute_result"
    }
   ],
   "source": [
    "cohen_kappa_score(df[~df.Person.isin(['4','7','8'])].stance_x, df[~df.Person.isin(['4','7','8'])].stance_y)"
   ]
  },
  {
   "cell_type": "code",
   "execution_count": 50,
   "id": "6698a90c-0cb6-4b07-8ab6-1ac03ff80bd3",
   "metadata": {},
   "outputs": [
    {
     "data": {
      "text/plain": [
       "Person\n",
       "1    0.641791\n",
       "3    0.693878\n",
       "4    0.239437\n",
       "5    0.669118\n",
       "6    0.794937\n",
       "7    0.283186\n",
       "8    0.231499\n",
       "dtype: float64"
      ]
     },
     "execution_count": 50,
     "metadata": {},
     "output_type": "execute_result"
    }
   ],
   "source": [
    "df.groupby('Person').apply(lambda d: cohen_kappa_score(d.stance_x, d.stance_y))"
   ]
  },
  {
   "cell_type": "code",
   "execution_count": 22,
   "id": "42b60fa3-680d-4053-9acf-d46151e0a3fe",
   "metadata": {},
   "outputs": [],
   "source": [
    "mask = (df.stance_x == -1) | (df.stance_y == -1)"
   ]
  },
  {
   "cell_type": "code",
   "execution_count": 17,
   "id": "edc2557f-8d1f-42c5-9690-778856b82814",
   "metadata": {},
   "outputs": [
    {
     "data": {
      "text/plain": [
       "0.5146520146520146"
      ]
     },
     "execution_count": 17,
     "metadata": {},
     "output_type": "execute_result"
    }
   ],
   "source": [
    "cohen_kappa_score(df.stance_x, df.stance_y)"
   ]
  }
 ],
 "metadata": {
  "kernelspec": {
   "display_name": "rr",
   "language": "python",
   "name": "rr"
  },
  "language_info": {
   "codemirror_mode": {
    "name": "ipython",
    "version": 3
   },
   "file_extension": ".py",
   "mimetype": "text/x-python",
   "name": "python",
   "nbconvert_exporter": "python",
   "pygments_lexer": "ipython3",
   "version": "3.10.4"
  }
 },
 "nbformat": 4,
 "nbformat_minor": 5
}
