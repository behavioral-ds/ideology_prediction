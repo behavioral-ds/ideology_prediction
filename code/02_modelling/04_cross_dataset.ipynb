{
 "cells": [
  {
   "cell_type": "markdown",
   "id": "8811852d",
   "metadata": {},
   "source": [
    "# Calculate Cross Dataset Performance"
   ]
  },
  {
   "cell_type": "code",
   "execution_count": null,
   "id": "6ce73e7f",
   "metadata": {},
   "outputs": [],
   "source": [
    "from dotenv import load_dotenv\n",
    "import os\n",
    "import pandas as pd\n",
    "load_dotenv()\n",
    "import pickle as pk\n",
    "import numpy as np\n",
    "from pathlib import Path\n",
    "base_dir = os.getenv('BASEDIR')\n",
    "\n",
    "from tqdm import tqdm\n",
    "tqdm.pandas()\n",
    "\n",
    "# from lightgbm import LGBMClassifier\n",
    "from flaml.default import LGBMClassifier\n",
    "from itertools import chain, combinations\n",
    "\n",
    "import pandas as pd\n",
    "import os \n",
    "import re\n",
    "import numpy as np\n",
    "from tqdm import tqdm\n",
    "\n",
    "from sklearn.model_selection import cross_val_predict, StratifiedKFold\n",
    "from sklearn.metrics import roc_auc_score, f1_score\n",
    "from sklearn.datasets import make_classification\n",
    "\n",
    "import os\n",
    "from collections import defaultdict"
   ]
  },
  {
   "cell_type": "code",
   "execution_count": null,
   "id": "a08fb95f",
   "metadata": {},
   "outputs": [],
   "source": [
    "datasets = ['qanda','ausvotes','socialsense','riot','parler']"
   ]
  },
  {
   "cell_type": "code",
   "execution_count": null,
   "id": "bf46d4af",
   "metadata": {},
   "outputs": [],
   "source": [
    "performance = {dataset : {} for dataset in datasets}\n",
    "gt_f1 = {dataset : {} for dataset in datasets}"
   ]
  },
  {
   "cell_type": "code",
   "execution_count": null,
   "id": "6797fb83",
   "metadata": {},
   "outputs": [],
   "source": [
    "import itertools\n",
    "def all_combinations(l):\n",
    "    return(itertools.product(l, repeat=2))"
   ]
  },
  {
   "cell_type": "code",
   "execution_count": null,
   "id": "c5fea4d5",
   "metadata": {
    "tags": []
   },
   "outputs": [],
   "source": [
    "granularity = '_per_user'\n",
    "feature_set = ['use']\n",
    "ground_truth = 'URL_LR'\n",
    "for train, test in itertools.chain(all_combinations(datasets)):\n",
    "    train_path = os.path.join(base_dir,'data','03_processed',train,'ground_truth', train+'_'+ground_truth+'_'+granularity+'.pk')\n",
    "    if not os.path.exists(train_path):\n",
    "        continue\n",
    "    test_path = os.path.join(base_dir,'data','03_processed',test,'ground_truth', test+'_'+ground_truth+'_'+granularity+'.pk')\n",
    "    if not os.path.exists(test_path):\n",
    "        continue\n",
    "#         print(train, test)\n",
    "    def load_vector(fp):\n",
    "        with open(fp, 'rb') as rf:\n",
    "            vec = pk.load(rf)\n",
    "        return vec\n",
    "    \n",
    "    y_train = load_vector(train_path).values\n",
    "    mask_train = y_train >= 0\n",
    "\n",
    "    y_test = load_vector(test_path).values\n",
    "    mask_test = y_test >= 0\n",
    "    if any(mask_train):\n",
    "        y_train = y_train[mask_train]\n",
    "        feature_paths = [os.path.join(base_dir,'data','03_processed',train,'features', train+'_'+feature+'_'+granularity+'.pk') for feature in feature_set]\n",
    "        X_train = np.asarray(np.hstack([load_vector(fp) for fp in feature_paths]))\n",
    "        X_train = X_train[mask_train]\n",
    "\n",
    "        y_test = y_test[mask_test]\n",
    "        feature_paths = [os.path.join(base_dir,'data','03_processed',test,'features', test+'_'+feature+'_'+granularity+'.pk') for feature in feature_set]\n",
    "        X_test = np.asarray(np.hstack([load_vector(fp) for fp in feature_paths]))\n",
    "        X_test = X_test[mask_test]\n",
    "\n",
    "        et = LGBMClassifier(is_unbalance=True,n_estimators=200, n_jobs=-1, verbose=-1, seed=123)\n",
    "        if train == test:\n",
    "            skf = StratifiedKFold(n_splits=5, shuffle=True)\n",
    "            preds = cross_val_predict(et, X_train, y_train, cv=skf, method='predict_proba')\n",
    "        else:\n",
    "            et.fit(X_train,y_train)\n",
    "            preds = et.predict_proba(X_test)\n",
    "        # evaluating the model\n",
    "        print('Area under the ROC Curve:', roc_auc_score(y_test, preds, multi_class='ovo'))\n",
    "\n",
    "        performance[train][test] = roc_auc_score(y_test, preds, multi_class='ovo')"
   ]
  },
  {
   "cell_type": "code",
   "execution_count": null,
   "id": "74467da3",
   "metadata": {},
   "outputs": [],
   "source": [
    "col_order = datasets\n",
    "performance_df =  pd.DataFrame(performance).reindex(index=col_order, columns=col_order) "
   ]
  },
  {
   "cell_type": "code",
   "execution_count": null,
   "id": "cc33d8f8",
   "metadata": {},
   "outputs": [],
   "source": [
    "performance_df.to_csv(os.path.join(base_dir, 'data', '04_results', 'cross_dataset_auc.csv'))"
   ]
  },
  {
   "cell_type": "code",
   "execution_count": null,
   "id": "c86746da",
   "metadata": {},
   "outputs": [],
   "source": []
  }
 ],
 "metadata": {
  "kernelspec": {
   "display_name": "rr",
   "language": "python",
   "name": "rr"
  },
  "language_info": {
   "codemirror_mode": {
    "name": "ipython",
    "version": 3
   },
   "file_extension": ".py",
   "mimetype": "text/x-python",
   "name": "python",
   "nbconvert_exporter": "python",
   "pygments_lexer": "ipython3",
   "version": "3.10.4"
  }
 },
 "nbformat": 4,
 "nbformat_minor": 5
}
