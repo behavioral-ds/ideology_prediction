{
 "cells": [
  {
   "cell_type": "markdown",
   "id": "f1f6de9e",
   "metadata": {},
   "source": [
    "## Compute Hopkins Statistics"
   ]
  },
  {
   "cell_type": "code",
   "execution_count": 9,
   "id": "98248366-8fe5-4157-86d3-847311a63371",
   "metadata": {},
   "outputs": [],
   "source": [
    "from dotenv import load_dotenv\n",
    "import os\n",
    "import pandas as pd\n",
    "load_dotenv()\n",
    "import pickle as pk\n",
    "import numpy as np\n",
    "from pathlib import Path\n",
    "base_dir = os.getenv('BASEDIR')\n",
    "\n",
    "from tqdm import tqdm\n",
    "tqdm.pandas()"
   ]
  },
  {
   "cell_type": "code",
   "execution_count": 10,
   "id": "d87b5e77-f981-493c-a32a-2dad5c4210ce",
   "metadata": {},
   "outputs": [
    {
     "name": "stderr",
     "output_type": "stream",
     "text": [
      "2023-02-28 12:53:14.947176: I tensorflow/core/platform/cpu_feature_guard.cc:193] This TensorFlow binary is optimized with oneAPI Deep Neural Network Library (oneDNN) to use the following CPU instructions in performance-critical operations:  AVX2 AVX512F AVX512_VNNI FMA\n",
      "To enable them in other operations, rebuild TensorFlow with the appropriate compiler flags.\n",
      "2023-02-28 12:53:17.863529: I tensorflow/core/util/util.cc:169] oneDNN custom operations are on. You may see slightly different numerical results due to floating-point round-off errors from different computation orders. To turn them off, set the environment variable `TF_ENABLE_ONEDNN_OPTS=0`.\n",
      "2023-02-28 12:53:19.073004: W tensorflow/stream_executor/platform/default/dso_loader.cc:64] Could not load dynamic library 'libcudart.so.11.0'; dlerror: libcudart.so.11.0: cannot open shared object file: No such file or directory; LD_LIBRARY_PATH: /home/roram/anaconda3/lib:\n",
      "2023-02-28 12:53:19.073024: I tensorflow/stream_executor/cuda/cudart_stub.cc:29] Ignore above cudart dlerror if you do not have a GPU set up on your machine.\n",
      "2023-02-28 12:53:19.356415: E tensorflow/stream_executor/cuda/cuda_blas.cc:2981] Unable to register cuBLAS factory: Attempting to register factory for plugin cuBLAS when one has already been registered\n",
      "2023-02-28 12:54:11.331294: W tensorflow/stream_executor/platform/default/dso_loader.cc:64] Could not load dynamic library 'libnvinfer.so.7'; dlerror: libnvinfer.so.7: cannot open shared object file: No such file or directory; LD_LIBRARY_PATH: /home/roram/anaconda3/lib:\n",
      "2023-02-28 12:54:11.333451: W tensorflow/stream_executor/platform/default/dso_loader.cc:64] Could not load dynamic library 'libnvinfer_plugin.so.7'; dlerror: libnvinfer_plugin.so.7: cannot open shared object file: No such file or directory; LD_LIBRARY_PATH: /home/roram/anaconda3/lib:\n",
      "2023-02-28 12:54:11.333490: W tensorflow/compiler/tf2tensorrt/utils/py_utils.cc:38] TF-TRT Warning: Cannot dlopen some TensorRT libraries. If you would like to use Nvidia GPU with TensorRT, please make sure the missing libraries mentioned above are installed properly.\n"
     ]
    }
   ],
   "source": [
    "import pandas as pd\n",
    "import os \n",
    "import re\n",
    "import numpy as np\n",
    "from tqdm import tqdm\n",
    "from itertools import chain, combinations\n",
    "from collections import defaultdict\n",
    "from pyclustertend import hopkins\n",
    "\n",
    "import umap"
   ]
  },
  {
   "cell_type": "code",
   "execution_count": 11,
   "id": "ae4fe716-866c-42ba-ae90-526a9af61e03",
   "metadata": {},
   "outputs": [],
   "source": [
    "datasets = ['qanda','ausvotes','socialsense','riot','parler']"
   ]
  },
  {
   "cell_type": "code",
   "execution_count": 18,
   "id": "5d7f9efe-185c-4be9-89da-191c06985fde",
   "metadata": {},
   "outputs": [],
   "source": [
    "features = ['use']#, 'ht', 'rt']"
   ]
  },
  {
   "cell_type": "code",
   "execution_count": 19,
   "id": "f4c90ada-7e4d-42be-9b0f-a2759adaf4e0",
   "metadata": {},
   "outputs": [],
   "source": [
    "def load_vector(fp):\n",
    "        with open(fp, 'rb') as rf:\n",
    "            vec = pk.load(rf)\n",
    "        return vec\n",
    "\n",
    "def all_subsets(ss):\n",
    "    return chain(*map(lambda x: combinations(ss, x), range(1, len(ss)+1)))"
   ]
  },
  {
   "cell_type": "code",
   "execution_count": 20,
   "id": "24da3813-104e-42d0-ac2f-9eabe7d603bd",
   "metadata": {},
   "outputs": [],
   "source": [
    "hopkins_stats = defaultdict(dict)"
   ]
  },
  {
   "cell_type": "code",
   "execution_count": 21,
   "id": "2f174a20-9b0f-4928-a4d9-f639b74f05cc",
   "metadata": {},
   "outputs": [
    {
     "name": "stderr",
     "output_type": "stream",
     "text": [
      "  0%|                                                                                                                                                                                    | 0/5 [00:00<?, ?it/s]\n",
      "  0%|                                                                                                                                                                                    | 0/1 [00:00<?, ?it/s]\u001b[A"
     ]
    },
    {
     "name": "stdout",
     "output_type": "stream",
     "text": [
      "qanda ('use',)\n"
     ]
    },
    {
     "name": "stderr",
     "output_type": "stream",
     "text": [
      "\n",
      "100%|████████████████████████████████████████████████████████████████████████████████████████████████████████████████████████████████████████████████████████████████████████████| 1/1 [00:58<00:00, 58.43s/it]\u001b[A\n",
      " 20%|██████████████████████████████████▍                                                                                                                                         | 1/5 [00:58<03:53, 58.43s/it]"
     ]
    },
    {
     "name": "stdout",
     "output_type": "stream",
     "text": [
      "0.2623856267641917\n"
     ]
    },
    {
     "name": "stderr",
     "output_type": "stream",
     "text": [
      "\n",
      "  0%|                                                                                                                                                                                    | 0/1 [00:00<?, ?it/s]\u001b[A"
     ]
    },
    {
     "name": "stdout",
     "output_type": "stream",
     "text": [
      "ausvotes ('use',)\n"
     ]
    },
    {
     "name": "stderr",
     "output_type": "stream",
     "text": [
      "\n",
      "100%|███████████████████████████████████████████████████████████████████████████████████████████████████████████████████████████████████████████████████████████████████████████| 1/1 [02:54<00:00, 174.89s/it]\u001b[A\n",
      " 40%|████████████████████████████████████████████████████████████████████▍                                                                                                      | 2/5 [03:53<06:20, 126.94s/it]"
     ]
    },
    {
     "name": "stdout",
     "output_type": "stream",
     "text": [
      "0.24452638791821557\n"
     ]
    },
    {
     "name": "stderr",
     "output_type": "stream",
     "text": [
      "\n",
      "  0%|                                                                                                                                                                                    | 0/1 [00:00<?, ?it/s]\u001b[A"
     ]
    },
    {
     "name": "stdout",
     "output_type": "stream",
     "text": [
      "socialsense ('use',)\n"
     ]
    },
    {
     "name": "stderr",
     "output_type": "stream",
     "text": [
      "\n",
      "100%|████████████████████████████████████████████████████████████████████████████████████████████████████████████████████████████████████████████████████████████████████████████| 1/1 [00:25<00:00, 25.99s/it]\u001b[A\n",
      " 60%|███████████████████████████████████████████████████████████████████████████████████████████████████████▏                                                                    | 3/5 [04:19<02:41, 80.84s/it]"
     ]
    },
    {
     "name": "stdout",
     "output_type": "stream",
     "text": [
      "0.25905788957652187\n"
     ]
    },
    {
     "name": "stderr",
     "output_type": "stream",
     "text": [
      "\n",
      "  0%|                                                                                                                                                                                    | 0/1 [00:00<?, ?it/s]\u001b[A"
     ]
    },
    {
     "name": "stdout",
     "output_type": "stream",
     "text": [
      "riot ('use',)\n"
     ]
    },
    {
     "name": "stderr",
     "output_type": "stream",
     "text": [
      "\n",
      "100%|███████████████████████████████████████████████████████████████████████████████████████████████████████████████████████████████████████████████████████████████████████████| 1/1 [05:35<00:00, 335.16s/it]\u001b[A\n",
      " 80%|████████████████████████████████████████████████████████████████████████████████████████████████████████████████████████████████████████▊                                  | 4/5 [09:54<03:01, 181.25s/it]"
     ]
    },
    {
     "name": "stdout",
     "output_type": "stream",
     "text": [
      "0.1489882188445045\n"
     ]
    },
    {
     "name": "stderr",
     "output_type": "stream",
     "text": [
      "\n",
      "  0%|                                                                                                                                                                                    | 0/1 [00:00<?, ?it/s]\u001b[A"
     ]
    },
    {
     "name": "stdout",
     "output_type": "stream",
     "text": [
      "parler ('use',)\n"
     ]
    },
    {
     "name": "stderr",
     "output_type": "stream",
     "text": [
      "\n",
      "100%|████████████████████████████████████████████████████████████████████████████████████████████████████████████████████████████████████████████████████████████████████████████| 1/1 [01:10<00:00, 70.06s/it]\u001b[A\n",
      "100%|███████████████████████████████████████████████████████████████████████████████████████████████████████████████████████████████████████████████████████████████████████████| 5/5 [11:04<00:00, 132.91s/it]"
     ]
    },
    {
     "name": "stdout",
     "output_type": "stream",
     "text": [
      "0.30161302716768307\n"
     ]
    },
    {
     "name": "stderr",
     "output_type": "stream",
     "text": [
      "\n"
     ]
    }
   ],
   "source": [
    "granularity = '_per_user'\n",
    "for dataset in tqdm(datasets):\n",
    "    for feature_set in tqdm([tuple([x]) for x in features]):\n",
    "        print(dataset, feature_set)\n",
    "        feature_paths = [os.path.join(base_dir,'data','03_processed',dataset,'features', dataset+'_'+feature+'_'+granularity+'.pk') for feature in feature_set]\n",
    "        if not all([os.path.exists(fp) for fp in feature_paths]):\n",
    "            continue\n",
    "            \n",
    "        X_train = np.asarray(np.hstack([load_vector(fp) for fp in feature_paths]))\n",
    "        \n",
    "        # reducer = umap.UMAP()\n",
    "        # X_train = reducer.fit_transform(X_train)\n",
    "        \n",
    "        hopkins_stats[dataset][feature_set] = hopkins(X_train,150)\n",
    "        print(hopkins_stats[dataset][feature_set])"
   ]
  },
  {
   "cell_type": "code",
   "execution_count": 17,
   "id": "aee9cfdc-2f68-4d9a-ab9b-445e4b73fb5f",
   "metadata": {},
   "outputs": [
    {
     "data": {
      "text/plain": [
       "defaultdict(dict,\n",
       "            {'qanda': {('use',): 0.2703586379253033,\n",
       "              ('ht',): 0.0022180180403597732,\n",
       "              ('rt',): 0.020055256878723917},\n",
       "             'ausvotes': {('use',): 0.23651639946736366,\n",
       "              ('ht',): 0.002131933152829578,\n",
       "              ('rt',): 0.013949816796146847},\n",
       "             'socialsense': {('use',): 0.22604691513438407},\n",
       "             'riot': {('use',): 0.17511261196294411}})"
      ]
     },
     "execution_count": 17,
     "metadata": {},
     "output_type": "execute_result"
    }
   ],
   "source": [
    "hopkins_stats"
   ]
  },
  {
   "cell_type": "code",
   "execution_count": 22,
   "id": "be0daf9e-fd1b-4f6b-8f67-63b34e43274b",
   "metadata": {},
   "outputs": [
    {
     "data": {
      "text/plain": [
       "defaultdict(dict,\n",
       "            {'qanda': {('use',): 0.2623856267641917},\n",
       "             'ausvotes': {('use',): 0.24452638791821557},\n",
       "             'socialsense': {('use',): 0.25905788957652187},\n",
       "             'riot': {('use',): 0.1489882188445045},\n",
       "             'parler': {('use',): 0.30161302716768307}})"
      ]
     },
     "execution_count": 22,
     "metadata": {},
     "output_type": "execute_result"
    }
   ],
   "source": [
    "hopkins_stats"
   ]
  },
  {
   "cell_type": "code",
   "execution_count": null,
   "id": "d7269b9b-2c87-4039-9720-e007037f1674",
   "metadata": {},
   "outputs": [],
   "source": []
  }
 ],
 "metadata": {
  "kernelspec": {
   "display_name": "rr",
   "language": "python",
   "name": "rr"
  },
  "language_info": {
   "codemirror_mode": {
    "name": "ipython",
    "version": 3
   },
   "file_extension": ".py",
   "mimetype": "text/x-python",
   "name": "python",
   "nbconvert_exporter": "python",
   "pygments_lexer": "ipython3",
   "version": "3.10.4"
  }
 },
 "nbformat": 4,
 "nbformat_minor": 5
}
