{
 "cells": [
  {
   "cell_type": "markdown",
   "id": "2180a211",
   "metadata": {},
   "source": [
    "# Generate the Manual Validation Set"
   ]
  },
  {
   "cell_type": "code",
   "execution_count": 121,
   "id": "60c173fb-3980-4e98-9053-67f5e51a71e5",
   "metadata": {},
   "outputs": [],
   "source": [
    "from dotenv import load_dotenv\n",
    "import os\n",
    "import pandas as pd\n",
    "load_dotenv()\n",
    "import pickle as pk\n",
    "import numpy as np\n",
    "from pathlib import Path\n",
    "base_dir = os.getenv('BASEDIR')\n",
    "\n",
    "from tqdm import tqdm\n",
    "tqdm.pandas()\n",
    "\n",
    "from lightgbm import LGBMClassifier\n",
    "from itertools import chain, combinations"
   ]
  },
  {
   "cell_type": "code",
   "execution_count": 122,
   "id": "8cf14197-8dcd-4306-83b3-af912963de5a",
   "metadata": {},
   "outputs": [],
   "source": [
    "import pandas as pd\n",
    "import os \n",
    "import re\n",
    "import numpy as np\n",
    "from tqdm import tqdm\n",
    "\n",
    "from sklearn.model_selection import cross_val_predict, StratifiedKFold\n",
    "from sklearn.metrics import roc_auc_score, f1_score\n",
    "from sklearn.datasets import make_classification\n",
    "\n",
    "import os\n",
    "from collections import defaultdict"
   ]
  },
  {
   "cell_type": "code",
   "execution_count": 123,
   "id": "11d8a422-1f5f-4f65-ad28-0ad1a63feac8",
   "metadata": {},
   "outputs": [],
   "source": [
    "lr_groundtruths =['HASHTAG','URL_LR','POLITICIAN_1H_LR', 'PARTY_FOLLOWER_LR']"
   ]
  },
  {
   "cell_type": "code",
   "execution_count": 124,
   "id": "c0cadf0b-8aeb-43c1-802f-45b4bd82823d",
   "metadata": {},
   "outputs": [],
   "source": [
    "def load_vector(fp):\n",
    "    with open(fp, 'rb') as rf:\n",
    "        vec = pk.load(rf)\n",
    "    return vec"
   ]
  },
  {
   "cell_type": "code",
   "execution_count": 125,
   "id": "48417e22-191f-4248-9338-6c9e843dc3a2",
   "metadata": {},
   "outputs": [],
   "source": [
    "predictions = {}"
   ]
  },
  {
   "cell_type": "code",
   "execution_count": 126,
   "id": "bc64d5ed-7be0-4423-bc22-327ea5308db4",
   "metadata": {},
   "outputs": [],
   "source": [
    "granularity = '_per_user'\n",
    "feature = 'use'\n",
    "dataset='qanda'\n",
    "for gt in lr_groundtruths:\n",
    "    train_path = os.path.join(base_dir,'data','03_processed',dataset,'ground_truth', dataset+'_'+gt+'_'+granularity+'.pk')\n",
    "    y_train = load_vector(train_path).values\n",
    "    mask = y_train >= 0\n",
    "    if any(mask):\n",
    "        y = y_train[mask]\n",
    "        feature_path = os.path.join(base_dir,'data','03_processed',dataset,'features', dataset+'_'+feature+'_'+granularity+'.pk')\n",
    "        X_orig = load_vector(feature_path)\n",
    "        X = X_orig[mask]\n",
    "        et = LGBMClassifier(n_estimators=100,colsample_bytree=0.8, class_weight='balanced', n_jobs=-1, random_seed=123)\n",
    "        et.fit(X,y)\n",
    "        preds = et.predict_proba(X_orig)\n",
    "        predictions[gt] = preds"
   ]
  },
  {
   "cell_type": "code",
   "execution_count": 127,
   "id": "9af1396b-eb63-4c2f-b3cf-3712a7bb4ede",
   "metadata": {},
   "outputs": [],
   "source": [
    "with open(os.path.join(base_dir,'data','01_raw_data',dataset,dataset+'_per_user.pk'), 'rb') as rf:\n",
    "    data = pk.load(rf).reset_index(drop=False)"
   ]
  },
  {
   "cell_type": "code",
   "execution_count": 128,
   "id": "310082f4-4f09-40b1-9b27-fbf6125bee1b",
   "metadata": {},
   "outputs": [],
   "source": [
    "left_scores = pd.DataFrame({'uid':data.uid.values, **{k: v[:,1] for k, v in predictions.items()}})"
   ]
  },
  {
   "cell_type": "code",
   "execution_count": 129,
   "id": "bc48e12b-4249-4ca4-81f1-5f05537f1a50",
   "metadata": {},
   "outputs": [],
   "source": [
    "right_scores = pd.DataFrame({'uid':data.uid.values, **{k: v[:,2] for k, v in predictions.items()}})"
   ]
  },
  {
   "cell_type": "code",
   "execution_count": 130,
   "id": "5f0c9a23-7ac0-4ad4-b037-e0303733f08b",
   "metadata": {},
   "outputs": [],
   "source": [
    "predictions_df = pd.merge(left_scores, right_scores, on='uid', suffixes=('_left', '_right'))"
   ]
  },
  {
   "cell_type": "code",
   "execution_count": 131,
   "id": "afbf6ae6-5c7e-4554-9546-7ce00c8f5e4a",
   "metadata": {},
   "outputs": [],
   "source": [
    "uids = set()\n",
    "for gt in lr_groundtruths:\n",
    "    for side in ['left', 'right']:\n",
    "        uids = uids | set(predictions_df.sort_values('_'.join([gt,side]), ascending=False).uid.iloc[:100].values)"
   ]
  },
  {
   "cell_type": "code",
   "execution_count": 132,
   "id": "1230ac59-1255-4f84-a3c2-6a0959ca2ed0",
   "metadata": {},
   "outputs": [],
   "source": [
    "Path( os.path.join(base_dir,'data','02_ground_truth_data','manual_validation') ).mkdir( parents=True, exist_ok=True )"
   ]
  },
  {
   "cell_type": "code",
   "execution_count": 133,
   "id": "42804993-821d-472e-b28f-cea5dea30156",
   "metadata": {},
   "outputs": [],
   "source": [
    "pd.Series(list(uids)).sample(frac=1.0, random_state=123).to_csv(os.path.join(base_dir,'data','02_ground_truth_data','manual_validation', 'qanda_to_validate.txt'), header=False, index=False)"
   ]
  },
  {
   "cell_type": "code",
   "execution_count": null,
   "id": "7932f124-08f2-4886-a539-45dcdfb2a9cd",
   "metadata": {},
   "outputs": [],
   "source": []
  }
 ],
 "metadata": {
  "kernelspec": {
   "display_name": "rr",
   "language": "python",
   "name": "rr"
  },
  "language_info": {
   "codemirror_mode": {
    "name": "ipython",
    "version": 3
   },
   "file_extension": ".py",
   "mimetype": "text/x-python",
   "name": "python",
   "nbconvert_exporter": "python",
   "pygments_lexer": "ipython3",
   "version": "3.10.4"
  }
 },
 "nbformat": 4,
 "nbformat_minor": 5
}
