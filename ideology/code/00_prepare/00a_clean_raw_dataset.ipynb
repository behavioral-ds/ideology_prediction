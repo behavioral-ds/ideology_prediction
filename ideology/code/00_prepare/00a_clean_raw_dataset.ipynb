{
 "cells": [
  {
   "cell_type": "code",
   "execution_count": 2,
   "id": "fbd73b7d",
   "metadata": {},
   "outputs": [],
   "source": [
    "from dotenv import load_dotenv\n",
    "import os\n",
    "import pandas as pd\n",
    "load_dotenv()\n",
    "base_dir = os.getenv('BASEDIR')\n",
    "import re\n",
    "import pickle as pk\n",
    "from tqdm import tqdm\n",
    "tqdm.pandas()"
   ]
  },
  {
   "cell_type": "code",
   "execution_count": 2,
   "id": "eb3b09cf-3ed1-460e-9854-c71519506167",
   "metadata": {},
   "outputs": [],
   "source": [
    "activity_profile = {}"
   ]
  },
  {
   "cell_type": "markdown",
   "id": "5f995e90",
   "metadata": {},
   "source": [
    "### Qanda"
   ]
  },
  {
   "cell_type": "code",
   "execution_count": 43,
   "id": "22fe952b-799c-4dbb-948b-156fdfded89c",
   "metadata": {},
   "outputs": [],
   "source": [
    "import emoji\n",
    "\n",
    "def extract_emojis(s):\n",
    "    # return(''.join(c for c in s if c in emoji.UNICODE_EMOJI['en']))\n",
    "    return(emoji.distinct_emoji_list(s))"
   ]
  },
  {
   "cell_type": "code",
   "execution_count": 45,
   "id": "1a5bb107-dbb8-4837-9d6a-c3c050303655",
   "metadata": {},
   "outputs": [],
   "source": [
    "dataset_name='qanda'\n",
    "data = pd.read_csv(os.path.join(base_dir,'data','01_raw_data','qanda','qanda_emoji.csv'), dtype=str, names=['tid', 'rid' ,'qid', 'uid','name', 'bio', 'date', 'text_extended', 'text', 'hashtags', 'hashtags_extended', 'mentions', 'mentions_extended', 'urls_extended', 'urls'], index_col=False)\n",
    "\n",
    "data['text'] = data['text'].fillna('')\n",
    "data['bio'] = data['bio'].fillna('')\n",
    "data['name'] = data['name'].fillna('')"
   ]
  },
  {
   "cell_type": "code",
   "execution_count": 46,
   "id": "5f519d1b-a5c6-4f99-b7ea-fb7f21dccbe3",
   "metadata": {},
   "outputs": [
    {
     "name": "stderr",
     "output_type": "stream",
     "text": [
      "100%|████████████████████████████████████████████████████████████████████████████████████████████████████████████████████████████████████████████████████████████████| 103074/103074 [00:46<00:00, 2206.85it/s]\n"
     ]
    }
   ],
   "source": [
    "data_per_user = data.groupby('uid').progress_apply(lambda d: pd.DataFrame({'name' : [d['name'].values[0]], 'bio' : [d['bio'].values[0]], 'text' : [' '.join(d['text'])] }))"
   ]
  },
  {
   "cell_type": "code",
   "execution_count": 47,
   "id": "25e83979-e2fe-41b5-ac6d-0b3afc1d5603",
   "metadata": {},
   "outputs": [
    {
     "name": "stderr",
     "output_type": "stream",
     "text": [
      "100%|████████████████████████████████████████████████████████████████████████████████████████████████████████████████████████████████████████████████████████████████| 103074/103074 [00:28<00:00, 3635.70it/s]\n"
     ]
    }
   ],
   "source": [
    "emojis = data_per_user.progress_apply(lambda row: extract_emojis(row['name'] + row['bio'] + row['text']), axis=1)"
   ]
  },
  {
   "cell_type": "code",
   "execution_count": 49,
   "id": "f5ff56d3-3714-4a15-bedd-65cb3eb77978",
   "metadata": {},
   "outputs": [],
   "source": [
    "with open(os.path.join(base_dir,'data','01_raw_data',dataset_name,'qanda_emoji.pk'), 'wb') as wf:\n",
    "    pk.dump(emojis ,wf)"
   ]
  },
  {
   "cell_type": "code",
   "execution_count": null,
   "id": "98e50cbb-cae0-4e25-99e5-650cdd47b1f4",
   "metadata": {},
   "outputs": [],
   "source": []
  },
  {
   "cell_type": "code",
   "execution_count": null,
   "id": "6805fff7-9807-4555-a06e-1b514a7862df",
   "metadata": {},
   "outputs": [],
   "source": []
  },
  {
   "cell_type": "code",
   "execution_count": null,
   "id": "046019af-5f4e-4355-950a-94e13d6c818f",
   "metadata": {},
   "outputs": [],
   "source": [
    "dataset_name='qanda'\n",
    "data = pd.read_csv(os.path.join(base_dir,'data','01_raw_data','qanda','qanda_emoji.csv'), dtype=str)\n",
    "data['hashtags'] = data['hashtags'].fillna('').apply(lambda s: s.split(';;;'))\n",
    "data['mentions'] = data['mentions'].fillna('').apply(lambda s: s.split(';;;'))\n",
    "data['urls'] = data['urls'].fillna('').apply(lambda s: s.split(';;;'))\n",
    "# data['text_ht_censored'] = data['text'].apply(lambda t: re.sub(r'http\\S+', '<URL>', t)).apply(lambda t: re.sub(\"#[A-Za-z0-9_]+\",\"<HASHTAG>\", t)) \n",
    "data['text'] = data['text'].fillna('').apply(lambda t: re.sub(r'http\\S+', '', t)).apply(lambda t: re.sub(\"#[A-Za-z0-9_]+\",\"\", t)).apply(lambda t: re.sub(r'@\\S+', '', t))\n",
    "data['rid'] = data['rid'].combine_first(data['tid'])\n",
    "\n",
    "# with open(os.path.join(base_dir,'data','01_raw_data',dataset_name,dataset_name+'_per_post.pk'), 'wb') as wf:\n",
    "#     pk.dump(data, wf)"
   ]
  },
  {
   "cell_type": "code",
   "execution_count": 3,
   "id": "2739fb2f",
   "metadata": {},
   "outputs": [
    {
     "name": "stderr",
     "output_type": "stream",
     "text": [
      "100%|████████████████████████████████████████████████████████████████████████████████████████████████████████████████████████████████████████████████████████████████| 103074/103074 [00:50<00:00, 2040.05it/s]\n"
     ]
    }
   ],
   "source": [
    "dataset_name='qanda'\n",
    "data = pd.read_csv(os.path.join(base_dir,'data','01_raw_data','qanda','qanda_episodes.csv'), dtype=str)\n",
    "data['hashtags'] = data['hashtags'].fillna('').apply(lambda s: s.split(';;;'))\n",
    "data['mentions'] = data['mentions'].fillna('').apply(lambda s: s.split(';;;'))\n",
    "data['urls'] = data['urls'].fillna('').apply(lambda s: s.split(';;;'))\n",
    "# data['text_ht_censored'] = data['text'].apply(lambda t: re.sub(r'http\\S+', '<URL>', t)).apply(lambda t: re.sub(\"#[A-Za-z0-9_]+\",\"<HASHTAG>\", t)) \n",
    "data['text'] = data['text'].fillna('').apply(lambda t: re.sub(r'http\\S+', '', t)).apply(lambda t: re.sub(\"#[A-Za-z0-9_]+\",\"\", t)).apply(lambda t: re.sub(r'@\\S+', '', t))\n",
    "data['rid'] = data['rid'].combine_first(data['tid'])\n",
    "\n",
    "with open(os.path.join(base_dir,'data','01_raw_data',dataset_name,dataset_name+'_per_post.pk'), 'wb') as wf:\n",
    "    pk.dump(data, wf)\n",
    "\n",
    "data_per_user = data.groupby('uid').progress_apply(lambda d: pd.DataFrame({'text' : ' '.join(d['text']),'hashtags': [[e for u in d['hashtags'] for e in u if e != '']],'rid':[list(d['rid'])], 'urls' : [[e for u in d['urls'] for e in u if e != '']] }))\n",
    "data_per_user.to_csv(os.path.join(base_dir,'..','Moral_Foundation_FrameAxis','inputs',dataset_name+'_per_user.csv'))\n",
    "data_per_user.to_csv(os.path.join(base_dir,'..','grievancedictionary','inputs',dataset_name+'_per_user.csv'))\n",
    "\n",
    "with open(os.path.join(base_dir,'data','01_raw_data',dataset_name,dataset_name+'_per_user.pk'), 'wb') as wf:\n",
    "    pk.dump(data_per_user ,wf)"
   ]
  },
  {
   "cell_type": "code",
   "execution_count": 4,
   "id": "b99961ed-1c74-434d-9027-624f45c51a6a",
   "metadata": {},
   "outputs": [],
   "source": [
    "activity_profile[dataset_name] = data.groupby('uid').count()['text'].values"
   ]
  },
  {
   "cell_type": "markdown",
   "id": "9a2d3a5e",
   "metadata": {},
   "source": [
    "### Ausvotes"
   ]
  },
  {
   "cell_type": "code",
   "execution_count": 5,
   "id": "0e39fc7a",
   "metadata": {},
   "outputs": [
    {
     "name": "stderr",
     "output_type": "stream",
     "text": [
      "100%|████████████████████████████████████████████████████████████████████████████████████████████████████████████████████████████████████████████████████████████████| 273874/273874 [03:25<00:00, 1335.92it/s]\n"
     ]
    }
   ],
   "source": [
    "dataset_name='ausvotes'\n",
    "data = pd.read_csv(os.path.join(base_dir,'data','01_raw_data','ausvotes','ausvotes.csv'), dtype=str, header=None, names=['tid','cid','uid','created_at','text','urls', 'urls2', 'hashtags'])\n",
    "data['urls'] = data['urls'].fillna('').apply(lambda s: s.split(';;;')) + data['urls2'].fillna('').apply(lambda s: s.split(';;;'))\n",
    "data['hashtags'] = data['hashtags'].fillna('').apply(lambda s: s.split(';;;'))\n",
    "data = data[~data.text.isna()]\n",
    "data['text'] = data['text'].fillna('').apply(lambda t: re.sub(r'http\\S+', '', t)).apply(lambda t: re.sub(\"#[A-Za-z0-9_]+\",\"\", t)).apply(lambda t: re.sub(r'@\\S+', '', t))\n",
    "data['rid'] = data['cid'].combine_first(data['tid'])\n",
    "\n",
    "with open(os.path.join(base_dir,'data','01_raw_data',dataset_name,dataset_name+'_per_post.pk'), 'wb') as wf:\n",
    "    pk.dump(data, wf)\n",
    "\n",
    "data_per_user = data.groupby('uid').progress_apply(lambda d: pd.DataFrame({'text' : ' '.join(d['text']), 'rid':[list(d['rid'])], 'urls' : [[e for u in d['urls'] for e in u if e != '']], 'hashtags' : [[e for u in d['hashtags'] for e in u if e != '']] }))\n",
    "data_per_user.to_csv(os.path.join(base_dir,'..','Moral_Foundation_FrameAxis','inputs',dataset_name+'_per_user.csv'))\n",
    "data_per_user.to_csv(os.path.join(base_dir,'..','grievancedictionary','inputs',dataset_name+'_per_user.csv'))\n",
    "with open(os.path.join(base_dir,'data','01_raw_data',dataset_name,dataset_name+'_per_user.pk'), 'wb') as wf:\n",
    "    pk.dump(data_per_user ,wf)"
   ]
  },
  {
   "cell_type": "code",
   "execution_count": 68,
   "id": "a60a6725-5d38-4590-a5e3-a59573a54a51",
   "metadata": {},
   "outputs": [],
   "source": [
    "activity_profile[dataset_name] = data.groupby('uid').count()['text'].values"
   ]
  },
  {
   "cell_type": "markdown",
   "id": "585705a6",
   "metadata": {},
   "source": [
    "### Social Sense"
   ]
  },
  {
   "cell_type": "code",
   "execution_count": 82,
   "id": "0e575856-dd7c-497e-b3ea-e97c167b9ac1",
   "metadata": {
    "tags": []
   },
   "outputs": [
    {
     "name": "stderr",
     "output_type": "stream",
     "text": [
      "100%|██████████████████████████████████████████████████████████| 49442/49442 [00:21<00:00, 2311.72it/s]\n"
     ]
    }
   ],
   "source": [
    "dataset_name='socialsense'\n",
    "\n",
    "fb_data = pd.read_csv(os.path.join(base_dir,'data','01_raw_data','socialsense','fb_for_stance.csv'), dtype=str)[['index','text','text_urls', 'timestamp', 'user']]\n",
    "fb_data['urls'] = fb_data['text_urls'].fillna('').apply(lambda s: s.strip().split(','))\n",
    "fb_data['text'] = fb_data['text'].apply(lambda t: re.sub(r'http\\S+', '', t)).apply(lambda t: re.sub(\"#[A-Za-z0-9_]+\",\"\", t)).apply(lambda t: re.sub(r'@\\S+', '', t))\n",
    "fb_data['id'] = fb_data['index']\n",
    "\n",
    "fb_data['uid'] = fb_data['user']\n",
    "fb_data['created_at'] = fb_data['timestamp']\n",
    "fb_data['is_twitter'] = False\n",
    "\n",
    "fb_data = fb_data[['id', 'text','urls', 'uid', 'created_at', 'is_twitter']]\n",
    "\n",
    "id_uid_index = pd.read_csv(os.path.join(base_dir,'data','01_raw_data','socialsense','socialsense_id_uid_index.csv'), dtype=str, header=None, names=['id', 'cid','uid'])[['id','uid']]\n",
    "\n",
    "tw_data = pd.read_csv(os.path.join(base_dir,'data','01_raw_data','socialsense','tw_for_stance_unrolled.csv'), dtype=str)[['id', 'text','text_urls_unrolled', 'date']]\n",
    "tw_data = pd.merge(tw_data,id_uid_index, how='left', on='id')\n",
    "tw_data['urls'] = tw_data['text_urls_unrolled'].fillna('').apply(lambda s: s.strip().split(','))\n",
    "tw_data['text'] = tw_data['text'].apply(lambda t: re.sub(r'http\\S+', '', t)).apply(lambda t: re.sub(\"#[A-Za-z0-9_]+\",\"\", t)).apply(lambda t: re.sub(r'@\\S+', '', t))\n",
    "\n",
    "tw_data['created_at'] = tw_data['date']\n",
    "tw_data['is_twitter'] = True\n",
    "\n",
    "tw_data = tw_data[['id', 'text','urls', 'uid', 'created_at', 'is_twitter']]\n",
    "\n",
    "data = pd.concat([tw_data, fb_data])\n",
    "data_filtered = data[~data['uid'].isna()]\n",
    "\n",
    "data_per_user = data_filtered.groupby('uid').progress_apply(lambda d: pd.DataFrame({'text' : ' '.join(d['text']), 'urls' : [[e for u in d['urls'] for e in u if e != '']] }))\n",
    "data_per_user.to_csv(os.path.join(base_dir,'..','Moral_Foundation_FrameAxis','inputs',dataset_name+'_per_user.csv'))\n",
    "data_per_user.to_csv(os.path.join(base_dir,'..','grievancedictionary','inputs',dataset_name+'_per_user.csv'))\n",
    "with open(os.path.join(base_dir,'data','01_raw_data',dataset_name,dataset_name+'_per_user.pk'), 'wb') as wf:\n",
    "    pk.dump(data_per_user ,wf)"
   ]
  },
  {
   "cell_type": "code",
   "execution_count": 83,
   "id": "09ab5e9c-af4d-4119-8a26-63e121e2d114",
   "metadata": {},
   "outputs": [],
   "source": [
    "activity_profile[dataset_name] = data.groupby('uid').count()['text'].values"
   ]
  },
  {
   "cell_type": "markdown",
   "id": "26b80b20",
   "metadata": {
    "tags": []
   },
   "source": [
    "### Riot"
   ]
  },
  {
   "cell_type": "code",
   "execution_count": 6,
   "id": "13a7b1ca",
   "metadata": {},
   "outputs": [
    {
     "name": "stderr",
     "output_type": "stream",
     "text": [
      "100%|████████████████████████████████████████████████████████████████████████████████████████████████████████████████████████████████████████████████████████████████| 574281/574281 [05:06<00:00, 1876.66it/s]\n"
     ]
    }
   ],
   "source": [
    "dataset_name='riot'\n",
    "data = pd.read_csv(os.path.join(base_dir,'data','01_raw_data','riot','riot.csv'), dtype=str, header=None, names=['tid','cid','uid','created_at','text','urls', 'urls2', 'hashtags'])\n",
    "\n",
    "data['urls'] = data['urls'].fillna('').apply(lambda s: s.split(';;;')) + data['urls2'].fillna('').apply(lambda s: s.split(';;;'))\n",
    "data = data[~data.text.isna()]\n",
    "data['hashtags'] = data['hashtags'].fillna('').apply(lambda s: s.split(';;;'))\n",
    "data['text'] = data['text'].apply(lambda t: re.sub(r'http\\S+', '', t)).apply(lambda t: re.sub(\"#[A-Za-z0-9_]+\",\"\", t)).apply(lambda t: re.sub(r'@\\S+', '', t))\n",
    "data['rid'] = data['cid'].combine_first(data['tid'])\n",
    "\n",
    "with open(os.path.join(base_dir,'data','01_raw_data',dataset_name,dataset_name+'_per_post.pk'), 'wb') as wf:\n",
    "    pk.dump(data, wf)\n",
    "\n",
    "# data_per_user = data.groupby('uid').progress_apply(lambda d: pd.DataFrame({'text' : ' '.join(d['text']), 'rid':[list(d['rid'])], 'urls' : [[e for u in d['urls'] for e in u if e != '']] }))\n",
    "data_per_user = data.groupby('uid').progress_apply(lambda d: pd.DataFrame({'text' : ' '.join(d['text']), 'rid':[list(d['rid'])], 'urls' : [[e for u in d['urls'] for e in u if e != '']], 'hashtags' : [[e for u in d['hashtags'] for e in u if e != '']] }))\n",
    "data_per_user.to_csv(os.path.join(base_dir,'..','Moral_Foundation_FrameAxis','inputs',dataset_name+'_per_user.csv'))\n",
    "data_per_user.to_csv(os.path.join(base_dir,'..','grievancedictionary','inputs',dataset_name+'_per_user.csv'))\n",
    "with open(os.path.join(base_dir,'data','01_raw_data',dataset_name,dataset_name+'_per_user.pk'), 'wb') as wf:\n",
    "    pk.dump(data_per_user ,wf)"
   ]
  },
  {
   "cell_type": "code",
   "execution_count": 7,
   "id": "3ff20236-8f50-4fb0-a1bb-76eef3498a4e",
   "metadata": {},
   "outputs": [],
   "source": [
    "activity_profile[dataset_name] = data.groupby('uid').count()['text'].values"
   ]
  },
  {
   "cell_type": "markdown",
   "id": "93b5462c",
   "metadata": {},
   "source": [
    "### Parler"
   ]
  },
  {
   "cell_type": "code",
   "execution_count": 73,
   "id": "66f60df1-ea6a-4417-9bc6-eb2c75c550ae",
   "metadata": {},
   "outputs": [
    {
     "name": "stderr",
     "output_type": "stream",
     "text": [
      "100%|████████████████████████████████████████████████████████| 120048/120048 [00:55<00:00, 2162.04it/s]\n"
     ]
    }
   ],
   "source": [
    "dataset_name='parler'\n",
    "data = pd.read_csv(os.path.join(base_dir,'data','01_raw_data','parler','parler.csv'), dtype=str, header=None, names=['tid','uid','username','text','created_at','urls'])\n",
    "\n",
    "data['urls'] = data['urls'].fillna('').apply(lambda s: s.split(';'))\n",
    "data = data[~data.text.isna()]\n",
    "data['text'] = data['text'].apply(lambda t: re.sub(r'http\\S+', '', t)).apply(lambda t: re.sub(\"#[A-Za-z0-9_]+\",\"\", t)).apply(lambda t: re.sub(r'@\\S+', '', t))\n",
    "data['rid'] = data['tid']\n",
    "\n",
    "data_per_user = data.groupby('uid').progress_apply(lambda d: pd.DataFrame({'text' : ' '.join(d['text']), 'rid':[list(d['rid'])], 'urls' : [[e for u in d['urls'] for e in u if e != '']] }))\n",
    "data_per_user.to_csv(os.path.join(base_dir,'..','Moral_Foundation_FrameAxis','inputs',dataset_name+'_per_user.csv'))\n",
    "data_per_user.to_csv(os.path.join(base_dir,'..','grievancedictionary','inputs',dataset_name+'_per_user.csv'))\n",
    "with open(os.path.join(base_dir,'data','01_raw_data',dataset_name,dataset_name+'_per_user.pk'), 'wb') as wf:\n",
    "    pk.dump(data_per_user ,wf)"
   ]
  },
  {
   "cell_type": "code",
   "execution_count": 74,
   "id": "ce218b88-7806-4208-9982-3b5efc6f94e3",
   "metadata": {},
   "outputs": [],
   "source": [
    "activity_profile[dataset_name] = data.groupby('uid').count()['text'].values"
   ]
  },
  {
   "cell_type": "code",
   "execution_count": 84,
   "id": "1042f1df-4b99-43a0-a99f-600c7ed66dc5",
   "metadata": {},
   "outputs": [],
   "source": [
    "activity_df = pd.concat([pd.DataFrame({'counts' : activity_profile[dataset_name], 'dataset' : dataset_name}) for dataset_name in ['qanda','ausvotes', 'socialsense', 'riot', 'parler']])"
   ]
  },
  {
   "cell_type": "code",
   "execution_count": 85,
   "id": "c4f67233-7607-4749-aab8-733b55458da1",
   "metadata": {},
   "outputs": [
    {
     "data": {
      "text/plain": [
       "{'qanda': array([ 1,  1, 24, ...,  2,  2,  1]),\n",
       " 'ausvotes': array([1, 1, 1, ..., 1, 1, 1]),\n",
       " 'riot': array([1, 1, 2, ..., 1, 1, 1]),\n",
       " 'parler': array([4, 2, 1, ..., 1, 1, 4]),\n",
       " 'socialsense': array([7, 1, 2, ..., 3, 2, 1])}"
      ]
     },
     "execution_count": 85,
     "metadata": {},
     "output_type": "execute_result"
    }
   ],
   "source": [
    "activity_profile"
   ]
  },
  {
   "cell_type": "code",
   "execution_count": 87,
   "id": "50fb777c-5541-4157-908d-e2dfc153f545",
   "metadata": {},
   "outputs": [],
   "source": [
    "activity_df.to_csv(os.path.join(base_dir, 'data', '03_processed', 'activity_profile.csv'), index=False)"
   ]
  },
  {
   "cell_type": "code",
   "execution_count": 95,
   "id": "cc81c403-c3e1-444a-8a99-06a4b5436aa2",
   "metadata": {},
   "outputs": [],
   "source": [
    "import seaborn as sns\n",
    "import matplotlib.pyplot as plt"
   ]
  },
  {
   "cell_type": "code",
   "execution_count": null,
   "id": "767bbf14-bd93-41f5-b572-bfb2c9814bf3",
   "metadata": {},
   "outputs": [],
   "source": []
  },
  {
   "cell_type": "code",
   "execution_count": 101,
   "id": "5fcd2d7c-dc50-455d-b861-948ad46f276c",
   "metadata": {},
   "outputs": [
    {
     "data": {
      "image/png": "[encoded data removed]",
      "text/plain": [
       "<Figure size 640x480 with 1 Axes>"
      ]
     },
     "metadata": {},
     "output_type": "display_data"
    }
   ],
   "source": [
    "plot = sns.ecdfplot(data=activity_df, x=\"counts\", hue=\"dataset\",log_scale=(10,10), complementary=True)\n",
    "# plot.legend(title = \"Dataset\")\n",
    "sns.despine()\n",
    "plt.savefig(os.path.join(base_dir, 'data', '05_plots','main_plots','activity_ecdf_profile.pdf'))"
   ]
  },
  {
   "cell_type": "code",
   "execution_count": null,
   "id": "684dd082-a0b2-441e-956e-be6d54e9c350",
   "metadata": {},
   "outputs": [],
   "source": []
  }
 ],
 "metadata": {
  "kernelspec": {
   "display_name": "rr",
   "language": "python",
   "name": "rr"
  },
  "language_info": {
   "codemirror_mode": {
    "name": "ipython",
    "version": 3
   },
   "file_extension": ".py",
   "mimetype": "text/x-python",
   "name": "python",
   "nbconvert_exporter": "python",
   "pygments_lexer": "ipython3",
   "version": "3.10.4"
  }
 },
 "nbformat": 4,
 "nbformat_minor": 5
}
