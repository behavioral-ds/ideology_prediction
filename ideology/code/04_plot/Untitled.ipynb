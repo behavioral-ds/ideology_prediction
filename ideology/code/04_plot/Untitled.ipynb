{
 "cells": [
  {
   "cell_type": "code",
   "execution_count": 1,
   "id": "83eca9d2-362f-41d8-905a-df5d8d0c5c93",
   "metadata": {},
   "outputs": [
    {
     "name": "stderr",
     "output_type": "stream",
     "text": [
      "2023-03-23 16:03:34.782741: I tensorflow/core/platform/cpu_feature_guard.cc:193] This TensorFlow binary is optimized with oneAPI Deep Neural Network Library (oneDNN) to use the following CPU instructions in performance-critical operations:  AVX2 AVX512F AVX512_VNNI FMA\n",
      "To enable them in other operations, rebuild TensorFlow with the appropriate compiler flags.\n",
      "2023-03-23 16:03:42.197314: I tensorflow/core/util/util.cc:169] oneDNN custom operations are on. You may see slightly different numerical results due to floating-point round-off errors from different computation orders. To turn them off, set the environment variable `TF_ENABLE_ONEDNN_OPTS=0`.\n",
      "2023-03-23 16:03:44.680534: W tensorflow/stream_executor/platform/default/dso_loader.cc:64] Could not load dynamic library 'libcudart.so.11.0'; dlerror: libcudart.so.11.0: cannot open shared object file: No such file or directory\n",
      "2023-03-23 16:03:44.680553: I tensorflow/stream_executor/cuda/cudart_stub.cc:29] Ignore above cudart dlerror if you do not have a GPU set up on your machine.\n",
      "2023-03-23 16:03:45.441966: E tensorflow/stream_executor/cuda/cuda_blas.cc:2981] Unable to register cuBLAS factory: Attempting to register factory for plugin cuBLAS when one has already been registered\n",
      "2023-03-23 16:04:13.529666: W tensorflow/stream_executor/platform/default/dso_loader.cc:64] Could not load dynamic library 'libnvinfer.so.7'; dlerror: libnvinfer.so.7: cannot open shared object file: No such file or directory\n",
      "2023-03-23 16:04:13.531176: W tensorflow/stream_executor/platform/default/dso_loader.cc:64] Could not load dynamic library 'libnvinfer_plugin.so.7'; dlerror: libnvinfer_plugin.so.7: cannot open shared object file: No such file or directory\n",
      "2023-03-23 16:04:13.531183: W tensorflow/compiler/tf2tensorrt/utils/py_utils.cc:38] TF-TRT Warning: Cannot dlopen some TensorRT libraries. If you would like to use Nvidia GPU with TensorRT, please make sure the missing libraries mentioned above are installed properly.\n",
      "2023-03-23 16:05:04.643437: W tensorflow/stream_executor/platform/default/dso_loader.cc:64] Could not load dynamic library 'libcudart.so.11.0'; dlerror: libcudart.so.11.0: cannot open shared object file: No such file or directory\n",
      "2023-03-23 16:05:04.644975: W tensorflow/stream_executor/platform/default/dso_loader.cc:64] Could not load dynamic library 'libcublas.so.11'; dlerror: libcublas.so.11: cannot open shared object file: No such file or directory\n",
      "2023-03-23 16:05:04.646362: W tensorflow/stream_executor/platform/default/dso_loader.cc:64] Could not load dynamic library 'libcublasLt.so.11'; dlerror: libcublasLt.so.11: cannot open shared object file: No such file or directory\n",
      "2023-03-23 16:05:04.647755: W tensorflow/stream_executor/platform/default/dso_loader.cc:64] Could not load dynamic library 'libcufft.so.10'; dlerror: libcufft.so.10: cannot open shared object file: No such file or directory\n",
      "2023-03-23 16:05:04.649127: W tensorflow/stream_executor/platform/default/dso_loader.cc:64] Could not load dynamic library 'libcurand.so.10'; dlerror: libcurand.so.10: cannot open shared object file: No such file or directory\n",
      "2023-03-23 16:05:04.650470: W tensorflow/stream_executor/platform/default/dso_loader.cc:64] Could not load dynamic library 'libcusolver.so.11'; dlerror: libcusolver.so.11: cannot open shared object file: No such file or directory\n",
      "2023-03-23 16:05:04.651838: W tensorflow/stream_executor/platform/default/dso_loader.cc:64] Could not load dynamic library 'libcusparse.so.11'; dlerror: libcusparse.so.11: cannot open shared object file: No such file or directory\n",
      "2023-03-23 16:05:04.653214: W tensorflow/stream_executor/platform/default/dso_loader.cc:64] Could not load dynamic library 'libcudnn.so.8'; dlerror: libcudnn.so.8: cannot open shared object file: No such file or directory\n",
      "2023-03-23 16:05:04.653221: W tensorflow/core/common_runtime/gpu/gpu_device.cc:1934] Cannot dlopen some GPU libraries. Please make sure the missing libraries mentioned above are installed properly if you would like to use GPU. Follow the guide at https://www.tensorflow.org/install/gpu for how to download and setup the required libraries for your platform.\n",
      "Skipping registering GPU devices...\n"
     ]
    }
   ],
   "source": [
    "from dotenv import load_dotenv\n",
    "import os\n",
    "import pandas as pd\n",
    "load_dotenv()\n",
    "import pickle as pk\n",
    "import numpy as np\n",
    "from pathlib import Path\n",
    "base_dir = os.getenv('BASEDIR')\n",
    "\n",
    "from tqdm import tqdm\n",
    "tqdm.pandas()\n",
    "\n",
    "import scattertext as st\n",
    "import re\n",
    "\n",
    "import spacy"
   ]
  },
  {
   "cell_type": "code",
   "execution_count": 2,
   "id": "69f978b8-16c5-4d7e-a85a-2824ef042de8",
   "metadata": {},
   "outputs": [],
   "source": [
    "dataset='qanda'"
   ]
  },
  {
   "cell_type": "code",
   "execution_count": 3,
   "id": "153a2f48-6328-4ba3-b135-e8ba58bf4cc8",
   "metadata": {},
   "outputs": [],
   "source": [
    "dataset_name='qanda'\n",
    "data = pd.read_csv(os.path.join(base_dir,'data','01_raw_data','qanda','qanda_emoji.csv'), dtype=str, names=['tid', 'rid' ,'qid', 'uid','name', 'bio', 'date', 'text_extended', 'text', 'hashtags', 'hashtags_extended', 'mentions', 'mentions_extended', 'urls_extended', 'urls'], index_col=False)\n",
    "\n",
    "data['text'] = data['text'].fillna('').apply(lambda t: re.sub(r'http\\S+', '', t)).apply(lambda t: re.sub(\"#[A-Za-z0-9_]+\",\"\", t)).apply(lambda t: re.sub(r'@\\S+', '', t))\n",
    "data['bio'] = data['bio'].fillna('').apply(lambda t: re.sub(r'http\\S+', '', t)).apply(lambda t: re.sub(\"#[A-Za-z0-9_]+\",\"\", t)).apply(lambda t: re.sub(r'@\\S+', '', t))\n",
    "data['name'] = data['name'].fillna('')"
   ]
  },
  {
   "cell_type": "code",
   "execution_count": 4,
   "id": "c424cff4-cf0e-4984-81f2-c0385be8cd70",
   "metadata": {},
   "outputs": [],
   "source": [
    "# data = data[(data['rid'].isna() | (data['rid'] == '0'))]"
   ]
  },
  {
   "cell_type": "code",
   "execution_count": 5,
   "id": "f1066481-ec7c-4d72-a2af-1a7eab821f93",
   "metadata": {
    "tags": []
   },
   "outputs": [
    {
     "data": {
      "application/vnd.jupyter.widget-view+json": {
       "model_id": "85750472dff14f5488c805fd6013bcc1",
       "version_major": 2,
       "version_minor": 0
      },
      "text/plain": [
       "  0%|          | 0/103074 [00:00<?, ?it/s]"
      ]
     },
     "metadata": {},
     "output_type": "display_data"
    }
   ],
   "source": [
    "data_per_user = data.groupby('uid').progress_apply(lambda d: pd.DataFrame({'name' : [d['name'].values[0]], 'bio' : [d['bio'].values[0]], 'text' : [' '.join(d['text'])] }))"
   ]
  },
  {
   "cell_type": "code",
   "execution_count": 6,
   "id": "3f9b5859-9025-4876-ae5a-d8b2ea17085d",
   "metadata": {
    "tags": []
   },
   "outputs": [],
   "source": [
    "data_per_user = data_per_user.reset_index(drop=False).set_index('uid')[['name','bio','text']]"
   ]
  },
  {
   "cell_type": "code",
   "execution_count": 7,
   "id": "90249da6-b0c3-4b2f-967d-ecb2963b2ac3",
   "metadata": {},
   "outputs": [],
   "source": [
    "inpath = os.path.join(base_dir,'data','04_results','labels',dataset+'_extended.csv')"
   ]
  },
  {
   "cell_type": "code",
   "execution_count": 8,
   "id": "9bda7786-1bf9-4642-83d5-3d969eac4d4d",
   "metadata": {},
   "outputs": [],
   "source": [
    "labels_df = pd.read_csv(inpath, dtype=str).set_index('uid')[['lr_label', 'fr_label']]"
   ]
  },
  {
   "cell_type": "code",
   "execution_count": 9,
   "id": "260214f5-f9eb-4e7d-ae35-d41dac28a318",
   "metadata": {},
   "outputs": [],
   "source": [
    "mask = labels_df.fr_label.map({'True':True, 'False':False})"
   ]
  },
  {
   "cell_type": "code",
   "execution_count": 10,
   "id": "f9fd0e8d-a24a-401e-970b-ed2f3f338a76",
   "metadata": {},
   "outputs": [],
   "source": [
    "labels_df['fr_label'][mask] = 'FR'\n",
    "labels_df['fr_label'][~mask] = 'M'"
   ]
  },
  {
   "cell_type": "code",
   "execution_count": 11,
   "id": "e63641b9-8865-43a1-aacb-ca2a6277c1c0",
   "metadata": {},
   "outputs": [],
   "source": [
    "df = pd.merge(data_per_user,labels_df, left_index=True, right_index=True, how='left')"
   ]
  },
  {
   "cell_type": "code",
   "execution_count": null,
   "id": "51d350c9-78db-4613-9333-502cd5f99c7d",
   "metadata": {},
   "outputs": [],
   "source": []
  },
  {
   "cell_type": "code",
   "execution_count": 12,
   "id": "696e8b87-a270-488e-a437-62a7151a3a0e",
   "metadata": {},
   "outputs": [],
   "source": [
    "# category_col = 'lr_label'\n",
    "# category = 'L'\n",
    "# category_name='Left'\n",
    "# not_category_name='Right'\n",
    "\n",
    "category_col = 'fr_label'\n",
    "category = 'M'\n",
    "category_name='Moderate'\n",
    "not_category_name='Far-Right'\n",
    "\n",
    "width=500"
   ]
  },
  {
   "cell_type": "code",
   "execution_count": 13,
   "id": "70cb2968-ee8f-410d-8bfc-b1f904ff24dc",
   "metadata": {
    "tags": []
   },
   "outputs": [],
   "source": [
    "if category_col == 'lr_label':\n",
    "    # sampled_df = df[df.lr_label != 'N'].groupby('lr_label').sample(n=700, random_state=123)\n",
    "    sampled_df = df[df.lr_label != 'N']\n",
    "else:\n",
    "    # sampled_df = df.groupby('fr_label').sample(n=660, random_state=123)\n",
    "    sampled_df = df"
   ]
  },
  {
   "cell_type": "code",
   "execution_count": null,
   "id": "d4dbd645-0527-473a-9605-7dfec2a9f6d8",
   "metadata": {},
   "outputs": [],
   "source": []
  },
  {
   "cell_type": "code",
   "execution_count": 14,
   "id": "7b9111dc-84dc-4477-ad4e-df44a5a5bfe0",
   "metadata": {},
   "outputs": [
    {
     "data": {
      "application/vnd.jupyter.widget-view+json": {
       "model_id": "fbc039f0a6534ed0a4b271e48341ff10",
       "version_major": 2,
       "version_minor": 0
      },
      "text/plain": [
       "  0%|          | 0/103074 [00:00<?, ?it/s]"
      ]
     },
     "metadata": {},
     "output_type": "display_data"
    }
   ],
   "source": [
    "sampled_df['parse'] = sampled_df.text.progress_apply(st.whitespace_nlp_with_sentences)"
   ]
  },
  {
   "cell_type": "code",
   "execution_count": 20,
   "id": "c2bea5ba-6cf8-4151-a16a-d73c59179a16",
   "metadata": {},
   "outputs": [
    {
     "data": {
      "text/plain": [
       "<scattertext.termscoring.CohensD.CohensD at 0x152f6b290e50>"
      ]
     },
     "execution_count": 20,
     "metadata": {},
     "output_type": "execute_result"
    }
   ],
   "source": [
    "st.CohensD(corpus).use_metadata().set_categories(\n",
    "    'M', ['FR']\n",
    ")"
   ]
  },
  {
   "cell_type": "code",
   "execution_count": 21,
   "id": "d0ede325-e3de-472c-a313-aa520051c69c",
   "metadata": {},
   "outputs": [
    {
     "data": {
      "text/plain": [
       "<scattertext.OffsetCorpus.OffsetCorpus at 0x152c8b44c7c0>"
      ]
     },
     "execution_count": 21,
     "metadata": {},
     "output_type": "execute_result"
    }
   ],
   "source": [
    "corpus"
   ]
  },
  {
   "cell_type": "code",
   "execution_count": 15,
   "id": "2e4d6df7-61b1-4df8-9683-848fe19a7038",
   "metadata": {},
   "outputs": [
    {
     "name": "stderr",
     "output_type": "stream",
     "text": [
      "/data/roram/anaconda3/envs/rr/lib/python3.10/site-packages/scipy/sparse/_base.py:665: RuntimeWarning: invalid value encountered in divide\n",
      "  return np.true_divide(self.todense(), other)\n"
     ]
    }
   ],
   "source": [
    "corpus = st.OffsetCorpusFactory(\n",
    "    sampled_df,\n",
    "    category_col=category_col,\n",
    "    parsed_col='parse',\n",
    "    feat_and_offset_getter=st.cognitive_distortions_offset_getter_factory()\n",
    ").build()\n",
    "\n",
    "plot_df = st.CohensD(corpus).use_metadata().set_categories(\n",
    "    'M', ['FR']\n",
    ").get_score_df(\n",
    ").assign(\n",
    "    N = lambda df: df.count1+df.count2,\n",
    "    X=lambda df: df.N,\n",
    "    Y=lambda df: df.hedges_r,\n",
    "    Xpos=lambda df: st.Scalers.dense_rank(df.X),\n",
    "    Ypos=lambda df: st.Scalers.scale_center_zero_abs(df.Y),\n",
    "    SuppressDisplay=False,\n",
    "    ColorScore=lambda df: df.Ypos,\n",
    ")\n"
   ]
  },
  {
   "cell_type": "code",
   "execution_count": 17,
   "id": "1b0234ce-dec0-49ca-92cd-2872a32a96de",
   "metadata": {},
   "outputs": [
    {
     "data": {
      "text/plain": [
       "Index(['cohens_d', 'cohens_d_se', 'cohens_d_z', 'cohens_d_p', 'hedges_r',\n",
       "       'hedges_r_se', 'hedges_r_z', 'hedges_r_p', 'm1', 'm2', 'count1',\n",
       "       'count2', 'docs1', 'docs2', 'N', 'X', 'Y', 'Xpos', 'Ypos',\n",
       "       'SuppressDisplay', 'ColorScore'],\n",
       "      dtype='object')"
      ]
     },
     "execution_count": 17,
     "metadata": {},
     "output_type": "execute_result"
    }
   ],
   "source": [
    "plot_df.columns"
   ]
  },
  {
   "cell_type": "code",
   "execution_count": 18,
   "id": "602f8271-1693-4366-95dc-fd0021e3d8ef",
   "metadata": {},
   "outputs": [
    {
     "data": {
      "text/html": [
       "<div>\n",
       "<style scoped>\n",
       "    .dataframe tbody tr th:only-of-type {\n",
       "        vertical-align: middle;\n",
       "    }\n",
       "\n",
       "    .dataframe tbody tr th {\n",
       "        vertical-align: top;\n",
       "    }\n",
       "\n",
       "    .dataframe thead th {\n",
       "        text-align: right;\n",
       "    }\n",
       "</style>\n",
       "<table border=\"1\" class=\"dataframe\">\n",
       "  <thead>\n",
       "    <tr style=\"text-align: right;\">\n",
       "      <th></th>\n",
       "      <th>cohens_d</th>\n",
       "      <th>cohens_d_se</th>\n",
       "      <th>cohens_d_z</th>\n",
       "      <th>cohens_d_p</th>\n",
       "      <th>hedges_r</th>\n",
       "      <th>hedges_r_se</th>\n",
       "      <th>hedges_r_z</th>\n",
       "      <th>hedges_r_p</th>\n",
       "      <th>m1</th>\n",
       "      <th>m2</th>\n",
       "      <th>...</th>\n",
       "      <th>count2</th>\n",
       "      <th>docs1</th>\n",
       "      <th>docs2</th>\n",
       "      <th>N</th>\n",
       "      <th>X</th>\n",
       "      <th>Y</th>\n",
       "      <th>Xpos</th>\n",
       "      <th>Ypos</th>\n",
       "      <th>SuppressDisplay</th>\n",
       "      <th>ColorScore</th>\n",
       "    </tr>\n",
       "    <tr>\n",
       "      <th>term</th>\n",
       "      <th></th>\n",
       "      <th></th>\n",
       "      <th></th>\n",
       "      <th></th>\n",
       "      <th></th>\n",
       "      <th></th>\n",
       "      <th></th>\n",
       "      <th></th>\n",
       "      <th></th>\n",
       "      <th></th>\n",
       "      <th></th>\n",
       "      <th></th>\n",
       "      <th></th>\n",
       "      <th></th>\n",
       "      <th></th>\n",
       "      <th></th>\n",
       "      <th></th>\n",
       "      <th></th>\n",
       "      <th></th>\n",
       "      <th></th>\n",
       "      <th></th>\n",
       "    </tr>\n",
       "  </thead>\n",
       "  <tbody>\n",
       "    <tr>\n",
       "      <th>Dichotomous Reasoning</th>\n",
       "      <td>0.220006</td>\n",
       "      <td>0.006248</td>\n",
       "      <td>35.210205</td>\n",
       "      <td>6.978361e-272</td>\n",
       "      <td>0.220004</td>\n",
       "      <td>0.036728</td>\n",
       "      <td>5.990126</td>\n",
       "      <td>1.048393e-09</td>\n",
       "      <td>0.232055</td>\n",
       "      <td>0.147980</td>\n",
       "      <td>...</td>\n",
       "      <td>4925</td>\n",
       "      <td>30257</td>\n",
       "      <td>152</td>\n",
       "      <td>216044</td>\n",
       "      <td>216044</td>\n",
       "      <td>0.220004</td>\n",
       "      <td>1.000000</td>\n",
       "      <td>1.000000</td>\n",
       "      <td>False</td>\n",
       "      <td>1.000000</td>\n",
       "    </tr>\n",
       "    <tr>\n",
       "      <th>Should statements</th>\n",
       "      <td>0.199330</td>\n",
       "      <td>0.006245</td>\n",
       "      <td>31.918468</td>\n",
       "      <td>7.401294e-224</td>\n",
       "      <td>0.199329</td>\n",
       "      <td>0.036727</td>\n",
       "      <td>5.427364</td>\n",
       "      <td>2.859623e-08</td>\n",
       "      <td>0.088431</td>\n",
       "      <td>0.041165</td>\n",
       "      <td>...</td>\n",
       "      <td>1352</td>\n",
       "      <td>17184</td>\n",
       "      <td>104</td>\n",
       "      <td>80756</td>\n",
       "      <td>80756</td>\n",
       "      <td>0.199329</td>\n",
       "      <td>0.909091</td>\n",
       "      <td>0.953012</td>\n",
       "      <td>False</td>\n",
       "      <td>0.953012</td>\n",
       "    </tr>\n",
       "    <tr>\n",
       "      <th>Labeling and mislabeling</th>\n",
       "      <td>0.023532</td>\n",
       "      <td>0.006230</td>\n",
       "      <td>3.777418</td>\n",
       "      <td>7.923144e-05</td>\n",
       "      <td>0.023532</td>\n",
       "      <td>0.036721</td>\n",
       "      <td>0.640829</td>\n",
       "      <td>2.608168e-01</td>\n",
       "      <td>0.014273</td>\n",
       "      <td>0.012047</td>\n",
       "      <td>...</td>\n",
       "      <td>267</td>\n",
       "      <td>4907</td>\n",
       "      <td>69</td>\n",
       "      <td>13557</td>\n",
       "      <td>13557</td>\n",
       "      <td>0.023532</td>\n",
       "      <td>0.727273</td>\n",
       "      <td>0.553481</td>\n",
       "      <td>False</td>\n",
       "      <td>0.553481</td>\n",
       "    </tr>\n",
       "    <tr>\n",
       "      <th>Mindreading</th>\n",
       "      <td>0.112183</td>\n",
       "      <td>0.006234</td>\n",
       "      <td>17.994142</td>\n",
       "      <td>1.082747e-72</td>\n",
       "      <td>0.112182</td>\n",
       "      <td>0.036723</td>\n",
       "      <td>3.054822</td>\n",
       "      <td>1.125969e-03</td>\n",
       "      <td>0.022980</td>\n",
       "      <td>0.009071</td>\n",
       "      <td>...</td>\n",
       "      <td>403</td>\n",
       "      <td>6622</td>\n",
       "      <td>58</td>\n",
       "      <td>19085</td>\n",
       "      <td>19085</td>\n",
       "      <td>0.112182</td>\n",
       "      <td>0.818182</td>\n",
       "      <td>0.754955</td>\n",
       "      <td>False</td>\n",
       "      <td>0.754955</td>\n",
       "    </tr>\n",
       "    <tr>\n",
       "      <th>Personalizing</th>\n",
       "      <td>0.017921</td>\n",
       "      <td>0.006230</td>\n",
       "      <td>2.876753</td>\n",
       "      <td>2.008949e-03</td>\n",
       "      <td>0.017921</td>\n",
       "      <td>0.036721</td>\n",
       "      <td>0.488027</td>\n",
       "      <td>3.127653e-01</td>\n",
       "      <td>0.001918</td>\n",
       "      <td>0.001284</td>\n",
       "      <td>...</td>\n",
       "      <td>34</td>\n",
       "      <td>769</td>\n",
       "      <td>15</td>\n",
       "      <td>1330</td>\n",
       "      <td>1330</td>\n",
       "      <td>0.017921</td>\n",
       "      <td>0.454545</td>\n",
       "      <td>0.540729</td>\n",
       "      <td>False</td>\n",
       "      <td>0.540729</td>\n",
       "    </tr>\n",
       "    <tr>\n",
       "      <th>Overgeneralizing</th>\n",
       "      <td>-0.007018</td>\n",
       "      <td>0.006230</td>\n",
       "      <td>-1.126589</td>\n",
       "      <td>8.700419e-01</td>\n",
       "      <td>-0.007018</td>\n",
       "      <td>0.036721</td>\n",
       "      <td>-0.191117</td>\n",
       "      <td>5.757832e-01</td>\n",
       "      <td>0.006284</td>\n",
       "      <td>0.006735</td>\n",
       "      <td>...</td>\n",
       "      <td>65</td>\n",
       "      <td>2475</td>\n",
       "      <td>35</td>\n",
       "      <td>6027</td>\n",
       "      <td>6027</td>\n",
       "      <td>-0.007018</td>\n",
       "      <td>0.545455</td>\n",
       "      <td>0.484050</td>\n",
       "      <td>False</td>\n",
       "      <td>0.484050</td>\n",
       "    </tr>\n",
       "    <tr>\n",
       "      <th>Magnification and Minimization</th>\n",
       "      <td>0.058158</td>\n",
       "      <td>0.006231</td>\n",
       "      <td>9.333802</td>\n",
       "      <td>5.107007e-21</td>\n",
       "      <td>0.058157</td>\n",
       "      <td>0.036722</td>\n",
       "      <td>1.583719</td>\n",
       "      <td>5.662880e-02</td>\n",
       "      <td>0.009786</td>\n",
       "      <td>0.005079</td>\n",
       "      <td>...</td>\n",
       "      <td>173</td>\n",
       "      <td>3277</td>\n",
       "      <td>39</td>\n",
       "      <td>8325</td>\n",
       "      <td>8325</td>\n",
       "      <td>0.058157</td>\n",
       "      <td>0.636364</td>\n",
       "      <td>0.632173</td>\n",
       "      <td>False</td>\n",
       "      <td>0.632173</td>\n",
       "    </tr>\n",
       "    <tr>\n",
       "      <th>Mental Filtering</th>\n",
       "      <td>0.000894</td>\n",
       "      <td>0.006230</td>\n",
       "      <td>0.143485</td>\n",
       "      <td>4.429535e-01</td>\n",
       "      <td>0.000894</td>\n",
       "      <td>0.036721</td>\n",
       "      <td>0.024341</td>\n",
       "      <td>4.902903e-01</td>\n",
       "      <td>0.000256</td>\n",
       "      <td>0.000245</td>\n",
       "      <td>...</td>\n",
       "      <td>6</td>\n",
       "      <td>111</td>\n",
       "      <td>4</td>\n",
       "      <td>171</td>\n",
       "      <td>171</td>\n",
       "      <td>0.000894</td>\n",
       "      <td>0.090909</td>\n",
       "      <td>0.502031</td>\n",
       "      <td>False</td>\n",
       "      <td>0.502031</td>\n",
       "    </tr>\n",
       "    <tr>\n",
       "      <th>Catastrophizing</th>\n",
       "      <td>0.044811</td>\n",
       "      <td>0.006230</td>\n",
       "      <td>7.192397</td>\n",
       "      <td>3.183186e-13</td>\n",
       "      <td>0.044811</td>\n",
       "      <td>0.036722</td>\n",
       "      <td>1.220276</td>\n",
       "      <td>1.111801e-01</td>\n",
       "      <td>0.001699</td>\n",
       "      <td>0.000101</td>\n",
       "      <td>...</td>\n",
       "      <td>8</td>\n",
       "      <td>600</td>\n",
       "      <td>8</td>\n",
       "      <td>1119</td>\n",
       "      <td>1119</td>\n",
       "      <td>0.044811</td>\n",
       "      <td>0.363636</td>\n",
       "      <td>0.601840</td>\n",
       "      <td>False</td>\n",
       "      <td>0.601840</td>\n",
       "    </tr>\n",
       "    <tr>\n",
       "      <th>Emotional Reasoning</th>\n",
       "      <td>0.013229</td>\n",
       "      <td>0.006230</td>\n",
       "      <td>2.123644</td>\n",
       "      <td>1.684995e-02</td>\n",
       "      <td>0.013229</td>\n",
       "      <td>0.036721</td>\n",
       "      <td>0.360263</td>\n",
       "      <td>3.593253e-01</td>\n",
       "      <td>0.000112</td>\n",
       "      <td>0.000000</td>\n",
       "      <td>...</td>\n",
       "      <td>0</td>\n",
       "      <td>70</td>\n",
       "      <td>0</td>\n",
       "      <td>112</td>\n",
       "      <td>112</td>\n",
       "      <td>0.013229</td>\n",
       "      <td>0.000000</td>\n",
       "      <td>0.530066</td>\n",
       "      <td>False</td>\n",
       "      <td>0.530066</td>\n",
       "    </tr>\n",
       "    <tr>\n",
       "      <th>Fortune-telling</th>\n",
       "      <td>0.032691</td>\n",
       "      <td>0.006230</td>\n",
       "      <td>5.247425</td>\n",
       "      <td>7.711977e-08</td>\n",
       "      <td>0.032691</td>\n",
       "      <td>0.036722</td>\n",
       "      <td>0.890239</td>\n",
       "      <td>1.866687e-01</td>\n",
       "      <td>0.000839</td>\n",
       "      <td>0.000069</td>\n",
       "      <td>...</td>\n",
       "      <td>5</td>\n",
       "      <td>387</td>\n",
       "      <td>5</td>\n",
       "      <td>992</td>\n",
       "      <td>992</td>\n",
       "      <td>0.032691</td>\n",
       "      <td>0.272727</td>\n",
       "      <td>0.574296</td>\n",
       "      <td>False</td>\n",
       "      <td>0.574296</td>\n",
       "    </tr>\n",
       "    <tr>\n",
       "      <th>Disqualifying the Positive</th>\n",
       "      <td>0.025496</td>\n",
       "      <td>0.006230</td>\n",
       "      <td>4.092657</td>\n",
       "      <td>2.132290e-05</td>\n",
       "      <td>0.025496</td>\n",
       "      <td>0.036721</td>\n",
       "      <td>0.694313</td>\n",
       "      <td>2.437430e-01</td>\n",
       "      <td>0.000551</td>\n",
       "      <td>0.000086</td>\n",
       "      <td>...</td>\n",
       "      <td>4</td>\n",
       "      <td>276</td>\n",
       "      <td>4</td>\n",
       "      <td>432</td>\n",
       "      <td>432</td>\n",
       "      <td>0.025496</td>\n",
       "      <td>0.181818</td>\n",
       "      <td>0.557945</td>\n",
       "      <td>False</td>\n",
       "      <td>0.557945</td>\n",
       "    </tr>\n",
       "  </tbody>\n",
       "</table>\n",
       "<p>12 rows × 21 columns</p>\n",
       "</div>"
      ],
      "text/plain": [
       "                                cohens_d  cohens_d_se  cohens_d_z  \\\n",
       "term                                                                \n",
       "Dichotomous Reasoning           0.220006     0.006248   35.210205   \n",
       "Should statements               0.199330     0.006245   31.918468   \n",
       "Labeling and mislabeling        0.023532     0.006230    3.777418   \n",
       "Mindreading                     0.112183     0.006234   17.994142   \n",
       "Personalizing                   0.017921     0.006230    2.876753   \n",
       "Overgeneralizing               -0.007018     0.006230   -1.126589   \n",
       "Magnification and Minimization  0.058158     0.006231    9.333802   \n",
       "Mental Filtering                0.000894     0.006230    0.143485   \n",
       "Catastrophizing                 0.044811     0.006230    7.192397   \n",
       "Emotional Reasoning             0.013229     0.006230    2.123644   \n",
       "Fortune-telling                 0.032691     0.006230    5.247425   \n",
       "Disqualifying the Positive      0.025496     0.006230    4.092657   \n",
       "\n",
       "                                   cohens_d_p  hedges_r  hedges_r_se  \\\n",
       "term                                                                   \n",
       "Dichotomous Reasoning           6.978361e-272  0.220004     0.036728   \n",
       "Should statements               7.401294e-224  0.199329     0.036727   \n",
       "Labeling and mislabeling         7.923144e-05  0.023532     0.036721   \n",
       "Mindreading                      1.082747e-72  0.112182     0.036723   \n",
       "Personalizing                    2.008949e-03  0.017921     0.036721   \n",
       "Overgeneralizing                 8.700419e-01 -0.007018     0.036721   \n",
       "Magnification and Minimization   5.107007e-21  0.058157     0.036722   \n",
       "Mental Filtering                 4.429535e-01  0.000894     0.036721   \n",
       "Catastrophizing                  3.183186e-13  0.044811     0.036722   \n",
       "Emotional Reasoning              1.684995e-02  0.013229     0.036721   \n",
       "Fortune-telling                  7.711977e-08  0.032691     0.036722   \n",
       "Disqualifying the Positive       2.132290e-05  0.025496     0.036721   \n",
       "\n",
       "                                hedges_r_z    hedges_r_p        m1        m2  \\\n",
       "term                                                                           \n",
       "Dichotomous Reasoning             5.990126  1.048393e-09  0.232055  0.147980   \n",
       "Should statements                 5.427364  2.859623e-08  0.088431  0.041165   \n",
       "Labeling and mislabeling          0.640829  2.608168e-01  0.014273  0.012047   \n",
       "Mindreading                       3.054822  1.125969e-03  0.022980  0.009071   \n",
       "Personalizing                     0.488027  3.127653e-01  0.001918  0.001284   \n",
       "Overgeneralizing                 -0.191117  5.757832e-01  0.006284  0.006735   \n",
       "Magnification and Minimization    1.583719  5.662880e-02  0.009786  0.005079   \n",
       "Mental Filtering                  0.024341  4.902903e-01  0.000256  0.000245   \n",
       "Catastrophizing                   1.220276  1.111801e-01  0.001699  0.000101   \n",
       "Emotional Reasoning               0.360263  3.593253e-01  0.000112  0.000000   \n",
       "Fortune-telling                   0.890239  1.866687e-01  0.000839  0.000069   \n",
       "Disqualifying the Positive        0.694313  2.437430e-01  0.000551  0.000086   \n",
       "\n",
       "                                ...  count2  docs1  docs2       N       X  \\\n",
       "term                            ...                                         \n",
       "Dichotomous Reasoning           ...    4925  30257    152  216044  216044   \n",
       "Should statements               ...    1352  17184    104   80756   80756   \n",
       "Labeling and mislabeling        ...     267   4907     69   13557   13557   \n",
       "Mindreading                     ...     403   6622     58   19085   19085   \n",
       "Personalizing                   ...      34    769     15    1330    1330   \n",
       "Overgeneralizing                ...      65   2475     35    6027    6027   \n",
       "Magnification and Minimization  ...     173   3277     39    8325    8325   \n",
       "Mental Filtering                ...       6    111      4     171     171   \n",
       "Catastrophizing                 ...       8    600      8    1119    1119   \n",
       "Emotional Reasoning             ...       0     70      0     112     112   \n",
       "Fortune-telling                 ...       5    387      5     992     992   \n",
       "Disqualifying the Positive      ...       4    276      4     432     432   \n",
       "\n",
       "                                       Y      Xpos      Ypos  SuppressDisplay  \\\n",
       "term                                                                            \n",
       "Dichotomous Reasoning           0.220004  1.000000  1.000000            False   \n",
       "Should statements               0.199329  0.909091  0.953012            False   \n",
       "Labeling and mislabeling        0.023532  0.727273  0.553481            False   \n",
       "Mindreading                     0.112182  0.818182  0.754955            False   \n",
       "Personalizing                   0.017921  0.454545  0.540729            False   \n",
       "Overgeneralizing               -0.007018  0.545455  0.484050            False   \n",
       "Magnification and Minimization  0.058157  0.636364  0.632173            False   \n",
       "Mental Filtering                0.000894  0.090909  0.502031            False   \n",
       "Catastrophizing                 0.044811  0.363636  0.601840            False   \n",
       "Emotional Reasoning             0.013229  0.000000  0.530066            False   \n",
       "Fortune-telling                 0.032691  0.272727  0.574296            False   \n",
       "Disqualifying the Positive      0.025496  0.181818  0.557945            False   \n",
       "\n",
       "                                ColorScore  \n",
       "term                                        \n",
       "Dichotomous Reasoning             1.000000  \n",
       "Should statements                 0.953012  \n",
       "Labeling and mislabeling          0.553481  \n",
       "Mindreading                       0.754955  \n",
       "Personalizing                     0.540729  \n",
       "Overgeneralizing                  0.484050  \n",
       "Magnification and Minimization    0.632173  \n",
       "Mental Filtering                  0.502031  \n",
       "Catastrophizing                   0.601840  \n",
       "Emotional Reasoning               0.530066  \n",
       "Fortune-telling                   0.574296  \n",
       "Disqualifying the Positive        0.557945  \n",
       "\n",
       "[12 rows x 21 columns]"
      ]
     },
     "execution_count": 18,
     "metadata": {},
     "output_type": "execute_result"
    }
   ],
   "source": [
    "plot_df"
   ]
  },
  {
   "cell_type": "code",
   "execution_count": 150,
   "id": "6dae965b-e359-48ff-a06e-767fbca26003",
   "metadata": {},
   "outputs": [
    {
     "name": "stderr",
     "output_type": "stream",
     "text": [
      "/data/roram/anaconda3/envs/rr/lib/python3.10/site-packages/scattertext/Scalers.py:247: RuntimeWarning: invalid value encountered in divide\n",
      "  vec_ss = (vec_ss - vec_ss.min()) * 1. / (vec_ss.max() - vec_ss.min())\n"
     ]
    }
   ],
   "source": [
    "html = st.dataframe_scattertext(\n",
    "    corpus,\n",
    "    plot_df=plot_df,\n",
    "    category=category,\n",
    "    category_name=category_name,\n",
    "    not_category_name=not_category_name,\n",
    "    width_in_pixels=width,\n",
    "    suppress_text_column='Display',\n",
    "    metadata=corpus.get_df().index,\n",
    "    use_non_text_features=True,\n",
    "    ignore_categories=False,\n",
    "    use_offsets=True,\n",
    "    unified_context=False,\n",
    "    color_score_column='ColorScore',\n",
    "    left_list_column='ColorScore',\n",
    "    y_label='Hedges R',\n",
    "    x_label='Frequency Ranks',\n",
    "    header_names={'upper': 'Top M', 'lower': 'Top FR'},\n",
    "    save_svg_button=True,\n",
    ")"
   ]
  },
  {
   "cell_type": "code",
   "execution_count": 151,
   "id": "0e6490bf-e3dd-4d4f-83fe-2f10bb9acebb",
   "metadata": {},
   "outputs": [
    {
     "data": {
      "text/plain": [
       "148805584"
      ]
     },
     "execution_count": 151,
     "metadata": {},
     "output_type": "execute_result"
    }
   ],
   "source": [
    "open('./html/'+category_col+'/CDS_scattertext.html', 'w').write(html)"
   ]
  },
  {
   "cell_type": "code",
   "execution_count": null,
   "id": "99abe5ed-e4c0-4301-a8f8-b6f8269ea474",
   "metadata": {},
   "outputs": [],
   "source": []
  },
  {
   "cell_type": "code",
   "execution_count": null,
   "id": "0cbcf544-332a-4e41-9e78-a4e28e661ad8",
   "metadata": {},
   "outputs": [],
   "source": []
  },
  {
   "cell_type": "code",
   "execution_count": null,
   "id": "1a9d59a0-a480-4c5e-be9f-92374c297619",
   "metadata": {},
   "outputs": [],
   "source": []
  },
  {
   "cell_type": "code",
   "execution_count": null,
   "id": "2187e0c2-0996-4618-b039-3e91550156d7",
   "metadata": {},
   "outputs": [],
   "source": []
  },
  {
   "cell_type": "code",
   "execution_count": null,
   "id": "a8217408-c073-4e44-8c35-c0f17fd8031a",
   "metadata": {},
   "outputs": [],
   "source": []
  },
  {
   "cell_type": "code",
   "execution_count": null,
   "id": "1eadc14b-4acf-4b07-968b-76d4af56a166",
   "metadata": {},
   "outputs": [],
   "source": []
  },
  {
   "cell_type": "code",
   "execution_count": null,
   "id": "c69fdecd-5bee-4756-976e-ae7410aefbf5",
   "metadata": {},
   "outputs": [],
   "source": [
    "import scattertext as st\n",
    "\n",
    "moral_foundations_feats = st.FeatsFromMoralFoundationsDictionary()\n",
    "\n",
    "corpus = st.CorpusFromPandas(sampled_df,\n",
    "                             category_col=category_col,\n",
    "                             text_col='text',\n",
    "                             nlp=st.whitespace_nlp_with_sentences,\n",
    "                             feats_from_spacy_doc=moral_foundations_feats).build()\n",
    "\n",
    "html = st.produce_frequency_explorer(\n",
    "    corpus,\n",
    "    category=category,\n",
    "    category_name=category_name,\n",
    "    not_category_name=not_category_name,\n",
    "    # metadata=sampled_df.index,\n",
    "    use_non_text_features=True,\n",
    "    use_full_doc=True,\n",
    "    term_scorer=st.CohensD(corpus).use_metadata(),\n",
    "    grey_threshold=0,\n",
    "    width_in_pixels=width,\n",
    "    topic_model_term_lists=moral_foundations_feats.get_top_model_term_lists(),                \n",
    "    metadata_descriptions=moral_foundations_feats.get_definitions(),\n",
    "    # return_scatterplot_structure=True,\n",
    "    save_svg_button=True,\n",
    ")\n",
    "\n",
    "open('./html/'+category_col+'/mft_scattertext.html', 'w').write(html)"
   ]
  },
  {
   "cell_type": "code",
   "execution_count": null,
   "id": "4e27f54a-6a54-449c-9381-c797b58915d5",
   "metadata": {},
   "outputs": [],
   "source": [
    "sampled_df['text'] = sampled_df['text'].apply(lambda t: t[:1000000])\n",
    "# Work-around for spacy"
   ]
  },
  {
   "cell_type": "code",
   "execution_count": null,
   "id": "509c17e0-950a-4029-ac30-b27c7ccc75bc",
   "metadata": {},
   "outputs": [],
   "source": [
    "nlp = spacy.load('en_core_web_sm')"
   ]
  },
  {
   "cell_type": "code",
   "execution_count": null,
   "id": "c9854527-e790-4941-8c85-bcf3aea8cca3",
   "metadata": {},
   "outputs": [],
   "source": [
    "corpus = st.CorpusFromPandas(sampled_df,\n",
    "                             category_col=category_col,\n",
    "                             text_col='text',\n",
    "                             nlp=nlp).build()"
   ]
  },
  {
   "cell_type": "code",
   "execution_count": null,
   "id": "da182374-1a3e-4b36-868d-80cac7b573a6",
   "metadata": {},
   "outputs": [],
   "source": [
    "html = st.produce_scattertext_explorer(corpus,\n",
    "    category=category,\n",
    "    category_name=category_name,\n",
    "    not_category_name=not_category_name,\n",
    "    # metadata=sampled_df.index,\n",
    "    width_in_pixels=width,\n",
    "    save_svg_button=True,\n",
    ")"
   ]
  },
  {
   "cell_type": "code",
   "execution_count": null,
   "id": "2d6b87b4-7eee-4bb9-abd3-1aa3e1cba01f",
   "metadata": {},
   "outputs": [],
   "source": [
    "open('./html/'+category_col+'/term_scattertext.html', 'w').write(html)"
   ]
  },
  {
   "cell_type": "code",
   "execution_count": null,
   "id": "276d2b16-5ec5-4dad-91ca-589d98b9c7aa",
   "metadata": {},
   "outputs": [],
   "source": []
  },
  {
   "cell_type": "code",
   "execution_count": null,
   "id": "30845bc6-297a-4e79-8fad-f4df79528b0c",
   "metadata": {},
   "outputs": [],
   "source": [
    "# import pytextrank, spacy\n",
    "# import scattertext as st\n",
    "\n",
    "# nlp = spacy.load('en_core_web_sm')\n",
    "# nlp.add_pipe(\"textrank\", last=True)\n",
    "\n",
    "# sampled_df['parse'] = sampled_df.text.progress_apply(nlp)\n",
    "\n",
    "# corpus = st.CorpusFromParsedDocuments(\n",
    "#     sampled_df,\n",
    "#     category_col=category_col,\n",
    "#     parsed_col='parse',\n",
    "#     feats_from_spacy_doc=st.PyTextRankPhrases()\n",
    "# ).build(\n",
    "# ).compact(\n",
    "#     st.AssociationCompactor(2000, use_non_text_features=True)\n",
    "# )\n",
    "\n",
    "# term_category_scores = corpus.get_metadata_freq_df('')\n",
    "\n",
    "# term_ranks = np.argsort(np.argsort(-term_category_scores, axis=0), axis=0) + 1\n",
    "\n",
    "# category_specific_prominence = term_category_scores.apply(\n",
    "#     lambda r: r.L if r.L > r.R else -r.R,\n",
    "#     axis=1\n",
    "# )\n",
    "\n",
    "# html = st.produce_scattertext_explorer(\n",
    "#     corpus,\n",
    "#     category='L',\n",
    "#     not_category_name='R',\n",
    "#     minimum_term_frequency=0,\n",
    "#     pmi_threshold_coefficient=0,\n",
    "#     width_in_pixels=1000,\n",
    "#     transform=st.dense_rank,\n",
    "#     metadata=corpus.get_df().index,\n",
    "#     scores=category_specific_prominence,\n",
    "#     sort_by_dist=False,\n",
    "#     use_non_text_features=True,\n",
    "#     topic_model_term_lists={term: [term] for term in corpus.get_metadata()},\n",
    "#     topic_model_preview_size=0,\n",
    "#     # metadata_descriptions=metadata_descriptions,\n",
    "#     use_full_doc=True,\n",
    "#     save_svg_button=True,\n",
    "# )\n",
    "\n",
    "# open('./phrase_scattertext.html', 'w').write(html)"
   ]
  },
  {
   "cell_type": "code",
   "execution_count": null,
   "id": "57d026f7-0a99-4fe8-b7b2-fc2e6ea4e219",
   "metadata": {},
   "outputs": [],
   "source": []
  },
  {
   "cell_type": "code",
   "execution_count": null,
   "id": "93e8a862-03a3-46ea-8715-843087de4c45",
   "metadata": {},
   "outputs": [],
   "source": [
    "import nltk\n",
    "\n",
    "import scattertext as st\n",
    "from scattertext.termranking import OncePerDocFrequencyRanker"
   ]
  },
  {
   "cell_type": "code",
   "execution_count": null,
   "id": "53355d3b-ba18-4894-8c88-00521ece4910",
   "metadata": {},
   "outputs": [],
   "source": [
    "nlp = st.tweet_tokenizier_factory(nltk.tokenize.TweetTokenizer())\n",
    "sampled_df['parse'] = (sampled_df.name + sampled_df.bio + sampled_df.text).progress_apply(nlp)"
   ]
  },
  {
   "cell_type": "code",
   "execution_count": null,
   "id": "986e6c4a-51eb-44df-ad08-dbf03b6b7e0e",
   "metadata": {},
   "outputs": [],
   "source": [
    "corpus = st.CorpusFromParsedDocuments(\n",
    "    sampled_df,\n",
    "    category_col=category_col,\n",
    "    parsed_col='parse',\n",
    "    feats_from_spacy_doc=st.FeatsFromSpacyDocOnlyEmoji()\n",
    ").build()"
   ]
  },
  {
   "cell_type": "code",
   "execution_count": null,
   "id": "4cea6453-6c37-486a-9ccd-26d0878f58c8",
   "metadata": {},
   "outputs": [],
   "source": [
    "html = st.produce_scattertext_explorer(\n",
    "    corpus,\n",
    "    category=category,\n",
    "    category_name=category_name,\n",
    "    not_category_name=not_category_name,\n",
    "    use_full_doc=True,\n",
    "    term_ranker=OncePerDocFrequencyRanker,\n",
    "    sort_by_dist=False,\n",
    "    metadata=sampled_df.index,\n",
    "    width_in_pixels=width,\n",
    "    save_svg_button=True,\n",
    ")"
   ]
  },
  {
   "cell_type": "code",
   "execution_count": null,
   "id": "87af3e5c-7726-4220-b5b1-3130425990e8",
   "metadata": {},
   "outputs": [],
   "source": [
    "open('./html/'+category_col+'/emoji_scattertext_v2.html', 'w').write(html)"
   ]
  },
  {
   "cell_type": "code",
   "execution_count": null,
   "id": "90dea2e1-4e5f-46d7-835c-fafce86d0729",
   "metadata": {},
   "outputs": [],
   "source": []
  },
  {
   "cell_type": "code",
   "execution_count": null,
   "id": "dc34ea22-952b-4de0-a7da-db40910ebafe",
   "metadata": {},
   "outputs": [],
   "source": []
  },
  {
   "cell_type": "code",
   "execution_count": 105,
   "id": "20e0df88-5e9a-4ec3-8712-42a5d988b6ab",
   "metadata": {},
   "outputs": [],
   "source": [
    "feat_builder = st.FeatsFromOnlyEmpath()"
   ]
  },
  {
   "cell_type": "code",
   "execution_count": 106,
   "id": "71ee7d1c-b0c9-4fee-8596-1f92ab7fd2a3",
   "metadata": {},
   "outputs": [],
   "source": [
    "corpus = st.CorpusFromParsedDocuments(\n",
    "    sampled_df,\n",
    "    # df[df.lr_label != 'N'],\n",
    "    category_col=category_col,\n",
    "    parsed_col='text',\n",
    "    feats_from_spacy_doc=feat_builder\n",
    ").build()"
   ]
  },
  {
   "cell_type": "code",
   "execution_count": 107,
   "id": "06e09b7d-6e7f-4189-9180-6b415ddaae69",
   "metadata": {},
   "outputs": [],
   "source": [
    "html = st.produce_scattertext_explorer(\n",
    "    corpus,\n",
    "    category=category,\n",
    "    category_name=category_name,\n",
    "    not_category_name=not_category_name,\n",
    "    width_in_pixels=width,\n",
    "    metadata=sampled_df.index,\n",
    "    use_non_text_features=True,\n",
    "    use_full_doc=True,\n",
    "    topic_model_term_lists=feat_builder.get_top_model_term_lists(),\n",
    "    save_svg_button=True,\n",
    ")"
   ]
  },
  {
   "cell_type": "code",
   "execution_count": 108,
   "id": "c13c7bc0-2117-4ee9-a4b8-99e370a37132",
   "metadata": {},
   "outputs": [
    {
     "data": {
      "text/plain": [
       "158625488"
      ]
     },
     "execution_count": 108,
     "metadata": {},
     "output_type": "execute_result"
    }
   ],
   "source": [
    "open('./html/'+category_col+'/empath_scattertext.html', 'w').write(html)"
   ]
  },
  {
   "cell_type": "code",
   "execution_count": null,
   "id": "bba23af3-8c2d-4687-89ca-c4e0a52529e1",
   "metadata": {},
   "outputs": [],
   "source": []
  },
  {
   "cell_type": "code",
   "execution_count": 148,
   "id": "a61a32eb-530d-4146-acf5-fdc68250d4f9",
   "metadata": {},
   "outputs": [
    {
     "name": "stderr",
     "output_type": "stream",
     "text": [
      "100%|█████████████████████████████████████████████████████████████████████████████████████████████████████████████████████████████████████████████████████████████████| 103074/103074 [05:00<00:00, 343.25it/s]\n"
     ]
    }
   ],
   "source": [
    "sampled_df['parse'] = sampled_df.text.progress_apply(st.whitespace_nlp_with_sentences)"
   ]
  },
  {
   "cell_type": "code",
   "execution_count": 149,
   "id": "c4debca7-a2af-46c7-b106-10c191fe21ae",
   "metadata": {},
   "outputs": [
    {
     "name": "stderr",
     "output_type": "stream",
     "text": [
      "/data/roram/anaconda3/envs/rr/lib/python3.10/site-packages/scipy/sparse/_base.py:665: RuntimeWarning: invalid value encountered in divide\n",
      "  return np.true_divide(self.todense(), other)\n"
     ]
    }
   ],
   "source": [
    "corpus = st.OffsetCorpusFactory(\n",
    "    sampled_df,\n",
    "    category_col=category_col,\n",
    "    parsed_col='parse',\n",
    "    feat_and_offset_getter=st.cognitive_distortions_offset_getter_factory()\n",
    ").build()\n",
    "\n",
    "plot_df = st.CohensD(corpus).use_metadata().set_categories(\n",
    "    'M', ['FR']\n",
    ").get_score_df(\n",
    ").assign(\n",
    "    N = lambda df: df.count1+df.count2,\n",
    "    X=lambda df: df.N,\n",
    "    Y=lambda df: df.hedges_r,\n",
    "    Xpos=lambda df: st.Scalers.dense_rank(df.X),\n",
    "    Ypos=lambda df: st.Scalers.scale_center_zero_abs(df.Y),\n",
    "    SuppressDisplay=False,\n",
    "    ColorScore=lambda df: df.Ypos,\n",
    ")\n"
   ]
  },
  {
   "cell_type": "code",
   "execution_count": 1,
   "id": "e506114f-3f09-4175-8373-accaf0fa8b78",
   "metadata": {},
   "outputs": [
    {
     "ename": "NameError",
     "evalue": "name 'plot_df' is not defined",
     "output_type": "error",
     "traceback": [
      "\u001b[0;31m---------------------------------------------------------------------------\u001b[0m",
      "\u001b[0;31mNameError\u001b[0m                                 Traceback (most recent call last)",
      "\u001b[0;32m<ipython-input-1-6a9f6b66fe13>\u001b[0m in \u001b[0;36m<module>\u001b[0;34m\u001b[0m\n\u001b[0;32m----> 1\u001b[0;31m \u001b[0mplot_df\u001b[0m\u001b[0;34m\u001b[0m\u001b[0;34m\u001b[0m\u001b[0m\n\u001b[0m",
      "\u001b[0;31mNameError\u001b[0m: name 'plot_df' is not defined"
     ]
    }
   ],
   "source": [
    "plot_df"
   ]
  },
  {
   "cell_type": "code",
   "execution_count": 150,
   "id": "0a682bcc-f249-45ed-91a7-bae5869092dd",
   "metadata": {},
   "outputs": [
    {
     "name": "stderr",
     "output_type": "stream",
     "text": [
      "/data/roram/anaconda3/envs/rr/lib/python3.10/site-packages/scattertext/Scalers.py:247: RuntimeWarning: invalid value encountered in divide\n",
      "  vec_ss = (vec_ss - vec_ss.min()) * 1. / (vec_ss.max() - vec_ss.min())\n"
     ]
    }
   ],
   "source": [
    "html = st.dataframe_scattertext(\n",
    "    corpus,\n",
    "    plot_df=plot_df,\n",
    "    category=category,\n",
    "    category_name=category_name,\n",
    "    not_category_name=not_category_name,\n",
    "    width_in_pixels=width,\n",
    "    suppress_text_column='Display',\n",
    "    metadata=corpus.get_df().index,\n",
    "    use_non_text_features=True,\n",
    "    ignore_categories=False,\n",
    "    use_offsets=True,\n",
    "    unified_context=False,\n",
    "    color_score_column='ColorScore',\n",
    "    left_list_column='ColorScore',\n",
    "    y_label='Hedges R',\n",
    "    x_label='Frequency Ranks',\n",
    "    header_names={'upper': 'Top M', 'lower': 'Top FR'},\n",
    "    save_svg_button=True,\n",
    ")"
   ]
  },
  {
   "cell_type": "code",
   "execution_count": 151,
   "id": "5742d27f-20d9-46b4-8dfe-dbf28b4232d9",
   "metadata": {},
   "outputs": [
    {
     "data": {
      "text/plain": [
       "148805584"
      ]
     },
     "execution_count": 151,
     "metadata": {},
     "output_type": "execute_result"
    }
   ],
   "source": [
    "open('./html/'+category_col+'/CDS_scattertext.html', 'w').write(html)"
   ]
  },
  {
   "cell_type": "code",
   "execution_count": null,
   "id": "a654aeab-1c76-46ef-8762-31a9ffd0814f",
   "metadata": {},
   "outputs": [],
   "source": []
  },
  {
   "cell_type": "code",
   "execution_count": 115,
   "id": "41e36066-fe11-4637-9864-b477dc4f15ea",
   "metadata": {},
   "outputs": [],
   "source": [
    "import nltk\n",
    "\n",
    "import scattertext as st\n",
    "from scattertext.termranking import OncePerDocFrequencyRanker"
   ]
  },
  {
   "cell_type": "code",
   "execution_count": 116,
   "id": "d8c76746-cf7d-4f78-a4d6-0dc9c2b4f95c",
   "metadata": {},
   "outputs": [
    {
     "name": "stderr",
     "output_type": "stream",
     "text": [
      "100%|███████████████████████████████████████████████████████████████████████████████████████████████████████████████████████████████████████████████████████████████████| 81416/81416 [02:42<00:00, 502.23it/s]\n",
      "/tmp/ipykernel_252262/1131952529.py:2: SettingWithCopyWarning: \n",
      "A value is trying to be set on a copy of a slice from a DataFrame.\n",
      "Try using .loc[row_indexer,col_indexer] = value instead\n",
      "\n",
      "See the caveats in the documentation: https://pandas.pydata.org/pandas-docs/stable/user_guide/indexing.html#returning-a-view-versus-a-copy\n",
      "  sampled_df['parse'] = (sampled_df.name + sampled_df.bio + sampled_df.text).progress_apply(nlp)\n"
     ]
    }
   ],
   "source": [
    "nlp = st.tweet_tokenizier_factory(nltk.tokenize.TweetTokenizer())\n",
    "sampled_df['parse'] = (sampled_df.name + sampled_df.bio + sampled_df.text).progress_apply(nlp)"
   ]
  },
  {
   "cell_type": "code",
   "execution_count": 117,
   "id": "7c970d20-0077-4769-b2eb-fa868ee2e0f9",
   "metadata": {},
   "outputs": [],
   "source": [
    "corpus = st.CorpusFromParsedDocuments(\n",
    "    sampled_df,\n",
    "    category_col=category_col,\n",
    "    parsed_col='parse',\n",
    "    feats_from_spacy_doc=st.FeatsFromSpacyDocOnlyEmoji()\n",
    ").build()"
   ]
  },
  {
   "cell_type": "code",
   "execution_count": null,
   "id": "d6a74bd9-990d-4624-b99d-84f9a04a18d3",
   "metadata": {},
   "outputs": [],
   "source": []
  },
  {
   "cell_type": "code",
   "execution_count": 118,
   "id": "05ec32e7-0555-4116-86cf-5240c64e796e",
   "metadata": {},
   "outputs": [],
   "source": [
    "from scipy.stats import rankdata, hmean, norm"
   ]
  },
  {
   "cell_type": "code",
   "execution_count": 119,
   "id": "7e110f0f-456e-4da7-88b7-11e385a45f8e",
   "metadata": {},
   "outputs": [],
   "source": [
    "term_freq_df = corpus.get_term_freq_df()"
   ]
  },
  {
   "cell_type": "code",
   "execution_count": 120,
   "id": "b28cd864-ab9d-4b85-8c78-2b3df7431790",
   "metadata": {},
   "outputs": [
    {
     "data": {
      "text/html": [
       "<div>\n",
       "<style scoped>\n",
       "    .dataframe tbody tr th:only-of-type {\n",
       "        vertical-align: middle;\n",
       "    }\n",
       "\n",
       "    .dataframe tbody tr th {\n",
       "        vertical-align: top;\n",
       "    }\n",
       "\n",
       "    .dataframe thead th {\n",
       "        text-align: right;\n",
       "    }\n",
       "</style>\n",
       "<table border=\"1\" class=\"dataframe\">\n",
       "  <thead>\n",
       "    <tr style=\"text-align: right;\">\n",
       "      <th></th>\n",
       "      <th>L freq</th>\n",
       "      <th>R freq</th>\n",
       "    </tr>\n",
       "    <tr>\n",
       "      <th>term</th>\n",
       "      <th></th>\n",
       "      <th></th>\n",
       "    </tr>\n",
       "  </thead>\n",
       "  <tbody>\n",
       "    <tr>\n",
       "      <th>🤔</th>\n",
       "      <td>5873</td>\n",
       "      <td>186</td>\n",
       "    </tr>\n",
       "    <tr>\n",
       "      <th>💬</th>\n",
       "      <td>131</td>\n",
       "      <td>0</td>\n",
       "    </tr>\n",
       "    <tr>\n",
       "      <th>🔥</th>\n",
       "      <td>1934</td>\n",
       "      <td>25</td>\n",
       "    </tr>\n",
       "    <tr>\n",
       "      <th>💁🏼‍♂️</th>\n",
       "      <td>1</td>\n",
       "      <td>0</td>\n",
       "    </tr>\n",
       "    <tr>\n",
       "      <th>😆</th>\n",
       "      <td>914</td>\n",
       "      <td>12</td>\n",
       "    </tr>\n",
       "    <tr>\n",
       "      <th>...</th>\n",
       "      <td>...</td>\n",
       "      <td>...</td>\n",
       "    </tr>\n",
       "    <tr>\n",
       "      <th>⛸️</th>\n",
       "      <td>1</td>\n",
       "      <td>0</td>\n",
       "    </tr>\n",
       "    <tr>\n",
       "      <th>💇‍♀️</th>\n",
       "      <td>1</td>\n",
       "      <td>0</td>\n",
       "    </tr>\n",
       "    <tr>\n",
       "      <th>💇‍♂️</th>\n",
       "      <td>1</td>\n",
       "      <td>0</td>\n",
       "    </tr>\n",
       "    <tr>\n",
       "      <th>🏗</th>\n",
       "      <td>1</td>\n",
       "      <td>0</td>\n",
       "    </tr>\n",
       "    <tr>\n",
       "      <th>❇</th>\n",
       "      <td>1</td>\n",
       "      <td>0</td>\n",
       "    </tr>\n",
       "  </tbody>\n",
       "</table>\n",
       "<p>2010 rows × 2 columns</p>\n",
       "</div>"
      ],
      "text/plain": [
       "       L freq  R freq\n",
       "term                 \n",
       "🤔        5873     186\n",
       "💬         131       0\n",
       "🔥        1934      25\n",
       "💁🏼‍♂️       1       0\n",
       "😆         914      12\n",
       "...       ...     ...\n",
       "⛸️          1       0\n",
       "💇‍♀️        1       0\n",
       "💇‍♂️        1       0\n",
       "🏗           1       0\n",
       "❇           1       0\n",
       "\n",
       "[2010 rows x 2 columns]"
      ]
     },
     "execution_count": 120,
     "metadata": {},
     "output_type": "execute_result"
    }
   ],
   "source": [
    "term_freq_df"
   ]
  },
  {
   "cell_type": "code",
   "execution_count": 121,
   "id": "713ba823-9fd2-43ee-82e3-aa9769015586",
   "metadata": {},
   "outputs": [
    {
     "data": {
      "text/html": [
       "<div>\n",
       "<style scoped>\n",
       "    .dataframe tbody tr th:only-of-type {\n",
       "        vertical-align: middle;\n",
       "    }\n",
       "\n",
       "    .dataframe tbody tr th {\n",
       "        vertical-align: top;\n",
       "    }\n",
       "\n",
       "    .dataframe thead th {\n",
       "        text-align: right;\n",
       "    }\n",
       "</style>\n",
       "<table border=\"1\" class=\"dataframe\">\n",
       "  <thead>\n",
       "    <tr style=\"text-align: right;\">\n",
       "      <th></th>\n",
       "      <th>L freq</th>\n",
       "      <th>R freq</th>\n",
       "      <th>L_precision</th>\n",
       "      <th>L_freq_pct</th>\n",
       "      <th>L_hmean</th>\n",
       "    </tr>\n",
       "    <tr>\n",
       "      <th>term</th>\n",
       "      <th></th>\n",
       "      <th></th>\n",
       "      <th></th>\n",
       "      <th></th>\n",
       "      <th></th>\n",
       "    </tr>\n",
       "  </thead>\n",
       "  <tbody>\n",
       "    <tr>\n",
       "      <th>👏</th>\n",
       "      <td>11830</td>\n",
       "      <td>179</td>\n",
       "      <td>0.985095</td>\n",
       "      <td>0.066527</td>\n",
       "      <td>0.124637</td>\n",
       "    </tr>\n",
       "    <tr>\n",
       "      <th>🤣</th>\n",
       "      <td>8958</td>\n",
       "      <td>336</td>\n",
       "      <td>0.963848</td>\n",
       "      <td>0.050376</td>\n",
       "      <td>0.095748</td>\n",
       "    </tr>\n",
       "    <tr>\n",
       "      <th>🐝</th>\n",
       "      <td>7422</td>\n",
       "      <td>74</td>\n",
       "      <td>0.990128</td>\n",
       "      <td>0.041738</td>\n",
       "      <td>0.080100</td>\n",
       "    </tr>\n",
       "    <tr>\n",
       "      <th>👇</th>\n",
       "      <td>7074</td>\n",
       "      <td>145</td>\n",
       "      <td>0.979914</td>\n",
       "      <td>0.039781</td>\n",
       "      <td>0.076458</td>\n",
       "    </tr>\n",
       "    <tr>\n",
       "      <th>🤔</th>\n",
       "      <td>5873</td>\n",
       "      <td>186</td>\n",
       "      <td>0.969302</td>\n",
       "      <td>0.033027</td>\n",
       "      <td>0.063878</td>\n",
       "    </tr>\n",
       "    <tr>\n",
       "      <th>😂</th>\n",
       "      <td>5307</td>\n",
       "      <td>364</td>\n",
       "      <td>0.935814</td>\n",
       "      <td>0.029844</td>\n",
       "      <td>0.057844</td>\n",
       "    </tr>\n",
       "    <tr>\n",
       "      <th>🇦🇺</th>\n",
       "      <td>3321</td>\n",
       "      <td>67</td>\n",
       "      <td>0.980224</td>\n",
       "      <td>0.018676</td>\n",
       "      <td>0.036653</td>\n",
       "    </tr>\n",
       "    <tr>\n",
       "      <th>🙄</th>\n",
       "      <td>3222</td>\n",
       "      <td>93</td>\n",
       "      <td>0.971946</td>\n",
       "      <td>0.018119</td>\n",
       "      <td>0.035575</td>\n",
       "    </tr>\n",
       "    <tr>\n",
       "      <th>💧</th>\n",
       "      <td>2989</td>\n",
       "      <td>111</td>\n",
       "      <td>0.964194</td>\n",
       "      <td>0.016809</td>\n",
       "      <td>0.033042</td>\n",
       "    </tr>\n",
       "    <tr>\n",
       "      <th>❤️</th>\n",
       "      <td>2288</td>\n",
       "      <td>87</td>\n",
       "      <td>0.963368</td>\n",
       "      <td>0.012867</td>\n",
       "      <td>0.025394</td>\n",
       "    </tr>\n",
       "  </tbody>\n",
       "</table>\n",
       "</div>"
      ],
      "text/plain": [
       "      L freq  R freq  L_precision  L_freq_pct   L_hmean\n",
       "term                                                   \n",
       "👏      11830     179     0.985095    0.066527  0.124637\n",
       "🤣       8958     336     0.963848    0.050376  0.095748\n",
       "🐝       7422      74     0.990128    0.041738  0.080100\n",
       "👇       7074     145     0.979914    0.039781  0.076458\n",
       "🤔       5873     186     0.969302    0.033027  0.063878\n",
       "😂       5307     364     0.935814    0.029844  0.057844\n",
       "🇦🇺      3321      67     0.980224    0.018676  0.036653\n",
       "🙄       3222      93     0.971946    0.018119  0.035575\n",
       "💧       2989     111     0.964194    0.016809  0.033042\n",
       "❤️      2288      87     0.963368    0.012867  0.025394"
      ]
     },
     "execution_count": 121,
     "metadata": {},
     "output_type": "execute_result"
    }
   ],
   "source": [
    "primary, secondary = 'L', 'R'\n",
    "primary_freq_name = primary+' freq'\n",
    "secondary_freq_name = secondary+' freq'\n",
    "\n",
    "term_freq_df[primary+'_precision'] = term_freq_df[primary_freq_name] * 1./(term_freq_df[primary_freq_name] + term_freq_df[secondary_freq_name])\n",
    "term_freq_df[primary+'_freq_pct'] = term_freq_df[primary_freq_name] * 1./term_freq_df[primary_freq_name].sum()\n",
    "term_freq_df[primary+'_hmean'] = term_freq_df.apply(lambda x: (hmean([x[primary+'_precision'], x[primary+'_freq_pct']])\n",
    "                                                                   if x[primary+'_precision'] > 0 and x[primary+'_freq_pct'] > 0 \n",
    "                                                                   else 0), axis=1)                                                        \n",
    "term_freq_df.sort_values(by=primary+'_hmean', ascending=False).iloc[:10]"
   ]
  },
  {
   "cell_type": "code",
   "execution_count": 122,
   "id": "5712fb43-7328-47dd-a8ed-54dbbd8d2c97",
   "metadata": {},
   "outputs": [],
   "source": [
    "def scale(ar): \n",
    "    return (ar - ar.min()) / (ar.max() - ar.min())\n",
    "\n",
    "def zero_centered_scale(ar):\n",
    "    scores = np.zeros(len(ar))\n",
    "    scores[ar > 0] = scale(ar[ar > 0])\n",
    "    scores[ar < 0] = -scale(-ar[ar < 0])\n",
    "    return (scores + 1) / 2.\n",
    "\n",
    "frequencies_scaled = scale(np.log(term_freq_df.sum(axis=1).values))"
   ]
  },
  {
   "cell_type": "code",
   "execution_count": 123,
   "id": "c5504b02-c714-4059-ba98-310d9172733e",
   "metadata": {},
   "outputs": [],
   "source": [
    "from sklearn.linear_model import LogisticRegression\n",
    "scores = corpus.get_logreg_coefs(category,\n",
    "                                 LogisticRegression(penalty='l2', C=10, max_iter=10000, n_jobs=-1))\n",
    "scores_scaled = zero_centered_scale(scores)\n"
   ]
  },
  {
   "cell_type": "code",
   "execution_count": 124,
   "id": "1c23445f-373e-4704-bbc9-b2fae5a6ed36",
   "metadata": {},
   "outputs": [
    {
     "name": "stderr",
     "output_type": "stream",
     "text": [
      "/data/roram/anaconda3/envs/rr/lib/python3.10/site-packages/scattertext/termscoring/ScaledFScore.py:303: RuntimeWarning: invalid value encountered in divide\n",
      "  recall = cat_word_counts * 1. / cat_word_counts.sum()\n"
     ]
    },
    {
     "data": {
      "text/plain": [
       "141465067"
      ]
     },
     "execution_count": 124,
     "metadata": {},
     "output_type": "execute_result"
    }
   ],
   "source": [
    "html = st.produce_scattertext_explorer(corpus,\n",
    "                                    category=category,\n",
    "                                    category_name=category_name,\n",
    "                                    not_category_name=not_category_name,\n",
    "                                    minimum_term_frequency=5,\n",
    "                                    width_in_pixels=width,\n",
    "                                    x_coords=frequencies_scaled,\n",
    "                                    y_coords=scores_scaled,\n",
    "                                    scores=scores,\n",
    "                                    sort_by_dist=False,\n",
    "                                    metadata=sampled_df.index,\n",
    "                                    x_label='Log frequency',\n",
    "                                    y_label='L2-Penalized Log Reg Coef',\n",
    "                                    save_svg_button=True,)\n",
    "file_name = './html/'+category_col+'/emoji_scattertext_v3.html'\n",
    "open(file_name, 'wb').write(html.encode('utf-8'))\n",
    "# IFrame(src=file_name, width = 1200, height=700)"
   ]
  },
  {
   "cell_type": "code",
   "execution_count": 125,
   "id": "9a9294f9-74a7-4288-a29b-86fe68fc3a29",
   "metadata": {
    "tags": []
   },
   "outputs": [
    {
     "data": {
      "text/plain": [
       "141464238"
      ]
     },
     "execution_count": 125,
     "metadata": {},
     "output_type": "execute_result"
    }
   ],
   "source": [
    "html = st.produce_scattertext_explorer(corpus,\n",
    "                                    category=category,\n",
    "                                    category_name=category_name,\n",
    "                                    not_category_name=not_category_name,\n",
    "                                    minimum_term_frequency=5,\n",
    "                                    width_in_pixels=width,\n",
    "                                    x_coords=frequencies_scaled,\n",
    "                                    y_coords=corpus.get_scaled_f_scores(category, beta=0.5),\n",
    "                                    scores=corpus.get_scaled_f_scores(category, beta=0.5),\n",
    "                                    sort_by_dist=False,\n",
    "                                    metadata=sampled_df.index,\n",
    "                                    x_label='Log Frequency',\n",
    "                                    y_label='Scaled F-Score',\n",
    "                                    save_svg_button=True,)\n",
    "file_name = './html/'+category_col+'/emoji_scattertext_v4.html'\n",
    "open(file_name, 'wb').write(html.encode('utf-8'))\n",
    "# IFrame(src=file_name, width = 1200, height=700)"
   ]
  },
  {
   "cell_type": "code",
   "execution_count": null,
   "id": "e73ea7b8-b494-49d3-b317-39e92f460137",
   "metadata": {},
   "outputs": [],
   "source": []
  },
  {
   "cell_type": "code",
   "execution_count": 126,
   "id": "79654d71-d646-4fda-990e-827ba9b6e556",
   "metadata": {},
   "outputs": [],
   "source": [
    "freq_df = corpus.get_term_freq_df().rename(columns={'L freq': 'y_dem', 'R freq': 'y_rep'})\n",
    "a_w = 0.01\n",
    "y_i, y_j = freq_df['y_dem'].values, freq_df['y_rep'].values"
   ]
  },
  {
   "cell_type": "code",
   "execution_count": 127,
   "id": "1fb50e11-e378-4dda-bcd4-704d00b48c0a",
   "metadata": {},
   "outputs": [],
   "source": [
    "n_i, n_j = y_i.sum(), y_j.sum()\n",
    "a_0 = len(freq_df) * a_w\n",
    "delta_i_j = (  np.log((y_i + a_w) / (n_i + a_0 - y_i - a_w))\n",
    "                 - np.log((y_j + a_w) / (n_j + a_0 - y_j - a_w)))\n",
    "var_delta_i_j = ( 1./(y_i + a_w) + 1./(y_i + a_0 - y_i - a_w)\n",
    "                    + 1./(y_j + a_w) + 1./(n_j + a_0 - n_j - a_w))\n",
    "zeta_i_j = delta_i_j/np.sqrt(var_delta_i_j)\n",
    "max_abs_zeta = max(zeta_i_j.max(), -zeta_i_j.min())\n",
    "zeta_scaled_for_charting = ((((zeta_i_j > 0).astype(float) * (zeta_i_j/max_abs_zeta))*0.5 + 0.5)\n",
    "                            + ((zeta_i_j < 0).astype(float) * (zeta_i_j/max_abs_zeta) * 0.5))"
   ]
  },
  {
   "cell_type": "code",
   "execution_count": 128,
   "id": "daa2126e-7592-4dd3-9c1b-ea92ff4267ac",
   "metadata": {},
   "outputs": [
    {
     "data": {
      "text/plain": [
       "141464861"
      ]
     },
     "execution_count": 128,
     "metadata": {},
     "output_type": "execute_result"
    }
   ],
   "source": [
    "html = st.produce_scattertext_explorer(corpus,\n",
    "                                    category=category,\n",
    "                                    category_name=category_name,\n",
    "                                    not_category_name=not_category_name,\n",
    "                                    minimum_term_frequency=5,\n",
    "                                    width_in_pixels=width,\n",
    "                                    x_coords=frequencies_scaled,\n",
    "                                    y_coords=zeta_scaled_for_charting,\n",
    "                                    scores=zeta_i_j,\n",
    "                                    sort_by_dist=False,\n",
    "                                    metadata=sampled_df.index,\n",
    "                                    x_label='Log Frequency',\n",
    "                                    y_label='Log Odds Ratio w/ Uninformative Prior (alpha_w=0.01)',\n",
    "                                    save_svg_button=True,)\n",
    "file_name = './html/'+category_col+'/emoji_scattertext_v5.html'\n",
    "open(file_name, 'wb').write(html.encode('utf-8'))"
   ]
  },
  {
   "cell_type": "code",
   "execution_count": 129,
   "id": "057fac6e-da09-4d48-bbdd-b085b1c380cc",
   "metadata": {},
   "outputs": [
    {
     "data": {
      "text/plain": [
       "141464772"
      ]
     },
     "execution_count": 129,
     "metadata": {},
     "output_type": "execute_result"
    }
   ],
   "source": [
    "corner_scores = corpus.get_corner_scores(category)\n",
    "html = st.produce_scattertext_explorer(corpus,\n",
    "                                    category=category,\n",
    "                                    category_name=category_name,\n",
    "                                    not_category_name=not_category_name,\n",
    "                                    minimum_term_frequency=5,\n",
    "                                    width_in_pixels=width,\n",
    "                                    x_coords=frequencies_scaled,\n",
    "                                    y_coords=corner_scores,\n",
    "                                    scores=corner_scores,\n",
    "                                    sort_by_dist=False,\n",
    "                                    metadata=sampled_df.index,\n",
    "                                    x_label='Log Frequency',\n",
    "                                    y_label='Corner Scores',\n",
    "                                    save_svg_button=True,)\n",
    "file_name = './html/'+category_col+'/emoji_scattertext_v6.html'\n",
    "open(file_name, 'wb').write(html.encode('utf-8'))"
   ]
  },
  {
   "cell_type": "code",
   "execution_count": null,
   "id": "4646ee77-e3be-418d-a963-0c80d25ea31b",
   "metadata": {},
   "outputs": [],
   "source": []
  },
  {
   "cell_type": "code",
   "execution_count": null,
   "id": "2a69c053-639e-4c5c-b12e-8dddf244cb41",
   "metadata": {},
   "outputs": [],
   "source": []
  },
  {
   "cell_type": "code",
   "execution_count": null,
   "id": "57e106bb-e613-45d9-9cce-5d98cba673e4",
   "metadata": {},
   "outputs": [],
   "source": []
  },
  {
   "cell_type": "code",
   "execution_count": null,
   "id": "ee40e2e6-f69c-40ee-a413-fc7d6d81475d",
   "metadata": {},
   "outputs": [],
   "source": []
  },
  {
   "cell_type": "code",
   "execution_count": 40,
   "id": "ebb769f4-fcd6-4e2d-bb0c-2507137c92b3",
   "metadata": {},
   "outputs": [],
   "source": [
    "feat_builder = st.FeatsFromOnlyEmpath()"
   ]
  },
  {
   "cell_type": "code",
   "execution_count": 41,
   "id": "4ba70469-7fe5-4524-a358-562106af41e4",
   "metadata": {},
   "outputs": [],
   "source": [
    "corpus = st.CorpusFromParsedDocuments(\n",
    "    sampled_df,\n",
    "    # df[df.lr_label != 'N'],\n",
    "    category_col=category_col,\n",
    "    parsed_col='text',\n",
    "    feats_from_spacy_doc=feat_builder\n",
    ").build()"
   ]
  },
  {
   "cell_type": "code",
   "execution_count": 45,
   "id": "88382185-c58a-43d1-afeb-dcd1790021b4",
   "metadata": {},
   "outputs": [
    {
     "data": {
      "text/plain": [
       "<scattertext.ParsedCorpus.ParsedCorpus at 0x2b853ea22470>"
      ]
     },
     "execution_count": 45,
     "metadata": {},
     "output_type": "execute_result"
    }
   ],
   "source": [
    "corpus"
   ]
  },
  {
   "cell_type": "code",
   "execution_count": 42,
   "id": "edad89c0-eb55-4714-b293-274ee00bb816",
   "metadata": {},
   "outputs": [],
   "source": [
    "from scipy.stats import rankdata, hmean, norm"
   ]
  },
  {
   "cell_type": "code",
   "execution_count": 43,
   "id": "ab3976cc-277d-4070-99cc-234d19c643d1",
   "metadata": {},
   "outputs": [],
   "source": [
    "term_freq_df = corpus.get_term_freq_df()"
   ]
  },
  {
   "cell_type": "code",
   "execution_count": 44,
   "id": "e279e2ac-d2da-487c-b5a5-d0e5820fdb95",
   "metadata": {},
   "outputs": [
    {
     "data": {
      "text/html": [
       "<div>\n",
       "<style scoped>\n",
       "    .dataframe tbody tr th:only-of-type {\n",
       "        vertical-align: middle;\n",
       "    }\n",
       "\n",
       "    .dataframe tbody tr th {\n",
       "        vertical-align: top;\n",
       "    }\n",
       "\n",
       "    .dataframe thead th {\n",
       "        text-align: right;\n",
       "    }\n",
       "</style>\n",
       "<table border=\"1\" class=\"dataframe\">\n",
       "  <thead>\n",
       "    <tr style=\"text-align: right;\">\n",
       "      <th></th>\n",
       "      <th>L freq</th>\n",
       "      <th>R freq</th>\n",
       "    </tr>\n",
       "    <tr>\n",
       "      <th>term</th>\n",
       "      <th></th>\n",
       "      <th></th>\n",
       "    </tr>\n",
       "  </thead>\n",
       "  <tbody>\n",
       "  </tbody>\n",
       "</table>\n",
       "</div>"
      ],
      "text/plain": [
       "Empty DataFrame\n",
       "Columns: [L freq, R freq]\n",
       "Index: []"
      ]
     },
     "execution_count": 44,
     "metadata": {},
     "output_type": "execute_result"
    }
   ],
   "source": [
    "term_freq_df"
   ]
  },
  {
   "cell_type": "code",
   "execution_count": 36,
   "id": "4fbd5658-4aef-4fcf-98a3-b7f170443667",
   "metadata": {},
   "outputs": [
    {
     "ename": "ValueError",
     "evalue": "Wrong number of items passed 4, placement implies 1",
     "output_type": "error",
     "traceback": [
      "\u001b[0;31m---------------------------------------------------------------------------\u001b[0m",
      "\u001b[0;31mKeyError\u001b[0m                                  Traceback (most recent call last)",
      "File \u001b[0;32m/data/roram/anaconda3/envs/rr/lib/python3.10/site-packages/pandas/core/indexes/base.py:3361\u001b[0m, in \u001b[0;36mIndex.get_loc\u001b[0;34m(self, key, method, tolerance)\u001b[0m\n\u001b[1;32m   3360\u001b[0m \u001b[38;5;28;01mtry\u001b[39;00m:\n\u001b[0;32m-> 3361\u001b[0m     \u001b[38;5;28;01mreturn\u001b[39;00m \u001b[38;5;28;43mself\u001b[39;49m\u001b[38;5;241;43m.\u001b[39;49m\u001b[43m_engine\u001b[49m\u001b[38;5;241;43m.\u001b[39;49m\u001b[43mget_loc\u001b[49m\u001b[43m(\u001b[49m\u001b[43mcasted_key\u001b[49m\u001b[43m)\u001b[49m\n\u001b[1;32m   3362\u001b[0m \u001b[38;5;28;01mexcept\u001b[39;00m \u001b[38;5;167;01mKeyError\u001b[39;00m \u001b[38;5;28;01mas\u001b[39;00m err:\n",
      "File \u001b[0;32m/data/roram/anaconda3/envs/rr/lib/python3.10/site-packages/pandas/_libs/index.pyx:76\u001b[0m, in \u001b[0;36mpandas._libs.index.IndexEngine.get_loc\u001b[0;34m()\u001b[0m\n",
      "File \u001b[0;32m/data/roram/anaconda3/envs/rr/lib/python3.10/site-packages/pandas/_libs/index.pyx:108\u001b[0m, in \u001b[0;36mpandas._libs.index.IndexEngine.get_loc\u001b[0;34m()\u001b[0m\n",
      "File \u001b[0;32mpandas/_libs/hashtable_class_helper.pxi:5198\u001b[0m, in \u001b[0;36mpandas._libs.hashtable.PyObjectHashTable.get_item\u001b[0;34m()\u001b[0m\n",
      "File \u001b[0;32mpandas/_libs/hashtable_class_helper.pxi:5206\u001b[0m, in \u001b[0;36mpandas._libs.hashtable.PyObjectHashTable.get_item\u001b[0;34m()\u001b[0m\n",
      "\u001b[0;31mKeyError\u001b[0m: 'L_hmean'",
      "\nThe above exception was the direct cause of the following exception:\n",
      "\u001b[0;31mKeyError\u001b[0m                                  Traceback (most recent call last)",
      "File \u001b[0;32m/data/roram/anaconda3/envs/rr/lib/python3.10/site-packages/pandas/core/frame.py:3751\u001b[0m, in \u001b[0;36mDataFrame._set_item_mgr\u001b[0;34m(self, key, value)\u001b[0m\n\u001b[1;32m   3750\u001b[0m \u001b[38;5;28;01mtry\u001b[39;00m:\n\u001b[0;32m-> 3751\u001b[0m     loc \u001b[38;5;241m=\u001b[39m \u001b[38;5;28;43mself\u001b[39;49m\u001b[38;5;241;43m.\u001b[39;49m\u001b[43m_info_axis\u001b[49m\u001b[38;5;241;43m.\u001b[39;49m\u001b[43mget_loc\u001b[49m\u001b[43m(\u001b[49m\u001b[43mkey\u001b[49m\u001b[43m)\u001b[49m\n\u001b[1;32m   3752\u001b[0m \u001b[38;5;28;01mexcept\u001b[39;00m \u001b[38;5;167;01mKeyError\u001b[39;00m:\n\u001b[1;32m   3753\u001b[0m     \u001b[38;5;66;03m# This item wasn't present, just insert at end\u001b[39;00m\n",
      "File \u001b[0;32m/data/roram/anaconda3/envs/rr/lib/python3.10/site-packages/pandas/core/indexes/base.py:3363\u001b[0m, in \u001b[0;36mIndex.get_loc\u001b[0;34m(self, key, method, tolerance)\u001b[0m\n\u001b[1;32m   3362\u001b[0m     \u001b[38;5;28;01mexcept\u001b[39;00m \u001b[38;5;167;01mKeyError\u001b[39;00m \u001b[38;5;28;01mas\u001b[39;00m err:\n\u001b[0;32m-> 3363\u001b[0m         \u001b[38;5;28;01mraise\u001b[39;00m \u001b[38;5;167;01mKeyError\u001b[39;00m(key) \u001b[38;5;28;01mfrom\u001b[39;00m \u001b[38;5;21;01merr\u001b[39;00m\n\u001b[1;32m   3365\u001b[0m \u001b[38;5;28;01mif\u001b[39;00m is_scalar(key) \u001b[38;5;129;01mand\u001b[39;00m isna(key) \u001b[38;5;129;01mand\u001b[39;00m \u001b[38;5;129;01mnot\u001b[39;00m \u001b[38;5;28mself\u001b[39m\u001b[38;5;241m.\u001b[39mhasnans:\n",
      "\u001b[0;31mKeyError\u001b[0m: 'L_hmean'",
      "\nDuring handling of the above exception, another exception occurred:\n",
      "\u001b[0;31mValueError\u001b[0m                                Traceback (most recent call last)",
      "Input \u001b[0;32mIn [36]\u001b[0m, in \u001b[0;36m<cell line: 7>\u001b[0;34m()\u001b[0m\n\u001b[1;32m      5\u001b[0m term_freq_df[primary\u001b[38;5;241m+\u001b[39m\u001b[38;5;124m'\u001b[39m\u001b[38;5;124m_precision\u001b[39m\u001b[38;5;124m'\u001b[39m] \u001b[38;5;241m=\u001b[39m term_freq_df[primary_freq_name] \u001b[38;5;241m*\u001b[39m \u001b[38;5;241m1.\u001b[39m\u001b[38;5;241m/\u001b[39m(term_freq_df[primary_freq_name] \u001b[38;5;241m+\u001b[39m term_freq_df[secondary_freq_name])\n\u001b[1;32m      6\u001b[0m term_freq_df[primary\u001b[38;5;241m+\u001b[39m\u001b[38;5;124m'\u001b[39m\u001b[38;5;124m_freq_pct\u001b[39m\u001b[38;5;124m'\u001b[39m] \u001b[38;5;241m=\u001b[39m term_freq_df[primary_freq_name] \u001b[38;5;241m*\u001b[39m \u001b[38;5;241m1.\u001b[39m\u001b[38;5;241m/\u001b[39mterm_freq_df[primary_freq_name]\u001b[38;5;241m.\u001b[39msum()\n\u001b[0;32m----> 7\u001b[0m term_freq_df[primary\u001b[38;5;241m+\u001b[39m\u001b[38;5;124m'\u001b[39m\u001b[38;5;124m_hmean\u001b[39m\u001b[38;5;124m'\u001b[39m] \u001b[38;5;241m=\u001b[39m term_freq_df\u001b[38;5;241m.\u001b[39mapply(\u001b[38;5;28;01mlambda\u001b[39;00m x: (hmean([x[primary\u001b[38;5;241m+\u001b[39m\u001b[38;5;124m'\u001b[39m\u001b[38;5;124m_precision\u001b[39m\u001b[38;5;124m'\u001b[39m], x[primary\u001b[38;5;241m+\u001b[39m\u001b[38;5;124m'\u001b[39m\u001b[38;5;124m_freq_pct\u001b[39m\u001b[38;5;124m'\u001b[39m]])\n\u001b[1;32m      8\u001b[0m                                                                    \u001b[38;5;28;01mif\u001b[39;00m x[primary\u001b[38;5;241m+\u001b[39m\u001b[38;5;124m'\u001b[39m\u001b[38;5;124m_precision\u001b[39m\u001b[38;5;124m'\u001b[39m] \u001b[38;5;241m>\u001b[39m \u001b[38;5;241m0\u001b[39m \u001b[38;5;129;01mand\u001b[39;00m x[primary\u001b[38;5;241m+\u001b[39m\u001b[38;5;124m'\u001b[39m\u001b[38;5;124m_freq_pct\u001b[39m\u001b[38;5;124m'\u001b[39m] \u001b[38;5;241m>\u001b[39m \u001b[38;5;241m0\u001b[39m \n\u001b[1;32m      9\u001b[0m                                                                    \u001b[38;5;28;01melse\u001b[39;00m \u001b[38;5;241m0\u001b[39m), axis\u001b[38;5;241m=\u001b[39m\u001b[38;5;241m1\u001b[39m)                                                        \n\u001b[1;32m     10\u001b[0m term_freq_df\u001b[38;5;241m.\u001b[39msort_values(by\u001b[38;5;241m=\u001b[39mprimary\u001b[38;5;241m+\u001b[39m\u001b[38;5;124m'\u001b[39m\u001b[38;5;124m_hmean\u001b[39m\u001b[38;5;124m'\u001b[39m, ascending\u001b[38;5;241m=\u001b[39m\u001b[38;5;28;01mFalse\u001b[39;00m)\u001b[38;5;241m.\u001b[39miloc[:\u001b[38;5;241m10\u001b[39m]\n",
      "File \u001b[0;32m/data/roram/anaconda3/envs/rr/lib/python3.10/site-packages/pandas/core/frame.py:3602\u001b[0m, in \u001b[0;36mDataFrame.__setitem__\u001b[0;34m(self, key, value)\u001b[0m\n\u001b[1;32m   3600\u001b[0m     \u001b[38;5;28mself\u001b[39m\u001b[38;5;241m.\u001b[39m_setitem_array(key, value)\n\u001b[1;32m   3601\u001b[0m \u001b[38;5;28;01melif\u001b[39;00m \u001b[38;5;28misinstance\u001b[39m(value, DataFrame):\n\u001b[0;32m-> 3602\u001b[0m     \u001b[38;5;28;43mself\u001b[39;49m\u001b[38;5;241;43m.\u001b[39;49m\u001b[43m_set_item_frame_value\u001b[49m\u001b[43m(\u001b[49m\u001b[43mkey\u001b[49m\u001b[43m,\u001b[49m\u001b[43m \u001b[49m\u001b[43mvalue\u001b[49m\u001b[43m)\u001b[49m\n\u001b[1;32m   3603\u001b[0m \u001b[38;5;28;01melif\u001b[39;00m (\n\u001b[1;32m   3604\u001b[0m     is_list_like(value)\n\u001b[1;32m   3605\u001b[0m     \u001b[38;5;129;01mand\u001b[39;00m \u001b[38;5;129;01mnot\u001b[39;00m \u001b[38;5;28mself\u001b[39m\u001b[38;5;241m.\u001b[39mcolumns\u001b[38;5;241m.\u001b[39mis_unique\n\u001b[1;32m   3606\u001b[0m     \u001b[38;5;129;01mand\u001b[39;00m \u001b[38;5;241m1\u001b[39m \u001b[38;5;241m<\u001b[39m \u001b[38;5;28mlen\u001b[39m(\u001b[38;5;28mself\u001b[39m\u001b[38;5;241m.\u001b[39mcolumns\u001b[38;5;241m.\u001b[39mget_indexer_for([key])) \u001b[38;5;241m==\u001b[39m \u001b[38;5;28mlen\u001b[39m(value)\n\u001b[1;32m   3607\u001b[0m ):\n\u001b[1;32m   3608\u001b[0m     \u001b[38;5;66;03m# Column to set is duplicated\u001b[39;00m\n\u001b[1;32m   3609\u001b[0m     \u001b[38;5;28mself\u001b[39m\u001b[38;5;241m.\u001b[39m_setitem_array([key], value)\n",
      "File \u001b[0;32m/data/roram/anaconda3/envs/rr/lib/python3.10/site-packages/pandas/core/frame.py:3742\u001b[0m, in \u001b[0;36mDataFrame._set_item_frame_value\u001b[0;34m(self, key, value)\u001b[0m\n\u001b[1;32m   3740\u001b[0m \u001b[38;5;66;03m# now align rows\u001b[39;00m\n\u001b[1;32m   3741\u001b[0m arraylike \u001b[38;5;241m=\u001b[39m _reindex_for_setitem(value, \u001b[38;5;28mself\u001b[39m\u001b[38;5;241m.\u001b[39mindex)\n\u001b[0;32m-> 3742\u001b[0m \u001b[38;5;28;43mself\u001b[39;49m\u001b[38;5;241;43m.\u001b[39;49m\u001b[43m_set_item_mgr\u001b[49m\u001b[43m(\u001b[49m\u001b[43mkey\u001b[49m\u001b[43m,\u001b[49m\u001b[43m \u001b[49m\u001b[43marraylike\u001b[49m\u001b[43m)\u001b[49m\n",
      "File \u001b[0;32m/data/roram/anaconda3/envs/rr/lib/python3.10/site-packages/pandas/core/frame.py:3754\u001b[0m, in \u001b[0;36mDataFrame._set_item_mgr\u001b[0;34m(self, key, value)\u001b[0m\n\u001b[1;32m   3751\u001b[0m     loc \u001b[38;5;241m=\u001b[39m \u001b[38;5;28mself\u001b[39m\u001b[38;5;241m.\u001b[39m_info_axis\u001b[38;5;241m.\u001b[39mget_loc(key)\n\u001b[1;32m   3752\u001b[0m \u001b[38;5;28;01mexcept\u001b[39;00m \u001b[38;5;167;01mKeyError\u001b[39;00m:\n\u001b[1;32m   3753\u001b[0m     \u001b[38;5;66;03m# This item wasn't present, just insert at end\u001b[39;00m\n\u001b[0;32m-> 3754\u001b[0m     \u001b[38;5;28;43mself\u001b[39;49m\u001b[38;5;241;43m.\u001b[39;49m\u001b[43m_mgr\u001b[49m\u001b[38;5;241;43m.\u001b[39;49m\u001b[43minsert\u001b[49m\u001b[43m(\u001b[49m\u001b[38;5;28;43mlen\u001b[39;49m\u001b[43m(\u001b[49m\u001b[38;5;28;43mself\u001b[39;49m\u001b[38;5;241;43m.\u001b[39;49m\u001b[43m_info_axis\u001b[49m\u001b[43m)\u001b[49m\u001b[43m,\u001b[49m\u001b[43m \u001b[49m\u001b[43mkey\u001b[49m\u001b[43m,\u001b[49m\u001b[43m \u001b[49m\u001b[43mvalue\u001b[49m\u001b[43m)\u001b[49m\n\u001b[1;32m   3755\u001b[0m \u001b[38;5;28;01melse\u001b[39;00m:\n\u001b[1;32m   3756\u001b[0m     \u001b[38;5;28mself\u001b[39m\u001b[38;5;241m.\u001b[39m_iset_item_mgr(loc, value)\n",
      "File \u001b[0;32m/data/roram/anaconda3/envs/rr/lib/python3.10/site-packages/pandas/core/internals/managers.py:1162\u001b[0m, in \u001b[0;36mBlockManager.insert\u001b[0;34m(self, loc, item, value)\u001b[0m\n\u001b[1;32m   1159\u001b[0m \u001b[38;5;28;01melse\u001b[39;00m:\n\u001b[1;32m   1160\u001b[0m     value \u001b[38;5;241m=\u001b[39m ensure_block_shape(value, ndim\u001b[38;5;241m=\u001b[39m\u001b[38;5;28mself\u001b[39m\u001b[38;5;241m.\u001b[39mndim)\n\u001b[0;32m-> 1162\u001b[0m block \u001b[38;5;241m=\u001b[39m \u001b[43mnew_block\u001b[49m\u001b[43m(\u001b[49m\u001b[43mvalues\u001b[49m\u001b[38;5;241;43m=\u001b[39;49m\u001b[43mvalue\u001b[49m\u001b[43m,\u001b[49m\u001b[43m \u001b[49m\u001b[43mndim\u001b[49m\u001b[38;5;241;43m=\u001b[39;49m\u001b[38;5;28;43mself\u001b[39;49m\u001b[38;5;241;43m.\u001b[39;49m\u001b[43mndim\u001b[49m\u001b[43m,\u001b[49m\u001b[43m \u001b[49m\u001b[43mplacement\u001b[49m\u001b[38;5;241;43m=\u001b[39;49m\u001b[38;5;28;43mslice\u001b[39;49m\u001b[43m(\u001b[49m\u001b[43mloc\u001b[49m\u001b[43m,\u001b[49m\u001b[43m \u001b[49m\u001b[43mloc\u001b[49m\u001b[43m \u001b[49m\u001b[38;5;241;43m+\u001b[39;49m\u001b[43m \u001b[49m\u001b[38;5;241;43m1\u001b[39;49m\u001b[43m)\u001b[49m\u001b[43m)\u001b[49m\n\u001b[1;32m   1164\u001b[0m \u001b[38;5;28;01mfor\u001b[39;00m blkno, count \u001b[38;5;129;01min\u001b[39;00m _fast_count_smallints(\u001b[38;5;28mself\u001b[39m\u001b[38;5;241m.\u001b[39mblknos[loc:]):\n\u001b[1;32m   1165\u001b[0m     blk \u001b[38;5;241m=\u001b[39m \u001b[38;5;28mself\u001b[39m\u001b[38;5;241m.\u001b[39mblocks[blkno]\n",
      "File \u001b[0;32m/data/roram/anaconda3/envs/rr/lib/python3.10/site-packages/pandas/core/internals/blocks.py:1937\u001b[0m, in \u001b[0;36mnew_block\u001b[0;34m(values, placement, ndim, klass)\u001b[0m\n\u001b[1;32m   1934\u001b[0m     placement \u001b[38;5;241m=\u001b[39m BlockPlacement(placement)\n\u001b[1;32m   1936\u001b[0m values, _ \u001b[38;5;241m=\u001b[39m extract_pandas_array(values, \u001b[38;5;28;01mNone\u001b[39;00m, ndim)\n\u001b[0;32m-> 1937\u001b[0m \u001b[43mcheck_ndim\u001b[49m\u001b[43m(\u001b[49m\u001b[43mvalues\u001b[49m\u001b[43m,\u001b[49m\u001b[43m \u001b[49m\u001b[43mplacement\u001b[49m\u001b[43m,\u001b[49m\u001b[43m \u001b[49m\u001b[43mndim\u001b[49m\u001b[43m)\u001b[49m\n\u001b[1;32m   1939\u001b[0m \u001b[38;5;28;01mif\u001b[39;00m klass \u001b[38;5;129;01mis\u001b[39;00m \u001b[38;5;28;01mNone\u001b[39;00m:\n\u001b[1;32m   1940\u001b[0m     klass \u001b[38;5;241m=\u001b[39m get_block_type(values, values\u001b[38;5;241m.\u001b[39mdtype)\n",
      "File \u001b[0;32m/data/roram/anaconda3/envs/rr/lib/python3.10/site-packages/pandas/core/internals/blocks.py:1979\u001b[0m, in \u001b[0;36mcheck_ndim\u001b[0;34m(values, placement, ndim)\u001b[0m\n\u001b[1;32m   1974\u001b[0m         \u001b[38;5;28;01mraise\u001b[39;00m \u001b[38;5;167;01mValueError\u001b[39;00m(\n\u001b[1;32m   1975\u001b[0m             \u001b[38;5;124m\"\u001b[39m\u001b[38;5;124mWrong number of dimensions. \u001b[39m\u001b[38;5;124m\"\u001b[39m\n\u001b[1;32m   1976\u001b[0m             \u001b[38;5;124mf\u001b[39m\u001b[38;5;124m\"\u001b[39m\u001b[38;5;124mvalues.ndim != ndim [\u001b[39m\u001b[38;5;132;01m{\u001b[39;00mvalues\u001b[38;5;241m.\u001b[39mndim\u001b[38;5;132;01m}\u001b[39;00m\u001b[38;5;124m != \u001b[39m\u001b[38;5;132;01m{\u001b[39;00mndim\u001b[38;5;132;01m}\u001b[39;00m\u001b[38;5;124m]\u001b[39m\u001b[38;5;124m\"\u001b[39m\n\u001b[1;32m   1977\u001b[0m         )\n\u001b[1;32m   1978\u001b[0m     \u001b[38;5;28;01mif\u001b[39;00m \u001b[38;5;28mlen\u001b[39m(placement) \u001b[38;5;241m!=\u001b[39m \u001b[38;5;28mlen\u001b[39m(values):\n\u001b[0;32m-> 1979\u001b[0m         \u001b[38;5;28;01mraise\u001b[39;00m \u001b[38;5;167;01mValueError\u001b[39;00m(\n\u001b[1;32m   1980\u001b[0m             \u001b[38;5;124mf\u001b[39m\u001b[38;5;124m\"\u001b[39m\u001b[38;5;124mWrong number of items passed \u001b[39m\u001b[38;5;132;01m{\u001b[39;00m\u001b[38;5;28mlen\u001b[39m(values)\u001b[38;5;132;01m}\u001b[39;00m\u001b[38;5;124m, \u001b[39m\u001b[38;5;124m\"\u001b[39m\n\u001b[1;32m   1981\u001b[0m             \u001b[38;5;124mf\u001b[39m\u001b[38;5;124m\"\u001b[39m\u001b[38;5;124mplacement implies \u001b[39m\u001b[38;5;132;01m{\u001b[39;00m\u001b[38;5;28mlen\u001b[39m(placement)\u001b[38;5;132;01m}\u001b[39;00m\u001b[38;5;124m\"\u001b[39m\n\u001b[1;32m   1982\u001b[0m         )\n\u001b[1;32m   1983\u001b[0m \u001b[38;5;28;01melif\u001b[39;00m ndim \u001b[38;5;241m==\u001b[39m \u001b[38;5;241m2\u001b[39m \u001b[38;5;129;01mand\u001b[39;00m \u001b[38;5;28mlen\u001b[39m(placement) \u001b[38;5;241m!=\u001b[39m \u001b[38;5;241m1\u001b[39m:\n\u001b[1;32m   1984\u001b[0m     \u001b[38;5;66;03m# TODO(EA2D): special case unnecessary with 2D EAs\u001b[39;00m\n\u001b[1;32m   1985\u001b[0m     \u001b[38;5;28;01mraise\u001b[39;00m \u001b[38;5;167;01mValueError\u001b[39;00m(\u001b[38;5;124m\"\u001b[39m\u001b[38;5;124mneed to split\u001b[39m\u001b[38;5;124m\"\u001b[39m)\n",
      "\u001b[0;31mValueError\u001b[0m: Wrong number of items passed 4, placement implies 1"
     ]
    }
   ],
   "source": [
    "primary, secondary = 'L', 'R'\n",
    "primary_freq_name = primary+' freq'\n",
    "secondary_freq_name = secondary+' freq'\n",
    "\n",
    "term_freq_df[primary+'_precision'] = term_freq_df[primary_freq_name] * 1./(term_freq_df[primary_freq_name] + term_freq_df[secondary_freq_name])\n",
    "term_freq_df[primary+'_freq_pct'] = term_freq_df[primary_freq_name] * 1./term_freq_df[primary_freq_name].sum()\n",
    "term_freq_df[primary+'_hmean'] = term_freq_df.apply(lambda x: (hmean([x[primary+'_precision'], x[primary+'_freq_pct']])\n",
    "                                                                   if x[primary+'_precision'] > 0 and x[primary+'_freq_pct'] > 0 \n",
    "                                                                   else 0), axis=1)                                                        \n",
    "term_freq_df.sort_values(by=primary+'_hmean', ascending=False).iloc[:10]"
   ]
  },
  {
   "cell_type": "code",
   "execution_count": null,
   "id": "dfb56e64-abad-4127-8e5a-66a6ffbd44c9",
   "metadata": {},
   "outputs": [],
   "source": [
    "def scale(ar): \n",
    "    return (ar - ar.min()) / (ar.max() - ar.min())\n",
    "\n",
    "def zero_centered_scale(ar):\n",
    "    scores = np.zeros(len(ar))\n",
    "    scores[ar > 0] = scale(ar[ar > 0])\n",
    "    scores[ar < 0] = -scale(-ar[ar < 0])\n",
    "    return (scores + 1) / 2.\n",
    "\n",
    "frequencies_scaled = scale(np.log(term_freq_df.sum(axis=1).values))"
   ]
  },
  {
   "cell_type": "code",
   "execution_count": 21,
   "id": "dda92475-5ee0-49d0-a0eb-c4d59ce3f258",
   "metadata": {},
   "outputs": [],
   "source": [
    "from sklearn.linear_model import LogisticRegression\n",
    "scores = corpus.get_logreg_coefs(category,\n",
    "                                 LogisticRegression(penalty='l2', C=10, max_iter=10000, n_jobs=-1))\n",
    "scores_scaled = zero_centered_scale(scores)\n"
   ]
  },
  {
   "cell_type": "code",
   "execution_count": 23,
   "id": "09131600-3c14-435b-a0c1-38de6b4a1a69",
   "metadata": {},
   "outputs": [
    {
     "name": "stderr",
     "output_type": "stream",
     "text": [
      "/data/roram/anaconda3/envs/rr/lib/python3.10/site-packages/scattertext/termscoring/ScaledFScore.py:303: RuntimeWarning: invalid value encountered in divide\n",
      "  recall = cat_word_counts * 1. / cat_word_counts.sum()\n"
     ]
    },
    {
     "data": {
      "text/plain": [
       "141465069"
      ]
     },
     "execution_count": 23,
     "metadata": {},
     "output_type": "execute_result"
    }
   ],
   "source": [
    "html = st.produce_scattertext_explorer(corpus,\n",
    "                                    category=category,\n",
    "                                    category_name=category_name,\n",
    "                                    not_category_name=not_category_name,\n",
    "                                    minimum_term_frequency=5,\n",
    "                                    width_in_pixels=width,\n",
    "                                    x_coords=frequencies_scaled,\n",
    "                                    y_coords=scores_scaled,\n",
    "                                    scores=scores,\n",
    "                                    sort_by_dist=False,\n",
    "                                    metadata=sampled_df.index,\n",
    "                                    x_label='Log frequency',\n",
    "                                    y_label='L2-Penalized Log Reg Coef',\n",
    "                                    save_svg_button=True,)\n",
    "file_name = './html/'+category_col+'/empath_scattertext_v3.html'\n",
    "open(file_name, 'wb').write(html.encode('utf-8'))\n",
    "# IFrame(src=file_name, width = 1200, height=700)"
   ]
  },
  {
   "cell_type": "code",
   "execution_count": 25,
   "id": "78c06be6-04ad-49a7-aa96-178a5817b1a3",
   "metadata": {
    "tags": []
   },
   "outputs": [
    {
     "data": {
      "text/plain": [
       "141464240"
      ]
     },
     "execution_count": 25,
     "metadata": {},
     "output_type": "execute_result"
    }
   ],
   "source": [
    "html = st.produce_scattertext_explorer(corpus,\n",
    "                                    category=category,\n",
    "                                    category_name=category_name,\n",
    "                                    not_category_name=not_category_name,\n",
    "                                    minimum_term_frequency=5,\n",
    "                                    width_in_pixels=width,\n",
    "                                    x_coords=frequencies_scaled,\n",
    "                                    y_coords=corpus.get_scaled_f_scores(category, beta=0.5),\n",
    "                                    scores=corpus.get_scaled_f_scores(category, beta=0.5),\n",
    "                                    sort_by_dist=False,\n",
    "                                    metadata=sampled_df.index,\n",
    "                                    x_label='Log Frequency',\n",
    "                                    y_label='Scaled F-Score',\n",
    "                                    save_svg_button=True,\n",
    "                                      )\n",
    "file_name = './html/'+category_col+'/empath_scattertext_v4.html'\n",
    "open(file_name, 'wb').write(html.encode('utf-8'))\n",
    "# IFrame(src=file_name, width = 1200, height=700)"
   ]
  }
 ],
 "metadata": {
  "kernelspec": {
   "display_name": "rr",
   "language": "python",
   "name": "rr"
  },
  "language_info": {
   "codemirror_mode": {
    "name": "ipython",
    "version": 3
   },
   "file_extension": ".py",
   "mimetype": "text/x-python",
   "name": "python",
   "nbconvert_exporter": "python",
   "pygments_lexer": "ipython3",
   "version": "3.10.4"
  }
 },
 "nbformat": 4,
 "nbformat_minor": 5
}
