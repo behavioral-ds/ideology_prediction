{
 "cells": [
  {
   "cell_type": "code",
   "execution_count": null,
   "id": "83eca9d2-362f-41d8-905a-df5d8d0c5c93",
   "metadata": {},
   "outputs": [],
   "source": [
    "from dotenv import load_dotenv\n",
    "import os\n",
    "import pandas as pd\n",
    "load_dotenv()\n",
    "import pickle as pk\n",
    "import numpy as np\n",
    "from pathlib import Path\n",
    "base_dir = os.getenv('BASEDIR')\n",
    "\n",
    "from tqdm import tqdm\n",
    "tqdm.pandas()\n",
    "\n",
    "import scattertext as st\n",
    "import re\n",
    "\n",
    "import spacy"
   ]
  },
  {
   "cell_type": "code",
   "execution_count": null,
   "id": "69f978b8-16c5-4d7e-a85a-2824ef042de8",
   "metadata": {},
   "outputs": [],
   "source": [
    "dataset='qanda'"
   ]
  },
  {
   "cell_type": "code",
   "execution_count": null,
   "id": "153a2f48-6328-4ba3-b135-e8ba58bf4cc8",
   "metadata": {},
   "outputs": [],
   "source": [
    "dataset_name='qanda'\n",
    "data = pd.read_csv(os.path.join(base_dir,'data','01_raw_data','qanda','qanda_emoji.csv'), dtype=str, names=['tid', 'rid' ,'qid', 'uid','name', 'bio', 'date', 'text_extended', 'text', 'hashtags', 'hashtags_extended', 'mentions', 'mentions_extended', 'urls_extended', 'urls'], index_col=False)\n",
    "\n",
    "data['text'] = data['text'].fillna('').apply(lambda t: re.sub(r'http\\S+', '', t)).apply(lambda t: re.sub(\"#[A-Za-z0-9_]+\",\"\", t)).apply(lambda t: re.sub(r'@\\S+', '', t))\n",
    "data['bio'] = data['bio'].fillna('').apply(lambda t: re.sub(r'http\\S+', '', t)).apply(lambda t: re.sub(\"#[A-Za-z0-9_]+\",\"\", t)).apply(lambda t: re.sub(r'@\\S+', '', t))\n",
    "data['name'] = data['name'].fillna('')"
   ]
  },
  {
   "cell_type": "code",
   "execution_count": null,
   "id": "c424cff4-cf0e-4984-81f2-c0385be8cd70",
   "metadata": {},
   "outputs": [],
   "source": [
    "# data = data[(data['rid'].isna() | (data['rid'] == '0'))]"
   ]
  },
  {
   "cell_type": "code",
   "execution_count": null,
   "id": "f1066481-ec7c-4d72-a2af-1a7eab821f93",
   "metadata": {},
   "outputs": [],
   "source": [
    "data_per_user = data.groupby('uid').progress_apply(lambda d: pd.DataFrame({'name' : [d['name'].values[0]], 'bio' : [d['bio'].values[0]], 'text' : [' '.join(d['text'])] }))"
   ]
  },
  {
   "cell_type": "code",
   "execution_count": null,
   "id": "3f9b5859-9025-4876-ae5a-d8b2ea17085d",
   "metadata": {},
   "outputs": [],
   "source": [
    "data_per_user = data_per_user.reset_index(drop=False).set_index('uid')[['name','bio','text']]"
   ]
  },
  {
   "cell_type": "code",
   "execution_count": null,
   "id": "90249da6-b0c3-4b2f-967d-ecb2963b2ac3",
   "metadata": {},
   "outputs": [],
   "source": [
    "inpath = os.path.join(base_dir,'data','04_results','labels',dataset+'_extended.csv')"
   ]
  },
  {
   "cell_type": "code",
   "execution_count": null,
   "id": "9bda7786-1bf9-4642-83d5-3d969eac4d4d",
   "metadata": {},
   "outputs": [],
   "source": [
    "labels_df = pd.read_csv(inpath, dtype=str).set_index('uid')[['lr_label', 'fr_label']]"
   ]
  },
  {
   "cell_type": "code",
   "execution_count": null,
   "id": "260214f5-f9eb-4e7d-ae35-d41dac28a318",
   "metadata": {},
   "outputs": [],
   "source": [
    "mask = labels_df.fr_label.map({'True':True, 'False':False})"
   ]
  },
  {
   "cell_type": "code",
   "execution_count": null,
   "id": "f9fd0e8d-a24a-401e-970b-ed2f3f338a76",
   "metadata": {},
   "outputs": [],
   "source": [
    "labels_df['fr_label'][mask] = 'FR'\n",
    "labels_df['fr_label'][~mask] = 'M'"
   ]
  },
  {
   "cell_type": "code",
   "execution_count": null,
   "id": "e63641b9-8865-43a1-aacb-ca2a6277c1c0",
   "metadata": {},
   "outputs": [],
   "source": [
    "df = pd.merge(data_per_user,labels_df, left_index=True, right_index=True, how='left')"
   ]
  },
  {
   "cell_type": "code",
   "execution_count": null,
   "id": "51d350c9-78db-4613-9333-502cd5f99c7d",
   "metadata": {},
   "outputs": [],
   "source": []
  },
  {
   "cell_type": "code",
   "execution_count": null,
   "id": "696e8b87-a270-488e-a437-62a7151a3a0e",
   "metadata": {},
   "outputs": [],
   "source": [
    "category_col = 'lr_label'\n",
    "category = 'L'\n",
    "category_name='Left'\n",
    "not_category_name='Right'\n",
    "\n",
    "# category_col = 'fr_label'\n",
    "# category = 'M'\n",
    "# category_name='Moderate'\n",
    "# not_category_name='Far-Right'\n",
    "\n",
    "width=1000"
   ]
  },
  {
   "cell_type": "code",
   "execution_count": null,
   "id": "70cb2968-ee8f-410d-8bfc-b1f904ff24dc",
   "metadata": {
    "tags": []
   },
   "outputs": [],
   "source": [
    "if category_col == 'lr_label':\n",
    "    # sampled_df = df[df.lr_label != 'N'].groupby('lr_label').sample(n=700, random_state=123)\n",
    "    sampled_df = df[df.lr_label != 'N']\n",
    "else:\n",
    "    sampled_df = df.groupby('fr_label').sample(n=660, random_state=123)"
   ]
  },
  {
   "cell_type": "code",
   "execution_count": null,
   "id": "c69fdecd-5bee-4756-976e-ae7410aefbf5",
   "metadata": {},
   "outputs": [],
   "source": [
    "import scattertext as st\n",
    "\n",
    "moral_foundations_feats = st.FeatsFromMoralFoundationsDictionary()\n",
    "\n",
    "corpus = st.CorpusFromPandas(sampled_df,\n",
    "                             category_col=category_col,\n",
    "                             text_col='text',\n",
    "                             nlp=st.whitespace_nlp_with_sentences,\n",
    "                             feats_from_spacy_doc=moral_foundations_feats).build()\n",
    "\n",
    "html = st.produce_frequency_explorer(\n",
    "    corpus,\n",
    "    category=category,\n",
    "    category_name=category_name,\n",
    "    not_category_name=not_category_name,\n",
    "    # metadata=sampled_df.index,\n",
    "    use_non_text_features=True,\n",
    "    use_full_doc=True,\n",
    "    term_scorer=st.CohensD(corpus).use_metadata(),\n",
    "    grey_threshold=0,\n",
    "    width_in_pixels=width,\n",
    "    topic_model_term_lists=moral_foundations_feats.get_top_model_term_lists(),                \n",
    "    metadata_descriptions=moral_foundations_feats.get_definitions(),\n",
    "    # return_scatterplot_structure=True,\n",
    "    save_svg_button=True,\n",
    ")\n",
    "\n",
    "open('./html/'+category_col+'/mft_scattertext.html', 'w').write(html)"
   ]
  },
  {
   "cell_type": "code",
   "execution_count": null,
   "id": "4e27f54a-6a54-449c-9381-c797b58915d5",
   "metadata": {},
   "outputs": [],
   "source": [
    "sampled_df['text'] = sampled_df['text'].apply(lambda t: t[:1000000])\n",
    "# Work-around for spacy"
   ]
  },
  {
   "cell_type": "code",
   "execution_count": null,
   "id": "509c17e0-950a-4029-ac30-b27c7ccc75bc",
   "metadata": {},
   "outputs": [],
   "source": [
    "nlp = spacy.load('en_core_web_sm')"
   ]
  },
  {
   "cell_type": "code",
   "execution_count": null,
   "id": "c9854527-e790-4941-8c85-bcf3aea8cca3",
   "metadata": {},
   "outputs": [],
   "source": [
    "corpus = st.CorpusFromPandas(sampled_df,\n",
    "                             category_col=category_col,\n",
    "                             text_col='text',\n",
    "                             nlp=nlp).build()"
   ]
  },
  {
   "cell_type": "code",
   "execution_count": null,
   "id": "da182374-1a3e-4b36-868d-80cac7b573a6",
   "metadata": {},
   "outputs": [],
   "source": [
    "html = st.produce_scattertext_explorer(corpus,\n",
    "    category=category,\n",
    "    category_name=category_name,\n",
    "    not_category_name=not_category_name,\n",
    "    # metadata=sampled_df.index,\n",
    "    width_in_pixels=width,\n",
    "    save_svg_button=True,\n",
    ")"
   ]
  },
  {
   "cell_type": "code",
   "execution_count": null,
   "id": "2d6b87b4-7eee-4bb9-abd3-1aa3e1cba01f",
   "metadata": {},
   "outputs": [],
   "source": [
    "open('./html/'+category_col+'/term_scattertext.html', 'w').write(html)"
   ]
  },
  {
   "cell_type": "code",
   "execution_count": null,
   "id": "276d2b16-5ec5-4dad-91ca-589d98b9c7aa",
   "metadata": {},
   "outputs": [],
   "source": []
  },
  {
   "cell_type": "code",
   "execution_count": null,
   "id": "30845bc6-297a-4e79-8fad-f4df79528b0c",
   "metadata": {},
   "outputs": [],
   "source": [
    "# import pytextrank, spacy\n",
    "# import scattertext as st\n",
    "\n",
    "# nlp = spacy.load('en_core_web_sm')\n",
    "# nlp.add_pipe(\"textrank\", last=True)\n",
    "\n",
    "# sampled_df['parse'] = sampled_df.text.progress_apply(nlp)\n",
    "\n",
    "# corpus = st.CorpusFromParsedDocuments(\n",
    "#     sampled_df,\n",
    "#     category_col=category_col,\n",
    "#     parsed_col='parse',\n",
    "#     feats_from_spacy_doc=st.PyTextRankPhrases()\n",
    "# ).build(\n",
    "# ).compact(\n",
    "#     st.AssociationCompactor(2000, use_non_text_features=True)\n",
    "# )\n",
    "\n",
    "# term_category_scores = corpus.get_metadata_freq_df('')\n",
    "\n",
    "# term_ranks = np.argsort(np.argsort(-term_category_scores, axis=0), axis=0) + 1\n",
    "\n",
    "# category_specific_prominence = term_category_scores.apply(\n",
    "#     lambda r: r.L if r.L > r.R else -r.R,\n",
    "#     axis=1\n",
    "# )\n",
    "\n",
    "# html = st.produce_scattertext_explorer(\n",
    "#     corpus,\n",
    "#     category='L',\n",
    "#     not_category_name='R',\n",
    "#     minimum_term_frequency=0,\n",
    "#     pmi_threshold_coefficient=0,\n",
    "#     width_in_pixels=1000,\n",
    "#     transform=st.dense_rank,\n",
    "#     metadata=corpus.get_df().index,\n",
    "#     scores=category_specific_prominence,\n",
    "#     sort_by_dist=False,\n",
    "#     use_non_text_features=True,\n",
    "#     topic_model_term_lists={term: [term] for term in corpus.get_metadata()},\n",
    "#     topic_model_preview_size=0,\n",
    "#     # metadata_descriptions=metadata_descriptions,\n",
    "#     use_full_doc=True,\n",
    "#     save_svg_button=True,\n",
    "# )\n",
    "\n",
    "# open('./phrase_scattertext.html', 'w').write(html)"
   ]
  },
  {
   "cell_type": "code",
   "execution_count": null,
   "id": "57d026f7-0a99-4fe8-b7b2-fc2e6ea4e219",
   "metadata": {},
   "outputs": [],
   "source": []
  },
  {
   "cell_type": "code",
   "execution_count": null,
   "id": "93e8a862-03a3-46ea-8715-843087de4c45",
   "metadata": {},
   "outputs": [],
   "source": [
    "import nltk\n",
    "\n",
    "import scattertext as st\n",
    "from scattertext.termranking import OncePerDocFrequencyRanker"
   ]
  },
  {
   "cell_type": "code",
   "execution_count": null,
   "id": "53355d3b-ba18-4894-8c88-00521ece4910",
   "metadata": {},
   "outputs": [],
   "source": [
    "nlp = st.tweet_tokenizier_factory(nltk.tokenize.TweetTokenizer())\n",
    "sampled_df['parse'] = (sampled_df.name + sampled_df.bio + sampled_df.text).progress_apply(nlp)"
   ]
  },
  {
   "cell_type": "code",
   "execution_count": null,
   "id": "986e6c4a-51eb-44df-ad08-dbf03b6b7e0e",
   "metadata": {},
   "outputs": [],
   "source": [
    "corpus = st.CorpusFromParsedDocuments(\n",
    "    sampled_df,\n",
    "    category_col=category_col,\n",
    "    parsed_col='parse',\n",
    "    feats_from_spacy_doc=st.FeatsFromSpacyDocOnlyEmoji()\n",
    ").build()"
   ]
  },
  {
   "cell_type": "code",
   "execution_count": null,
   "id": "4cea6453-6c37-486a-9ccd-26d0878f58c8",
   "metadata": {},
   "outputs": [],
   "source": [
    "html = st.produce_scattertext_explorer(\n",
    "    corpus,\n",
    "    category=category,\n",
    "    category_name=category_name,\n",
    "    not_category_name=not_category_name,\n",
    "    use_full_doc=True,\n",
    "    term_ranker=OncePerDocFrequencyRanker,\n",
    "    sort_by_dist=False,\n",
    "    metadata=sampled_df.index,\n",
    "    width_in_pixels=width,\n",
    "    save_svg_button=True,\n",
    ")"
   ]
  },
  {
   "cell_type": "code",
   "execution_count": null,
   "id": "87af3e5c-7726-4220-b5b1-3130425990e8",
   "metadata": {},
   "outputs": [],
   "source": [
    "open('./html/'+category_col+'/emoji_scattertext_v2.html', 'w').write(html)"
   ]
  },
  {
   "cell_type": "code",
   "execution_count": null,
   "id": "90dea2e1-4e5f-46d7-835c-fafce86d0729",
   "metadata": {},
   "outputs": [],
   "source": []
  },
  {
   "cell_type": "code",
   "execution_count": null,
   "id": "dc34ea22-952b-4de0-a7da-db40910ebafe",
   "metadata": {},
   "outputs": [],
   "source": []
  },
  {
   "cell_type": "code",
   "execution_count": null,
   "id": "20e0df88-5e9a-4ec3-8712-42a5d988b6ab",
   "metadata": {},
   "outputs": [],
   "source": [
    "feat_builder = st.FeatsFromOnlyEmpath()"
   ]
  },
  {
   "cell_type": "code",
   "execution_count": null,
   "id": "71ee7d1c-b0c9-4fee-8596-1f92ab7fd2a3",
   "metadata": {},
   "outputs": [],
   "source": [
    "corpus = st.CorpusFromParsedDocuments(\n",
    "    # sampled_df,\n",
    "    df[df.lr_label != 'N'],\n",
    "    category_col=category_col,\n",
    "    parsed_col='text',\n",
    "    feats_from_spacy_doc=feat_builder\n",
    ").build()"
   ]
  },
  {
   "cell_type": "code",
   "execution_count": null,
   "id": "06e09b7d-6e7f-4189-9180-6b415ddaae69",
   "metadata": {},
   "outputs": [],
   "source": [
    "html = st.produce_scattertext_explorer(\n",
    "    corpus,\n",
    "    category=category,\n",
    "    category_name=category_name,\n",
    "    not_category_name=not_category_name,\n",
    "    width_in_pixels=width,\n",
    "    metadata=sampled_df.index,\n",
    "    use_non_text_features=True,\n",
    "    use_full_doc=True,\n",
    "    topic_model_term_lists=feat_builder.get_top_model_term_lists(),\n",
    "    save_svg_button=True,\n",
    ")"
   ]
  },
  {
   "cell_type": "code",
   "execution_count": null,
   "id": "c13c7bc0-2117-4ee9-a4b8-99e370a37132",
   "metadata": {},
   "outputs": [],
   "source": [
    "open('./html/'+category_col+'/empath_scattertext.html', 'w').write(html)"
   ]
  },
  {
   "cell_type": "code",
   "execution_count": null,
   "id": "a61a32eb-530d-4146-acf5-fdc68250d4f9",
   "metadata": {},
   "outputs": [],
   "source": []
  },
  {
   "cell_type": "code",
   "execution_count": null,
   "id": "c4debca7-a2af-46c7-b106-10c191fe21ae",
   "metadata": {},
   "outputs": [],
   "source": []
  },
  {
   "cell_type": "code",
   "execution_count": null,
   "id": "a654aeab-1c76-46ef-8762-31a9ffd0814f",
   "metadata": {},
   "outputs": [],
   "source": []
  },
  {
   "cell_type": "code",
   "execution_count": null,
   "id": "41e36066-fe11-4637-9864-b477dc4f15ea",
   "metadata": {},
   "outputs": [],
   "source": [
    "import nltk\n",
    "\n",
    "import scattertext as st\n",
    "from scattertext.termranking import OncePerDocFrequencyRanker"
   ]
  },
  {
   "cell_type": "code",
   "execution_count": null,
   "id": "d8c76746-cf7d-4f78-a4d6-0dc9c2b4f95c",
   "metadata": {},
   "outputs": [],
   "source": [
    "nlp = st.tweet_tokenizier_factory(nltk.tokenize.TweetTokenizer())\n",
    "sampled_df['parse'] = (sampled_df.name + sampled_df.bio + sampled_df.text).progress_apply(nlp)"
   ]
  },
  {
   "cell_type": "code",
   "execution_count": null,
   "id": "7c970d20-0077-4769-b2eb-fa868ee2e0f9",
   "metadata": {},
   "outputs": [],
   "source": [
    "corpus = st.CorpusFromParsedDocuments(\n",
    "    sampled_df,\n",
    "    category_col=category_col,\n",
    "    parsed_col='parse',\n",
    "    feats_from_spacy_doc=st.FeatsFromSpacyDocOnlyEmoji()\n",
    ").build()"
   ]
  },
  {
   "cell_type": "code",
   "execution_count": null,
   "id": "d6a74bd9-990d-4624-b99d-84f9a04a18d3",
   "metadata": {},
   "outputs": [],
   "source": []
  },
  {
   "cell_type": "code",
   "execution_count": null,
   "id": "05ec32e7-0555-4116-86cf-5240c64e796e",
   "metadata": {},
   "outputs": [],
   "source": [
    "from scipy.stats import rankdata, hmean, norm"
   ]
  },
  {
   "cell_type": "code",
   "execution_count": null,
   "id": "7e110f0f-456e-4da7-88b7-11e385a45f8e",
   "metadata": {},
   "outputs": [],
   "source": [
    "term_freq_df = corpus.get_term_freq_df()"
   ]
  },
  {
   "cell_type": "code",
   "execution_count": null,
   "id": "713ba823-9fd2-43ee-82e3-aa9769015586",
   "metadata": {},
   "outputs": [],
   "source": [
    "primary, secondary = 'L', 'R'\n",
    "primary_freq_name = primary+' freq'\n",
    "secondary_freq_name = secondary+' freq'\n",
    "\n",
    "term_freq_df[primary+'_precision'] = term_freq_df[primary_freq_name] * 1./(term_freq_df[primary_freq_name] + term_freq_df[secondary_freq_name])\n",
    "term_freq_df[primary+'_freq_pct'] = term_freq_df[primary_freq_name] * 1./term_freq_df[primary_freq_name].sum()\n",
    "term_freq_df[primary+'_hmean'] = term_freq_df.apply(lambda x: (hmean([x[primary+'_precision'], x[primary+'_freq_pct']])\n",
    "                                                                   if x[primary+'_precision'] > 0 and x[primary+'_freq_pct'] > 0 \n",
    "                                                                   else 0), axis=1)                                                        \n",
    "term_freq_df.sort_values(by=primary+'_hmean', ascending=False).iloc[:10]"
   ]
  },
  {
   "cell_type": "code",
   "execution_count": null,
   "id": "5712fb43-7328-47dd-a8ed-54dbbd8d2c97",
   "metadata": {},
   "outputs": [],
   "source": [
    "def scale(ar): \n",
    "    return (ar - ar.min()) / (ar.max() - ar.min())\n",
    "\n",
    "def zero_centered_scale(ar):\n",
    "    scores = np.zeros(len(ar))\n",
    "    scores[ar > 0] = scale(ar[ar > 0])\n",
    "    scores[ar < 0] = -scale(-ar[ar < 0])\n",
    "    return (scores + 1) / 2.\n",
    "\n",
    "frequencies_scaled = scale(np.log(term_freq_df.sum(axis=1).values))"
   ]
  },
  {
   "cell_type": "code",
   "execution_count": null,
   "id": "c5504b02-c714-4059-ba98-310d9172733e",
   "metadata": {},
   "outputs": [],
   "source": [
    "from sklearn.linear_model import LogisticRegression\n",
    "scores = corpus.get_logreg_coefs(category,\n",
    "                                 LogisticRegression(penalty='l2', C=10, max_iter=10000, n_jobs=-1))\n",
    "scores_scaled = zero_centered_scale(scores)\n",
    "\n",
    "html = produce_scattertext_explorer(corpus,\n",
    "                                    category=category,\n",
    "                                    category_name=category_name,\n",
    "                                    not_category_name=not_category_name,\n",
    "                                    minimum_term_frequency=5,\n",
    "                                    width_in_pixels=width,\n",
    "                                    x_coords=frequencies_scaled,\n",
    "                                    y_coords=scores_scaled,\n",
    "                                    scores=scores,\n",
    "                                    sort_by_dist=False,\n",
    "                                    metadata=sampled_df.index,\n",
    "                                    x_label='Log frequency',\n",
    "                                    y_label='L2-Penalized Log Reg Coef')\n",
    "file_name = './html/'+category_col+'/emoji_scattertext_v3.html'\n",
    "open(file_name, 'wb').write(html.encode('utf-8'))\n",
    "# IFrame(src=file_name, width = 1200, height=700)"
   ]
  },
  {
   "cell_type": "code",
   "execution_count": null,
   "id": "9a9294f9-74a7-4288-a29b-86fe68fc3a29",
   "metadata": {},
   "outputs": [],
   "source": [
    "html = produce_scattertext_explorer(corpus,\n",
    "                                    category=category,\n",
    "                                    category_name=category_name,\n",
    "                                    not_category_name=not_category_name,\n",
    "                                    minimum_term_frequency=5,\n",
    "                                    width_in_pixels=width,\n",
    "                                    x_coords=frequencies_scaled,\n",
    "                                    y_coords=corpus.get_scaled_f_scores('democrat', beta=0.5),\n",
    "                                    scores=corpus.get_scaled_f_scores('democrat', beta=0.5),\n",
    "                                    sort_by_dist=False,\n",
    "                                    metadata=sampled_df.index,\n",
    "                                    x_label='Log Frequency',\n",
    "                                    y_label='Scaled F-Score')\n",
    "file_name = './html/'+category_col+'/emoji_scattertext_v4.html'\n",
    "open(file_name, 'wb').write(html.encode('utf-8'))\n",
    "# IFrame(src=file_name, width = 1200, height=700)"
   ]
  },
  {
   "cell_type": "code",
   "execution_count": null,
   "id": "e73ea7b8-b494-49d3-b317-39e92f460137",
   "metadata": {},
   "outputs": [],
   "source": []
  }
 ],
 "metadata": {
  "kernelspec": {
   "display_name": "rr",
   "language": "python",
   "name": "rr"
  },
  "language_info": {
   "codemirror_mode": {
    "name": "ipython",
    "version": 3
   },
   "file_extension": ".py",
   "mimetype": "text/x-python",
   "name": "python",
   "nbconvert_exporter": "python",
   "pygments_lexer": "ipython3",
   "version": "3.10.4"
  }
 },
 "nbformat": 4,
 "nbformat_minor": 5
}
