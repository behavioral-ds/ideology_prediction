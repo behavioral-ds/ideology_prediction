{
 "cells": [
  {
   "cell_type": "code",
   "execution_count": 42,
   "id": "60a80051-14a7-4aa3-8d71-d9a56f80f4d2",
   "metadata": {},
   "outputs": [],
   "source": [
    "from dotenv import load_dotenv\n",
    "import os\n",
    "import pandas as pd\n",
    "load_dotenv()\n",
    "import pickle as pk\n",
    "import numpy as np\n",
    "from pathlib import Path\n",
    "base_dir = os.getenv('BASEDIR')\n",
    "\n",
    "from tqdm import tqdm\n",
    "tqdm.pandas()"
   ]
  },
  {
   "cell_type": "code",
   "execution_count": 43,
   "id": "b9e2a706-6bf5-4c8e-bf6a-45308ac9d75f",
   "metadata": {},
   "outputs": [],
   "source": [
    "manual_validation = pd.read_csv(os.path.join(base_dir,'data','02_ground_truth_data','manual_validation','qanda_validated_2.csv'), dtype=str)\n",
    "manual_validation['stance'] = manual_validation.label.astype(int)\n",
    "manual_validation['uid'] = manual_validation.UID"
   ]
  },
  {
   "cell_type": "code",
   "execution_count": 44,
   "id": "21fa917e-d68b-4d9b-96a4-122642076c6c",
   "metadata": {},
   "outputs": [],
   "source": [
    "group_manual_validation = pd.read_csv(os.path.join(base_dir,'data','02_ground_truth_data','group_qanda_manual_annotation.csv'), dtype=str)\n",
    "group_manual_validation['stance'] = group_manual_validation.label.astype(int)\n",
    "group_manual_validation['uid'] = group_manual_validation.UID"
   ]
  },
  {
   "cell_type": "code",
   "execution_count": 47,
   "id": "366ba510-d629-4987-ad8c-2dcf18af95d3",
   "metadata": {},
   "outputs": [],
   "source": [
    "df = pd.merge(group_manual_validation[['uid','stance','Person']], manual_validation[['uid','stance']], on='uid', how='left')"
   ]
  },
  {
   "cell_type": "code",
   "execution_count": 48,
   "id": "50a5ab4d-a8e4-47c5-a508-02ede07a27ad",
   "metadata": {},
   "outputs": [],
   "source": [
    "from sklearn.metrics import cohen_kappa_score"
   ]
  },
  {
   "cell_type": "code",
   "execution_count": 49,
   "id": "02a9bac5-62fc-414b-97b6-b416091b4a73",
   "metadata": {},
   "outputs": [
    {
     "data": {
      "text/plain": [
       "0.5146520146520146"
      ]
     },
     "execution_count": 49,
     "metadata": {},
     "output_type": "execute_result"
    }
   ],
   "source": [
    "cohen_kappa_score(df.stance_x, df.stance_y)"
   ]
  },
  {
   "cell_type": "code",
   "execution_count": 53,
   "id": "c5c30625-89d9-4b4b-8767-f8911d0541ed",
   "metadata": {},
   "outputs": [
    {
     "data": {
      "text/plain": [
       "0.7047368421052631"
      ]
     },
     "execution_count": 53,
     "metadata": {},
     "output_type": "execute_result"
    }
   ],
   "source": [
    "cohen_kappa_score(df[~df.Person.isin(['4','7','8'])].stance_x, df[~df.Person.isin(['4','7','8'])].stance_y)"
   ]
  },
  {
   "cell_type": "code",
   "execution_count": 50,
   "id": "6698a90c-0cb6-4b07-8ab6-1ac03ff80bd3",
   "metadata": {},
   "outputs": [
    {
     "data": {
      "text/plain": [
       "Person\n",
       "1    0.641791\n",
       "3    0.693878\n",
       "4    0.239437\n",
       "5    0.669118\n",
       "6    0.794937\n",
       "7    0.283186\n",
       "8    0.231499\n",
       "dtype: float64"
      ]
     },
     "execution_count": 50,
     "metadata": {},
     "output_type": "execute_result"
    }
   ],
   "source": [
    "df.groupby('Person').apply(lambda d: cohen_kappa_score(d.stance_x, d.stance_y))"
   ]
  },
  {
   "cell_type": "code",
   "execution_count": 56,
   "id": "f9eccbd4-af44-4829-aa89-da32eb62ee6b",
   "metadata": {},
   "outputs": [
    {
     "data": {
      "text/plain": [
       "stance_y\n",
       "-1    0.0\n",
       " 1    0.0\n",
       " 2    0.0\n",
       "dtype: float64"
      ]
     },
     "execution_count": 56,
     "metadata": {},
     "output_type": "execute_result"
    }
   ],
   "source": [
    "df.groupby('stance_x').apply(lambda d: cohen_kappa_score(d.stance_y,d.stance_x))"
   ]
  },
  {
   "cell_type": "code",
   "execution_count": 22,
   "id": "42b60fa3-680d-4053-9acf-d46151e0a3fe",
   "metadata": {},
   "outputs": [],
   "source": [
    "mask = (df.stance_x == -1) | (df.stance_y == -1)"
   ]
  },
  {
   "cell_type": "code",
   "execution_count": 17,
   "id": "edc2557f-8d1f-42c5-9690-778856b82814",
   "metadata": {},
   "outputs": [
    {
     "data": {
      "text/plain": [
       "0.5146520146520146"
      ]
     },
     "execution_count": 17,
     "metadata": {},
     "output_type": "execute_result"
    }
   ],
   "source": [
    "cohen_kappa_score(df.stance_x, df.stance_y)"
   ]
  },
  {
   "cell_type": "code",
   "execution_count": 23,
   "id": "d78c457b-0e97-46ce-a97f-052374b6f04a",
   "metadata": {},
   "outputs": [
    {
     "data": {
      "text/plain": [
       "-0.29441624365482233"
      ]
     },
     "execution_count": 23,
     "metadata": {},
     "output_type": "execute_result"
    }
   ],
   "source": [
    "cohen_kappa_score(df[mask].stance_x, df[mask].stance_y)"
   ]
  },
  {
   "cell_type": "code",
   "execution_count": 30,
   "id": "23cd4488-9819-4f8b-8d12-b1c65e2a6e12",
   "metadata": {},
   "outputs": [
    {
     "data": {
      "text/html": [
       "<div>\n",
       "<style scoped>\n",
       "    .dataframe tbody tr th:only-of-type {\n",
       "        vertical-align: middle;\n",
       "    }\n",
       "\n",
       "    .dataframe tbody tr th {\n",
       "        vertical-align: top;\n",
       "    }\n",
       "\n",
       "    .dataframe thead th {\n",
       "        text-align: right;\n",
       "    }\n",
       "</style>\n",
       "<table border=\"1\" class=\"dataframe\">\n",
       "  <thead>\n",
       "    <tr style=\"text-align: right;\">\n",
       "      <th></th>\n",
       "      <th>UID</th>\n",
       "      <th>username</th>\n",
       "      <th>name</th>\n",
       "      <th>protected?</th>\n",
       "      <th>url</th>\n",
       "      <th>label</th>\n",
       "      <th>left</th>\n",
       "      <th>right</th>\n",
       "      <th>far-right</th>\n",
       "      <th>N/A</th>\n",
       "      <th>Notes</th>\n",
       "      <th>Person</th>\n",
       "      <th>stance</th>\n",
       "      <th>uid</th>\n",
       "    </tr>\n",
       "  </thead>\n",
       "  <tbody>\n",
       "    <tr>\n",
       "      <th>0</th>\n",
       "      <td>1271723012409049088</td>\n",
       "      <td>Bonzo08367039</td>\n",
       "      <td>Bonzo</td>\n",
       "      <td>FALSE</td>\n",
       "      <td>twitter.com/Bonzo08367039</td>\n",
       "      <td>1</td>\n",
       "      <td>1</td>\n",
       "      <td>NaN</td>\n",
       "      <td>NaN</td>\n",
       "      <td>NaN</td>\n",
       "      <td>Anti-Abbott</td>\n",
       "      <td>1</td>\n",
       "      <td>1</td>\n",
       "      <td>1271723012409049088</td>\n",
       "    </tr>\n",
       "    <tr>\n",
       "      <th>1</th>\n",
       "      <td>1275613388991651846</td>\n",
       "      <td>Podwhale2</td>\n",
       "      <td>Podwhale</td>\n",
       "      <td>FALSE</td>\n",
       "      <td>twitter.com/Podwhale2</td>\n",
       "      <td>1</td>\n",
       "      <td>1</td>\n",
       "      <td>NaN</td>\n",
       "      <td>NaN</td>\n",
       "      <td>NaN</td>\n",
       "      <td>Anti-Morrison</td>\n",
       "      <td>1</td>\n",
       "      <td>1</td>\n",
       "      <td>1275613388991651846</td>\n",
       "    </tr>\n",
       "    <tr>\n",
       "      <th>2</th>\n",
       "      <td>55978337</td>\n",
       "      <td>Andrew8754</td>\n",
       "      <td>Andrew</td>\n",
       "      <td>FALSE</td>\n",
       "      <td>twitter.com/Andrew8754</td>\n",
       "      <td>1</td>\n",
       "      <td>1</td>\n",
       "      <td>NaN</td>\n",
       "      <td>NaN</td>\n",
       "      <td>NaN</td>\n",
       "      <td>Anti-Morrison</td>\n",
       "      <td>1</td>\n",
       "      <td>1</td>\n",
       "      <td>55978337</td>\n",
       "    </tr>\n",
       "    <tr>\n",
       "      <th>3</th>\n",
       "      <td>185932331</td>\n",
       "      <td>AlanTudgeMP</td>\n",
       "      <td>Alan Tudge</td>\n",
       "      <td>FALSE</td>\n",
       "      <td>twitter.com/AlanTudgeMP</td>\n",
       "      <td>2</td>\n",
       "      <td>NaN</td>\n",
       "      <td>1</td>\n",
       "      <td>NaN</td>\n",
       "      <td>NaN</td>\n",
       "      <td>Liberal Party</td>\n",
       "      <td>1</td>\n",
       "      <td>2</td>\n",
       "      <td>185932331</td>\n",
       "    </tr>\n",
       "    <tr>\n",
       "      <th>4</th>\n",
       "      <td>1046581409861783553</td>\n",
       "      <td>itslilzap</td>\n",
       "      <td>zap</td>\n",
       "      <td>FALSE</td>\n",
       "      <td>twitter.com/itslilzap</td>\n",
       "      <td>2</td>\n",
       "      <td>NaN</td>\n",
       "      <td>1</td>\n",
       "      <td>NaN</td>\n",
       "      <td>NaN</td>\n",
       "      <td>Against Pfizr</td>\n",
       "      <td>1</td>\n",
       "      <td>2</td>\n",
       "      <td>1046581409861783553</td>\n",
       "    </tr>\n",
       "    <tr>\n",
       "      <th>...</th>\n",
       "      <td>...</td>\n",
       "      <td>...</td>\n",
       "      <td>...</td>\n",
       "      <td>...</td>\n",
       "      <td>...</td>\n",
       "      <td>...</td>\n",
       "      <td>...</td>\n",
       "      <td>...</td>\n",
       "      <td>...</td>\n",
       "      <td>...</td>\n",
       "      <td>...</td>\n",
       "      <td>...</td>\n",
       "      <td>...</td>\n",
       "      <td>...</td>\n",
       "    </tr>\n",
       "    <tr>\n",
       "      <th>174</th>\n",
       "      <td>1237931074631630850</td>\n",
       "      <td>UNKNOWN56236823</td>\n",
       "      <td>UNKNOWN</td>\n",
       "      <td>FALSE</td>\n",
       "      <td>twitter.com/UNKNOWN56236823</td>\n",
       "      <td>2</td>\n",
       "      <td>NaN</td>\n",
       "      <td>NaN</td>\n",
       "      <td>1</td>\n",
       "      <td>NaN</td>\n",
       "      <td>Retweets conspiracy theories</td>\n",
       "      <td>8</td>\n",
       "      <td>2</td>\n",
       "      <td>1237931074631630850</td>\n",
       "    </tr>\n",
       "    <tr>\n",
       "      <th>175</th>\n",
       "      <td>30416880</td>\n",
       "      <td>katek3</td>\n",
       "      <td>Kate Kneebone</td>\n",
       "      <td>FALSE</td>\n",
       "      <td>twitter.com/katek3</td>\n",
       "      <td>1</td>\n",
       "      <td>1</td>\n",
       "      <td>NaN</td>\n",
       "      <td>NaN</td>\n",
       "      <td>NaN</td>\n",
       "      <td>Some left leaning content</td>\n",
       "      <td>8</td>\n",
       "      <td>1</td>\n",
       "      <td>30416880</td>\n",
       "    </tr>\n",
       "    <tr>\n",
       "      <th>177</th>\n",
       "      <td>171437375</td>\n",
       "      <td>jkalbrechtsen</td>\n",
       "      <td>janet albrechtsen</td>\n",
       "      <td>FALSE</td>\n",
       "      <td>twitter.com/jkalbrechtsen</td>\n",
       "      <td>2</td>\n",
       "      <td>NaN</td>\n",
       "      <td>1</td>\n",
       "      <td>NaN</td>\n",
       "      <td>NaN</td>\n",
       "      <td>Right leaning journalist</td>\n",
       "      <td>8</td>\n",
       "      <td>2</td>\n",
       "      <td>171437375</td>\n",
       "    </tr>\n",
       "    <tr>\n",
       "      <th>178</th>\n",
       "      <td>63942152</td>\n",
       "      <td>JoshFrydenberg</td>\n",
       "      <td>Josh Frydenberg</td>\n",
       "      <td>FALSE</td>\n",
       "      <td>twitter.com/JoshFrydenberg</td>\n",
       "      <td>2</td>\n",
       "      <td>NaN</td>\n",
       "      <td>1</td>\n",
       "      <td>NaN</td>\n",
       "      <td>NaN</td>\n",
       "      <td>Liberal minister</td>\n",
       "      <td>8</td>\n",
       "      <td>2</td>\n",
       "      <td>63942152</td>\n",
       "    </tr>\n",
       "    <tr>\n",
       "      <th>179</th>\n",
       "      <td>3038753806</td>\n",
       "      <td>jon69595</td>\n",
       "      <td>Jon65959</td>\n",
       "      <td>FALSE</td>\n",
       "      <td>twitter.com/jon69595</td>\n",
       "      <td>2</td>\n",
       "      <td>NaN</td>\n",
       "      <td>NaN</td>\n",
       "      <td>1</td>\n",
       "      <td>NaN</td>\n",
       "      <td>Xenophobic</td>\n",
       "      <td>8</td>\n",
       "      <td>2</td>\n",
       "      <td>3038753806</td>\n",
       "    </tr>\n",
       "  </tbody>\n",
       "</table>\n",
       "<p>160 rows × 14 columns</p>\n",
       "</div>"
      ],
      "text/plain": [
       "                     UID         username               name protected?  \\\n",
       "0    1271723012409049088    Bonzo08367039              Bonzo      FALSE   \n",
       "1    1275613388991651846        Podwhale2           Podwhale      FALSE   \n",
       "2               55978337       Andrew8754             Andrew      FALSE   \n",
       "3              185932331      AlanTudgeMP         Alan Tudge      FALSE   \n",
       "4    1046581409861783553        itslilzap                zap      FALSE   \n",
       "..                   ...              ...                ...        ...   \n",
       "174  1237931074631630850  UNKNOWN56236823            UNKNOWN      FALSE   \n",
       "175             30416880           katek3      Kate Kneebone      FALSE   \n",
       "177            171437375    jkalbrechtsen  janet albrechtsen      FALSE   \n",
       "178             63942152   JoshFrydenberg    Josh Frydenberg      FALSE   \n",
       "179           3038753806         jon69595           Jon65959      FALSE   \n",
       "\n",
       "                             url label left right far-right  N/A  \\\n",
       "0      twitter.com/Bonzo08367039     1    1   NaN       NaN  NaN   \n",
       "1          twitter.com/Podwhale2     1    1   NaN       NaN  NaN   \n",
       "2         twitter.com/Andrew8754     1    1   NaN       NaN  NaN   \n",
       "3        twitter.com/AlanTudgeMP     2  NaN     1       NaN  NaN   \n",
       "4          twitter.com/itslilzap     2  NaN     1       NaN  NaN   \n",
       "..                           ...   ...  ...   ...       ...  ...   \n",
       "174  twitter.com/UNKNOWN56236823     2  NaN   NaN         1  NaN   \n",
       "175           twitter.com/katek3     1    1   NaN       NaN  NaN   \n",
       "177    twitter.com/jkalbrechtsen     2  NaN     1       NaN  NaN   \n",
       "178   twitter.com/JoshFrydenberg     2  NaN     1       NaN  NaN   \n",
       "179         twitter.com/jon69595     2  NaN   NaN         1  NaN   \n",
       "\n",
       "                            Notes Person  stance                  uid  \n",
       "0                     Anti-Abbott      1       1  1271723012409049088  \n",
       "1                   Anti-Morrison      1       1  1275613388991651846  \n",
       "2                   Anti-Morrison      1       1             55978337  \n",
       "3                   Liberal Party      1       2            185932331  \n",
       "4                   Against Pfizr      1       2  1046581409861783553  \n",
       "..                            ...    ...     ...                  ...  \n",
       "174  Retweets conspiracy theories      8       2  1237931074631630850  \n",
       "175     Some left leaning content      8       1             30416880  \n",
       "177      Right leaning journalist      8       2            171437375  \n",
       "178              Liberal minister      8       2             63942152  \n",
       "179                    Xenophobic      8       2           3038753806  \n",
       "\n",
       "[160 rows x 14 columns]"
      ]
     },
     "execution_count": 30,
     "metadata": {},
     "output_type": "execute_result"
    }
   ],
   "source": [
    "group_manual_validation[group_manual_validation.stance != -1]"
   ]
  },
  {
   "cell_type": "code",
   "execution_count": null,
   "id": "6b9513a3-c486-47ad-b639-308390511c86",
   "metadata": {},
   "outputs": [],
   "source": []
  }
 ],
 "metadata": {
  "kernelspec": {
   "display_name": "rr",
   "language": "python",
   "name": "rr"
  },
  "language_info": {
   "codemirror_mode": {
    "name": "ipython",
    "version": 3
   },
   "file_extension": ".py",
   "mimetype": "text/x-python",
   "name": "python",
   "nbconvert_exporter": "python",
   "pygments_lexer": "ipython3",
   "version": "3.10.4"
  }
 },
 "nbformat": 4,
 "nbformat_minor": 5
}
