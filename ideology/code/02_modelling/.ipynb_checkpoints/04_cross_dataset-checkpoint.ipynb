{
 "cells": [
  {
   "cell_type": "code",
   "execution_count": 9,
   "id": "6ce73e7f",
   "metadata": {},
   "outputs": [],
   "source": [
    "from dotenv import load_dotenv\n",
    "import os\n",
    "import pandas as pd\n",
    "load_dotenv()\n",
    "import pickle as pk\n",
    "import numpy as np\n",
    "from pathlib import Path\n",
    "base_dir = os.getenv('BASEDIR')\n",
    "\n",
    "from tqdm import tqdm\n",
    "tqdm.pandas()\n",
    "\n",
    "# from lightgbm import LGBMClassifier\n",
    "from flaml.default import LGBMClassifier\n",
    "from itertools import chain, combinations"
   ]
  },
  {
   "cell_type": "code",
   "execution_count": 10,
   "id": "87e77680",
   "metadata": {},
   "outputs": [],
   "source": [
    "import pandas as pd\n",
    "import os \n",
    "import re\n",
    "import numpy as np\n",
    "from tqdm import tqdm\n",
    "\n",
    "from sklearn.model_selection import cross_val_predict, StratifiedKFold\n",
    "from sklearn.metrics import roc_auc_score, f1_score\n",
    "from sklearn.datasets import make_classification\n",
    "\n",
    "import os\n",
    "from collections import defaultdict"
   ]
  },
  {
   "cell_type": "code",
   "execution_count": 5,
   "id": "a08fb95f",
   "metadata": {},
   "outputs": [],
   "source": [
    "datasets = ['qanda','ausvotes','socialsense','riot','parler']"
   ]
  },
  {
   "cell_type": "code",
   "execution_count": 6,
   "id": "bf46d4af",
   "metadata": {},
   "outputs": [],
   "source": [
    "performance = {dataset : {} for dataset in datasets}\n",
    "gt_f1 = {dataset : {} for dataset in datasets}"
   ]
  },
  {
   "cell_type": "code",
   "execution_count": 7,
   "id": "6797fb83",
   "metadata": {},
   "outputs": [],
   "source": [
    "import itertools\n",
    "def all_combinations(l):\n",
    "    return(itertools.product(l, repeat=2))"
   ]
  },
  {
   "cell_type": "code",
   "execution_count": 13,
   "id": "c5fea4d5",
   "metadata": {
    "tags": []
   },
   "outputs": [
    {
     "name": "stdout",
     "output_type": "stream",
     "text": [
      "qanda qanda\n",
      "Area under the ROC Curve: 0.8194638749564133\n",
      "qanda ausvotes\n",
      "Area under the ROC Curve: 0.6610442072633502\n",
      "qanda socialsense\n",
      "Area under the ROC Curve: 0.65880203618313\n",
      "qanda riot\n",
      "Area under the ROC Curve: 0.6119675365166202\n",
      "qanda parler\n",
      "Area under the ROC Curve: 0.6254275482093664\n",
      "ausvotes qanda\n",
      "Area under the ROC Curve: 0.7001270716588296\n",
      "ausvotes ausvotes\n",
      "Area under the ROC Curve: 0.7332173942975482\n",
      "ausvotes socialsense\n",
      "Area under the ROC Curve: 0.6413279787281859\n",
      "ausvotes riot\n",
      "Area under the ROC Curve: 0.5970255905478487\n",
      "ausvotes parler\n",
      "Area under the ROC Curve: 0.5738565026377861\n",
      "socialsense qanda\n",
      "Area under the ROC Curve: 0.660975925985044\n",
      "socialsense ausvotes\n",
      "Area under the ROC Curve: 0.5873386808611497\n",
      "socialsense socialsense\n",
      "Area under the ROC Curve: 0.8110719231818209\n",
      "socialsense riot\n",
      "Area under the ROC Curve: 0.5722764360767042\n",
      "socialsense parler\n",
      "Area under the ROC Curve: 0.557019089288608\n",
      "riot qanda\n",
      "Area under the ROC Curve: 0.6886101006867661\n",
      "riot ausvotes\n",
      "Area under the ROC Curve: 0.5968879578237779\n",
      "riot socialsense\n",
      "Area under the ROC Curve: 0.6707846731216002\n",
      "riot riot\n",
      "Area under the ROC Curve: 0.7467256409070241\n",
      "riot parler\n",
      "Area under the ROC Curve: 0.6416997794342715\n",
      "parler qanda\n",
      "Area under the ROC Curve: 0.6824799346252771\n",
      "parler ausvotes\n",
      "Area under the ROC Curve: 0.5596267626533383\n",
      "parler socialsense\n",
      "Area under the ROC Curve: 0.6134864941893039\n",
      "parler riot\n",
      "Area under the ROC Curve: 0.6216200980664878\n",
      "parler parler\n",
      "Area under the ROC Curve: 0.727977893912386\n"
     ]
    }
   ],
   "source": [
    "granularity = '_per_user'\n",
    "feature_set = ['use']\n",
    "ground_truth = 'URL_LR'\n",
    "for train, test in itertools.chain(all_combinations(datasets)):\n",
    "    train_path = os.path.join(base_dir,'data','03_processed',train,'ground_truth', train+'_'+ground_truth+'_'+granularity+'.pk')\n",
    "    if not os.path.exists(train_path):\n",
    "        continue\n",
    "    test_path = os.path.join(base_dir,'data','03_processed',test,'ground_truth', test+'_'+ground_truth+'_'+granularity+'.pk')\n",
    "    if not os.path.exists(test_path):\n",
    "        continue\n",
    "#         print(train, test)\n",
    "    def load_vector(fp):\n",
    "        with open(fp, 'rb') as rf:\n",
    "            vec = pk.load(rf)\n",
    "        return vec\n",
    "    \n",
    "    y_train = load_vector(train_path).values\n",
    "    mask_train = y_train >= 0\n",
    "\n",
    "    y_test = load_vector(test_path).values\n",
    "    mask_test = y_test >= 0\n",
    "    if any(mask_train):\n",
    "        y_train = y_train[mask_train]\n",
    "        feature_paths = [os.path.join(base_dir,'data','03_processed',train,'features', train+'_'+feature+'_'+granularity+'.pk') for feature in feature_set]\n",
    "        X_train = np.asarray(np.hstack([load_vector(fp) for fp in feature_paths]))\n",
    "        X_train = X_train[mask_train]\n",
    "\n",
    "        y_test = y_test[mask_test]\n",
    "        feature_paths = [os.path.join(base_dir,'data','03_processed',test,'features', test+'_'+feature+'_'+granularity+'.pk') for feature in feature_set]\n",
    "        X_test = np.asarray(np.hstack([load_vector(fp) for fp in feature_paths]))\n",
    "        X_test = X_test[mask_test]\n",
    "\n",
    "        et = LGBMClassifier(is_unbalance=True,n_estimators=200, n_jobs=-1, verbose=-1, seed=123)\n",
    "        if train == test:\n",
    "            # et = LGBMClassifier(n_estimators=100, min_data_in_leaf=500,colsample_bytree=0.8, class_weight='balanced', n_jobs=-1)\n",
    "            skf = StratifiedKFold(n_splits=5, shuffle=True)\n",
    "            preds = cross_val_predict(et, X_train, y_train, cv=skf, method='predict_proba')\n",
    "        else:\n",
    "            # et = LGBMClassifier(n_estimators=100, min_data_in_leaf=500,colsample_bytree=0.8, class_weight='balanced', n_jobs=-1)\n",
    "            et.fit(X_train,y_train)\n",
    "            preds = et.predict_proba(X_test)\n",
    "        # evaluating the model\n",
    "        print(train, test)\n",
    "        print('Area under the ROC Curve:', roc_auc_score(y_test, preds, multi_class='ovo'))\n",
    "\n",
    "        performance[train][test] = roc_auc_score(y_test, preds, multi_class='ovo')\n",
    "#             except Exception as e:\n",
    "#                 print('Failed for:', train, test)"
   ]
  },
  {
   "cell_type": "code",
   "execution_count": 14,
   "id": "74467da3",
   "metadata": {},
   "outputs": [],
   "source": [
    "col_order = datasets\n",
    "performance_df =  pd.DataFrame(performance).reindex(index=col_order, columns=col_order) "
   ]
  },
  {
   "cell_type": "code",
   "execution_count": 15,
   "id": "d8d806a8-6d7e-48a2-9e93-00cba1c2fe77",
   "metadata": {},
   "outputs": [
    {
     "data": {
      "text/html": [
       "<div>\n",
       "<style scoped>\n",
       "    .dataframe tbody tr th:only-of-type {\n",
       "        vertical-align: middle;\n",
       "    }\n",
       "\n",
       "    .dataframe tbody tr th {\n",
       "        vertical-align: top;\n",
       "    }\n",
       "\n",
       "    .dataframe thead th {\n",
       "        text-align: right;\n",
       "    }\n",
       "</style>\n",
       "<table border=\"1\" class=\"dataframe\">\n",
       "  <thead>\n",
       "    <tr style=\"text-align: right;\">\n",
       "      <th></th>\n",
       "      <th>qanda</th>\n",
       "      <th>ausvotes</th>\n",
       "      <th>socialsense</th>\n",
       "      <th>riot</th>\n",
       "      <th>parler</th>\n",
       "    </tr>\n",
       "  </thead>\n",
       "  <tbody>\n",
       "    <tr>\n",
       "      <th>qanda</th>\n",
       "      <td>0.819464</td>\n",
       "      <td>0.700127</td>\n",
       "      <td>0.660976</td>\n",
       "      <td>0.688610</td>\n",
       "      <td>0.682480</td>\n",
       "    </tr>\n",
       "    <tr>\n",
       "      <th>ausvotes</th>\n",
       "      <td>0.661044</td>\n",
       "      <td>0.733217</td>\n",
       "      <td>0.587339</td>\n",
       "      <td>0.596888</td>\n",
       "      <td>0.559627</td>\n",
       "    </tr>\n",
       "    <tr>\n",
       "      <th>socialsense</th>\n",
       "      <td>0.658802</td>\n",
       "      <td>0.641328</td>\n",
       "      <td>0.811072</td>\n",
       "      <td>0.670785</td>\n",
       "      <td>0.613486</td>\n",
       "    </tr>\n",
       "    <tr>\n",
       "      <th>riot</th>\n",
       "      <td>0.611968</td>\n",
       "      <td>0.597026</td>\n",
       "      <td>0.572276</td>\n",
       "      <td>0.746726</td>\n",
       "      <td>0.621620</td>\n",
       "    </tr>\n",
       "    <tr>\n",
       "      <th>parler</th>\n",
       "      <td>0.625428</td>\n",
       "      <td>0.573857</td>\n",
       "      <td>0.557019</td>\n",
       "      <td>0.641700</td>\n",
       "      <td>0.727978</td>\n",
       "    </tr>\n",
       "  </tbody>\n",
       "</table>\n",
       "</div>"
      ],
      "text/plain": [
       "                qanda  ausvotes  socialsense      riot    parler\n",
       "qanda        0.819464  0.700127     0.660976  0.688610  0.682480\n",
       "ausvotes     0.661044  0.733217     0.587339  0.596888  0.559627\n",
       "socialsense  0.658802  0.641328     0.811072  0.670785  0.613486\n",
       "riot         0.611968  0.597026     0.572276  0.746726  0.621620\n",
       "parler       0.625428  0.573857     0.557019  0.641700  0.727978"
      ]
     },
     "execution_count": 15,
     "metadata": {},
     "output_type": "execute_result"
    }
   ],
   "source": [
    "performance_df"
   ]
  },
  {
   "cell_type": "code",
   "execution_count": 16,
   "id": "cc33d8f8",
   "metadata": {},
   "outputs": [],
   "source": [
    "performance_df.to_csv(os.path.join(base_dir, 'data', '04_results', 'cross_dataset_auc.csv'))"
   ]
  },
  {
   "cell_type": "code",
   "execution_count": null,
   "id": "c86746da",
   "metadata": {},
   "outputs": [],
   "source": []
  }
 ],
 "metadata": {
  "kernelspec": {
   "display_name": "rr",
   "language": "python",
   "name": "rr"
  },
  "language_info": {
   "codemirror_mode": {
    "name": "ipython",
    "version": 3
   },
   "file_extension": ".py",
   "mimetype": "text/x-python",
   "name": "python",
   "nbconvert_exporter": "python",
   "pygments_lexer": "ipython3",
   "version": "3.10.4"
  }
 },
 "nbformat": 4,
 "nbformat_minor": 5
}
