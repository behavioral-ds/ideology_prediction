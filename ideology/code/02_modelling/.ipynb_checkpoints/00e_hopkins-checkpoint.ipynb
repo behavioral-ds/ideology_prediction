{
 "cells": [
  {
   "cell_type": "code",
   "execution_count": 1,
   "id": "98248366-8fe5-4157-86d3-847311a63371",
   "metadata": {},
   "outputs": [],
   "source": [
    "from dotenv import load_dotenv\n",
    "import os\n",
    "import pandas as pd\n",
    "load_dotenv()\n",
    "import pickle as pk\n",
    "import numpy as np\n",
    "from pathlib import Path\n",
    "base_dir = os.getenv('BASEDIR')\n",
    "\n",
    "from tqdm import tqdm\n",
    "tqdm.pandas()"
   ]
  },
  {
   "cell_type": "code",
   "execution_count": 2,
   "id": "d87b5e77-f981-493c-a32a-2dad5c4210ce",
   "metadata": {},
   "outputs": [
    {
     "ename": "ModuleNotFoundError",
     "evalue": "No module named 'pyclustertend'",
     "output_type": "error",
     "traceback": [
      "\u001b[0;31m---------------------------------------------------------------------------\u001b[0m",
      "\u001b[0;31mModuleNotFoundError\u001b[0m                       Traceback (most recent call last)",
      "Input \u001b[0;32mIn [2]\u001b[0m, in \u001b[0;36m<cell line: 6>\u001b[0;34m()\u001b[0m\n\u001b[1;32m      4\u001b[0m \u001b[38;5;28;01mimport\u001b[39;00m \u001b[38;5;21;01mnumpy\u001b[39;00m \u001b[38;5;28;01mas\u001b[39;00m \u001b[38;5;21;01mnp\u001b[39;00m\n\u001b[1;32m      5\u001b[0m \u001b[38;5;28;01mfrom\u001b[39;00m \u001b[38;5;21;01mtqdm\u001b[39;00m \u001b[38;5;28;01mimport\u001b[39;00m tqdm\n\u001b[0;32m----> 6\u001b[0m \u001b[38;5;28;01mfrom\u001b[39;00m \u001b[38;5;21;01mpyclustertend\u001b[39;00m \u001b[38;5;28;01mimport\u001b[39;00m hopkins\n",
      "\u001b[0;31mModuleNotFoundError\u001b[0m: No module named 'pyclustertend'"
     ]
    }
   ],
   "source": [
    "import pandas as pd\n",
    "import os \n",
    "import re\n",
    "import numpy as np\n",
    "from tqdm import tqdm\n",
    "from pyclustertend import hopkins"
   ]
  },
  {
   "cell_type": "code",
   "execution_count": null,
   "id": "ae4fe716-866c-42ba-ae90-526a9af61e03",
   "metadata": {},
   "outputs": [],
   "source": [
    "datasets = ['qanda','ausvotes','socialsense','riot','parler']"
   ]
  },
  {
   "cell_type": "code",
   "execution_count": 3,
   "id": "5d7f9efe-185c-4be9-89da-191c06985fde",
   "metadata": {},
   "outputs": [],
   "source": [
    "features = ['use', 'ht', 'rt']"
   ]
  },
  {
   "cell_type": "code",
   "execution_count": null,
   "id": "f4c90ada-7e4d-42be-9b0f-a2759adaf4e0",
   "metadata": {},
   "outputs": [],
   "source": [
    "def load_vector(fp):\n",
    "        with open(fp, 'rb') as rf:\n",
    "            vec = pk.load(rf)\n",
    "        return vec"
   ]
  },
  {
   "cell_type": "code",
   "execution_count": null,
   "id": "2f174a20-9b0f-4928-a4d9-f639b74f05cc",
   "metadata": {},
   "outputs": [],
   "source": [
    "granularity = '_per_user'\n",
    "for dataset in datasets:\n",
    "    for feature in features:\n",
    "        fp = os.path.join(base_dir,'data','03_processed',dataset,'features', dataset+'_'+feature+'_'+granularity+'.pk')\n",
    "        if not os.path.exists(fp):\n",
    "            continue\n",
    "            \n",
    "        X_train = np.asarray(np.hstack([load_vector(fp) for fp in feature_paths]))\n",
    "        "
   ]
  }
 ],
 "metadata": {
  "kernelspec": {
   "display_name": "rr",
   "language": "python",
   "name": "rr"
  },
  "language_info": {
   "codemirror_mode": {
    "name": "ipython",
    "version": 3
   },
   "file_extension": ".py",
   "mimetype": "text/x-python",
   "name": "python",
   "nbconvert_exporter": "python",
   "pygments_lexer": "ipython3",
   "version": "3.10.4"
  }
 },
 "nbformat": 4,
 "nbformat_minor": 5
}
