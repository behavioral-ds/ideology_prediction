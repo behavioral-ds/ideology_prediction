{
 "cells": [
  {
   "cell_type": "code",
   "execution_count": 1,
   "id": "905990fb",
   "metadata": {},
   "outputs": [],
   "source": [
    "from dotenv import load_dotenv\n",
    "import os\n",
    "import pandas as pd\n",
    "load_dotenv()\n",
    "from gdtm.helpers.common import load_flat_dataset\n",
    "\n",
    "base_dir = os.getenv('BASEDIR')\n",
    "\n",
    "is_per_user = True"
   ]
  },
  {
   "cell_type": "code",
   "execution_count": 2,
   "id": "d900f34d",
   "metadata": {},
   "outputs": [],
   "source": [
    "from tqdm import tqdm\n",
    "tqdm.pandas()"
   ]
  },
  {
   "cell_type": "code",
   "execution_count": 3,
   "id": "2200a25d",
   "metadata": {},
   "outputs": [],
   "source": [
    "import pandas as pd\n",
    "import os \n",
    "import re\n",
    "import numpy as np\n",
    "from sklearn.feature_extraction.text import TfidfVectorizer\n",
    "from tqdm import tqdm\n",
    "import tensorflow as tf\n",
    "import tensorflow_hub as hub"
   ]
  },
  {
   "cell_type": "code",
   "execution_count": 4,
   "id": "cd3992da",
   "metadata": {},
   "outputs": [],
   "source": [
    "fb_data = pd.read_csv(os.path.join(base_dir,'data','00_pio','fb_for_stance.csv'), dtype=str)[['index','text','text_urls']]\n",
    "fb_data['urls'] = fb_data['text_urls'].fillna('').apply(lambda s: s.strip().split(','))\n",
    "fb_data['text'] = fb_data['text'].apply(lambda t: re.sub(r'http\\S+', '', t)).apply(lambda t: re.sub(\"#[A-Za-z0-9_]+\",\"\", t)).apply(lambda t: re.sub(r'@\\S+', '', t))\n",
    "fb_data['id'] = fb_data['index']\n",
    "\n",
    "fb_data = fb_data[['id', 'text','urls']]"
   ]
  },
  {
   "cell_type": "code",
   "execution_count": 5,
   "id": "dcffed72",
   "metadata": {},
   "outputs": [],
   "source": [
    "id_uid_index = pd.read_csv(os.path.join(base_dir,'data','00_pio','socialsense_id_uid_index.csv'), dtype=str, header=None, names=['id', 'cid','uid'])[['id','uid']]"
   ]
  },
  {
   "cell_type": "code",
   "execution_count": 6,
   "id": "8f55b6f4",
   "metadata": {},
   "outputs": [],
   "source": [
    "tw_data = pd.read_csv(os.path.join(base_dir,'data','00_pio','tw_for_stance_unrolled.csv'), dtype=str)[['id', 'text','text_urls_unrolled']]\n",
    "tw_data = pd.merge(tw_data,id_uid_index, how='left', on='id')\n",
    "tw_data['urls'] = tw_data['text_urls_unrolled'].fillna('').apply(lambda s: s.strip().split(','))\n",
    "tw_data['text'] = tw_data['text'].apply(lambda t: re.sub(r'http\\S+', '', t)).apply(lambda t: re.sub(\"#[A-Za-z0-9_]+\",\"\", t)).apply(lambda t: re.sub(r'@\\S+', '', t))\n",
    "\n",
    "tw_data = tw_data[['id', 'text','urls', 'uid']]"
   ]
  },
  {
   "cell_type": "code",
   "execution_count": 7,
   "id": "bc8ad6a1",
   "metadata": {},
   "outputs": [],
   "source": [
    "data = tw_data"
   ]
  },
  {
   "cell_type": "code",
   "execution_count": null,
   "id": "b7ccbcbb",
   "metadata": {},
   "outputs": [],
   "source": [
    "if is_per_user:\n",
    "    data = data.groupby(['uid']).progress_apply(lambda d: pd.DataFrame({'text' : ' '.join(d['text'])})).reset_index(drop=False)"
   ]
  },
  {
   "cell_type": "markdown",
   "id": "0373dc80",
   "metadata": {},
   "source": [
    "## Far Right Labels"
   ]
  },
  {
   "cell_type": "code",
   "execution_count": 8,
   "id": "d5235047",
   "metadata": {},
   "outputs": [],
   "source": [
    "far_right_df = pd.read_csv(os.path.join(base_dir,'data','01_raw','far-right-users','far_right_coded_users.csv'), dtype=str)"
   ]
  },
  {
   "cell_type": "code",
   "execution_count": 9,
   "id": "4c8a60d9",
   "metadata": {},
   "outputs": [],
   "source": [
    "recent_far_right_df = pd.read_csv(os.path.join(base_dir,'data','01_raw','far-right-users','auspol-2022-accounts_to_monitor.csv'), dtype=str)"
   ]
  },
  {
   "cell_type": "code",
   "execution_count": 10,
   "id": "38f57bfd",
   "metadata": {},
   "outputs": [],
   "source": [
    "far_right_set = set(far_right_df['user_id']).union(recent_far_right_df['user_id'])"
   ]
  },
  {
   "cell_type": "code",
   "execution_count": 11,
   "id": "72bc1def",
   "metadata": {},
   "outputs": [],
   "source": [
    "ground_truths = pd.DataFrame({'gt_label' :  data['uid'].isin(far_right_set)})"
   ]
  },
  {
   "cell_type": "markdown",
   "id": "19fd5d32",
   "metadata": {},
   "source": [
    "### URL Ground Truth"
   ]
  },
  {
   "cell_type": "code",
   "execution_count": 12,
   "id": "0c3ba429",
   "metadata": {},
   "outputs": [],
   "source": [
    "import tldextract\n",
    "def extract_domain(url):\n",
    "    ext = tldextract.extract(url)\n",
    "    return('.'.join([ext.domain, ext.suffix]))"
   ]
  },
  {
   "cell_type": "code",
   "execution_count": 13,
   "id": "d8648e28",
   "metadata": {},
   "outputs": [],
   "source": [
    "data_domains = data['urls'].apply(lambda l: [extract_domain(e) for e in l])"
   ]
  },
  {
   "cell_type": "code",
   "execution_count": 14,
   "id": "a5d8df37",
   "metadata": {},
   "outputs": [],
   "source": [
    "## Is URL ideology correlated with Hashtag ideology?\n",
    "reuters_domain_ideology = pd.read_csv(os.path.join(base_dir,'data','01_raw','reuters_2020_au_news_lr.csv'))\n",
    "reuters_domain_ideology = reuters_domain_ideology[~reuters_domain_ideology['domain'].isna()].set_index('domain')"
   ]
  },
  {
   "cell_type": "code",
   "execution_count": 15,
   "id": "0b72b57a",
   "metadata": {},
   "outputs": [],
   "source": [
    "reuters_domain_ideology['lr'] = reuters_domain_ideology['lr'] - reuters_domain_ideology.loc['abc.net.au','lr']"
   ]
  },
  {
   "cell_type": "code",
   "execution_count": 16,
   "id": "7af78acf",
   "metadata": {},
   "outputs": [],
   "source": [
    "# def get_domain_ideology_reuters(domain):\n",
    "#     try:\n",
    "#         return(reuters_domain_ideology.loc[domain].lr)\n",
    "#     except Exception as e:\n",
    "#         return(np.nan)\n",
    "    \n",
    "# users_with_url_ideology_gt = data_domains.apply(lambda l: np.nanmean([get_domain_ideology_reuters(e) for e in l])).apply(handle_labels)"
   ]
  },
  {
   "cell_type": "code",
   "execution_count": 17,
   "id": "54ae1dee",
   "metadata": {},
   "outputs": [],
   "source": [
    "allsides_df = pd.read_csv(os.path.join(base_dir,'data','02_processed','all_allsides_media_bias.csv'))[['News Source','AllSides Bias Rating','News Source Site']]"
   ]
  },
  {
   "cell_type": "code",
   "execution_count": 18,
   "id": "b351319c",
   "metadata": {},
   "outputs": [],
   "source": [
    "from urllib.parse import urlparse\n",
    "def strip_scheme(url):\n",
    "    parsed = urlparse(url)\n",
    "    scheme = \"%s://\" % parsed.scheme\n",
    "    return parsed.geturl().replace(scheme, '', 1)"
   ]
  },
  {
   "cell_type": "code",
   "execution_count": 19,
   "id": "250eca03",
   "metadata": {},
   "outputs": [
    {
     "name": "stderr",
     "output_type": "stream",
     "text": [
      "100%|██████████| 478/478 [00:00<00:00, 529830.16it/s]\n"
     ]
    }
   ],
   "source": [
    "allsides_df = allsides_df[allsides_df['AllSides Bias Rating'] != 'allsides']\n",
    "allsides_df = allsides_df[~allsides_df['News Source Site'].isna()]\n",
    "allsides_df['stance'] = allsides_df['AllSides Bias Rating'].progress_apply(lambda r: {'left center':-0.5, 'left':-1.0,'center':0.0,'right center':0.5, 'right':1.0}[r])\n",
    "allsides_df['url'] = allsides_df['News Source Site'].apply(strip_scheme)"
   ]
  },
  {
   "cell_type": "code",
   "execution_count": 20,
   "id": "cab85760",
   "metadata": {},
   "outputs": [],
   "source": [
    "def get_news_source(full_url):\n",
    "    for start_url, news_source in zip(allsides_df['url'],allsides_df['News Source']):\n",
    "        if strip_scheme(full_url).startswith(start_url):\n",
    "            return news_source\n",
    "\n",
    "def get_allsides_stance(full_url):\n",
    "    for start_url, stance in zip(allsides_df['url'],allsides_df['stance']):\n",
    "        if strip_scheme(full_url).startswith(start_url):\n",
    "            return stance\n",
    "    raise Exception('URL not in allsides dataset')"
   ]
  },
  {
   "cell_type": "code",
   "execution_count": 21,
   "id": "2572c16e",
   "metadata": {},
   "outputs": [],
   "source": [
    "def get_url_ideology(full_url):\n",
    "    domain = extract_domain(full_url)\n",
    "    try:\n",
    "#         raise Exception('e')\n",
    "        return(reuters_domain_ideology.loc[domain].lr)\n",
    "    except Exception as e:\n",
    "        try:\n",
    "            return(get_allsides_stance(full_url))\n",
    "#             return(allsides_df.loc[domain].stance)\n",
    "        except Exception as e:\n",
    "            return(np.nan)"
   ]
  },
  {
   "cell_type": "code",
   "execution_count": 22,
   "id": "f5f7c1f5",
   "metadata": {},
   "outputs": [],
   "source": [
    "def get_ideology_source(full_url):\n",
    "    domain = extract_domain(full_url)\n",
    "    try:\n",
    "#         raise Exception('e')\n",
    "        reuters_domain_ideology.loc[domain].lr\n",
    "        return('Australian')\n",
    "    except Exception as e:\n",
    "        try:\n",
    "            get_allsides_stance(full_url)\n",
    "            return('American')\n",
    "#             return(allsides_df.loc[domain].stance)\n",
    "        except Exception as e:\n",
    "            return(np.nan)"
   ]
  },
  {
   "cell_type": "code",
   "execution_count": 23,
   "id": "bee16bea",
   "metadata": {},
   "outputs": [],
   "source": [
    "def handle_labels(s):\n",
    "    if np.isnan(s):\n",
    "        return -1\n",
    "    elif s > 0:\n",
    "        return 2\n",
    "    elif s == 0:\n",
    "        return 0\n",
    "    elif s < 0:\n",
    "        return 1"
   ]
  },
  {
   "cell_type": "code",
   "execution_count": 24,
   "id": "c514f5e2",
   "metadata": {},
   "outputs": [
    {
     "name": "stderr",
     "output_type": "stream",
     "text": [
      "  0%|          | 0/461963 [00:00<?, ?it/s]<ipython-input-24-234c399129da>:1: RuntimeWarning: Mean of empty slice\n",
      "  url_ideology = data['urls'].progress_apply(lambda l: np.nanmean([get_url_ideology(e) for e in l])).apply(handle_labels)\n",
      "100%|██████████| 461963/461963 [12:11<00:00, 631.59it/s] \n"
     ]
    }
   ],
   "source": [
    "url_ideology = data['urls'].progress_apply(lambda l: np.nanmean([get_url_ideology(e) for e in l])).apply(handle_labels)"
   ]
  },
  {
   "cell_type": "code",
   "execution_count": 25,
   "id": "bcf637d3",
   "metadata": {},
   "outputs": [],
   "source": [
    "# url_ideology = users_with_url_ideology_gt.combine_first(allside_ideology_gt)"
   ]
  },
  {
   "cell_type": "code",
   "execution_count": 26,
   "id": "0bf92bf7",
   "metadata": {},
   "outputs": [],
   "source": [
    "# ground_truths = pd.DataFrame({'url_gt': url_ideology})"
   ]
  },
  {
   "cell_type": "code",
   "execution_count": 27,
   "id": "b97b391b",
   "metadata": {},
   "outputs": [],
   "source": [
    "# ground_truths['gt_label'] = ground_truths['url_gt']"
   ]
  },
  {
   "cell_type": "markdown",
   "id": "7c518081",
   "metadata": {},
   "source": [
    "### Generate Embeddings"
   ]
  },
  {
   "cell_type": "code",
   "execution_count": 28,
   "id": "7e4a0f6e",
   "metadata": {},
   "outputs": [
    {
     "name": "stdout",
     "output_type": "stream",
     "text": [
      "module https://tfhub.dev/google/universal-sentence-encoder/4 loaded\n"
     ]
    }
   ],
   "source": [
    "module_url = \"https://tfhub.dev/google/universal-sentence-encoder/4\"\n",
    "model = hub.load(module_url)\n",
    "print (\"module %s loaded\" % module_url)\n",
    "def embed(input):\n",
    "    return model(input)"
   ]
  },
  {
   "cell_type": "code",
   "execution_count": 29,
   "id": "df8f5ea8",
   "metadata": {},
   "outputs": [],
   "source": [
    "def batched_embed(l_text):\n",
    "    all_embeddings = []\n",
    "    chunk_size = 10\n",
    "    for i in tqdm(range(0, len(l_text), chunk_size)):\n",
    "        chunk = l_text[i: min(i+chunk_size, len(l_text))]\n",
    "        emb = embed(chunk)\n",
    "        all_embeddings.append(emb.numpy())\n",
    "    return np.vstack(all_embeddings)"
   ]
  },
  {
   "cell_type": "code",
   "execution_count": 30,
   "id": "a91d0748",
   "metadata": {},
   "outputs": [
    {
     "name": "stderr",
     "output_type": "stream",
     "text": [
      "100%|██████████| 46197/46197 [02:17<00:00, 335.93it/s]\n"
     ]
    }
   ],
   "source": [
    "use_embeddings = batched_embed(list(data['text']))"
   ]
  },
  {
   "cell_type": "code",
   "execution_count": 31,
   "id": "fd958f04",
   "metadata": {},
   "outputs": [],
   "source": [
    "from sklearn.model_selection import cross_val_predict, StratifiedKFold\n",
    "from sklearn.metrics import roc_auc_score, f1_score\n",
    "from sklearn.datasets import make_classification\n",
    "\n",
    "import os\n",
    "from collections import defaultdict"
   ]
  },
  {
   "cell_type": "code",
   "execution_count": 32,
   "id": "d379bbeb",
   "metadata": {},
   "outputs": [],
   "source": [
    "lgbm_performance = {}"
   ]
  },
  {
   "cell_type": "code",
   "execution_count": 33,
   "id": "7f524fc2",
   "metadata": {},
   "outputs": [
    {
     "data": {
      "text/plain": [
       "(461963, 512)"
      ]
     },
     "execution_count": 33,
     "metadata": {},
     "output_type": "execute_result"
    }
   ],
   "source": [
    "X_use = use_embeddings\n",
    "use_embeddings.shape"
   ]
  },
  {
   "cell_type": "code",
   "execution_count": 34,
   "id": "f938ba97",
   "metadata": {},
   "outputs": [],
   "source": [
    "y_orig = ground_truths['gt_label'].values"
   ]
  },
  {
   "cell_type": "code",
   "execution_count": 35,
   "id": "ec35885f",
   "metadata": {},
   "outputs": [],
   "source": [
    "# ground_truths['url_gt'].value_counts()"
   ]
  },
  {
   "cell_type": "markdown",
   "id": "9476caea",
   "metadata": {},
   "source": [
    "## USE"
   ]
  },
  {
   "cell_type": "code",
   "execution_count": 36,
   "id": "15e7de79",
   "metadata": {},
   "outputs": [],
   "source": [
    "feature_set = 'use'"
   ]
  },
  {
   "cell_type": "code",
   "execution_count": 37,
   "id": "0c645813",
   "metadata": {},
   "outputs": [],
   "source": [
    "X = X_use"
   ]
  },
  {
   "cell_type": "code",
   "execution_count": 38,
   "id": "cb9ce90f",
   "metadata": {},
   "outputs": [],
   "source": [
    "y=y_orig"
   ]
  },
  {
   "cell_type": "code",
   "execution_count": 39,
   "id": "4b313811",
   "metadata": {},
   "outputs": [
    {
     "name": "stdout",
     "output_type": "stream",
     "text": [
      "[LightGBM] [Warning] min_data_in_leaf is set=500, min_child_samples=20 will be ignored. Current value: min_data_in_leaf=500\n",
      "[LightGBM] [Warning] min_data_in_leaf is set=500, min_child_samples=20 will be ignored. Current value: min_data_in_leaf=500\n",
      "[LightGBM] [Warning] min_data_in_leaf is set=500, min_child_samples=20 will be ignored. Current value: min_data_in_leaf=500\n",
      "[LightGBM] [Warning] min_data_in_leaf is set=500, min_child_samples=20 will be ignored. Current value: min_data_in_leaf=500\n",
      "Area under the ROC Curve: 0.8884420022114972\n"
     ]
    }
   ],
   "source": [
    "from lightgbm import LGBMClassifier\n",
    "\n",
    "et = LGBMClassifier(n_estimators=100, min_data_in_leaf=500,colsample_bytree=0.8, class_weight='balanced', n_jobs=-1)\n",
    "\n",
    "# validation instance\n",
    "skf = StratifiedKFold(n_splits=4, shuffle=True)\n",
    "\n",
    "# getting the model validation predictions\n",
    "preds = cross_val_predict(et, X, y, cv=skf, method='predict_proba')\n",
    "\n",
    "# evaluating the model\n",
    "print('Area under the ROC Curve:', roc_auc_score(y, preds[:,1]))\n",
    "# print('Area under the ROC Curve:', roc_auc_score(y, preds, multi_class='ovo'))\n",
    "\n",
    "lgbm_performance[feature_set] = roc_auc_score(y, preds[:,1])"
   ]
  },
  {
   "cell_type": "code",
   "execution_count": 40,
   "id": "ff189610",
   "metadata": {},
   "outputs": [
    {
     "name": "stdout",
     "output_type": "stream",
     "text": [
      "[LightGBM] [Warning] min_data_in_leaf is set=500, min_child_samples=20 will be ignored. Current value: min_data_in_leaf=500\n"
     ]
    },
    {
     "data": {
      "text/plain": [
       "LGBMClassifier(class_weight='balanced', colsample_bytree=0.8,\n",
       "               min_data_in_leaf=500)"
      ]
     },
     "execution_count": 40,
     "metadata": {},
     "output_type": "execute_result"
    }
   ],
   "source": [
    "et.fit(X, y)"
   ]
  },
  {
   "cell_type": "code",
   "execution_count": 41,
   "id": "75efeb1b",
   "metadata": {},
   "outputs": [],
   "source": [
    "predicted_labels = et.predict(X_use)\n",
    "predicted_probs = et.predict_proba(X_use)"
   ]
  },
  {
   "cell_type": "code",
   "execution_count": 42,
   "id": "e03c2068",
   "metadata": {},
   "outputs": [],
   "source": [
    "def handle_l_labels(l):\n",
    "    if l == 2:\n",
    "        return 1\n",
    "    if l == 1:\n",
    "        return -1\n",
    "    if l <1:\n",
    "        return 0"
   ]
  },
  {
   "cell_type": "code",
   "execution_count": 43,
   "id": "c767053a",
   "metadata": {},
   "outputs": [],
   "source": [
    "data['label'] = predicted_labels\n",
    "data['label'] = data['label'].apply(handle_l_labels)"
   ]
  },
  {
   "cell_type": "code",
   "execution_count": 46,
   "id": "65d4c828",
   "metadata": {},
   "outputs": [],
   "source": [
    "data['stance'] = preds[:,1]"
   ]
  },
  {
   "cell_type": "code",
   "execution_count": 47,
   "id": "a926a245",
   "metadata": {},
   "outputs": [],
   "source": [
    "data.to_csv(os.path.join(base_dir,'data','00_pio','tw_w_fr_labels_per_user.csv'))"
   ]
  },
  {
   "cell_type": "code",
   "execution_count": null,
   "id": "b8073429",
   "metadata": {},
   "outputs": [],
   "source": []
  }
 ],
 "metadata": {
  "kernelspec": {
   "display_name": "condaEnv",
   "language": "python",
   "name": "condaenv"
  },
  "language_info": {
   "codemirror_mode": {
    "name": "ipython",
    "version": 3
   },
   "file_extension": ".py",
   "mimetype": "text/x-python",
   "name": "python",
   "nbconvert_exporter": "python",
   "pygments_lexer": "ipython3",
   "version": "3.9.7"
  }
 },
 "nbformat": 4,
 "nbformat_minor": 5
}
