{
 "cells": [
  {
   "cell_type": "code",
   "execution_count": 231,
   "id": "905990fb",
   "metadata": {},
   "outputs": [],
   "source": [
    "from dotenv import load_dotenv\n",
    "import os\n",
    "import pandas as pd\n",
    "load_dotenv()\n",
    "from gdtm.helpers.common import load_flat_dataset\n",
    "\n",
    "base_dir = os.getenv('BASEDIR')\n",
    "\n",
    "is_per_episode = True\n",
    "is_url_gt = True"
   ]
  },
  {
   "cell_type": "code",
   "execution_count": 232,
   "id": "d900f34d",
   "metadata": {},
   "outputs": [],
   "source": [
    "from tqdm import tqdm\n",
    "tqdm.pandas()"
   ]
  },
  {
   "cell_type": "code",
   "execution_count": 233,
   "id": "2200a25d",
   "metadata": {},
   "outputs": [],
   "source": [
    "import pandas as pd\n",
    "import os \n",
    "import re\n",
    "import numpy as np\n",
    "from sklearn.feature_extraction.text import TfidfVectorizer\n",
    "from tqdm import tqdm\n",
    "import tensorflow as tf\n",
    "import tensorflow_hub as hub"
   ]
  },
  {
   "cell_type": "code",
   "execution_count": 234,
   "id": "bc8ad6a1",
   "metadata": {},
   "outputs": [],
   "source": [
    "data = pd.read_csv(os.path.join(base_dir,'data','01_raw','qanda_episodes.csv'), dtype=str)\n",
    "\n",
    "data['hashtags'] = data['hashtags'].fillna('').apply(lambda s: s.split(';;;'))\n",
    "\n",
    "data['mentions'] = data['mentions'].fillna('').apply(lambda s: s.split(';;;'))\n",
    "\n",
    "data['urls'] = data['urls'].fillna('').apply(lambda s: s.split(';;;'))\n",
    "\n",
    "data['text_ht_censored'] = data['text'].apply(lambda t: re.sub(r'http\\S+', '<URL>', t)).apply(lambda t: re.sub(\"#[A-Za-z0-9_]+\",\"<HASHTAG>\", t)) \n",
    "data['text'] = data['text'].apply(lambda t: re.sub(r'http\\S+', '', t)).apply(lambda t: re.sub(\"#[A-Za-z0-9_]+\",\"\", t)).apply(lambda t: re.sub(r'@\\S+', '', t))\n",
    "\n",
    "data['rid'] = data['rid'].combine_first(data['tid'])"
   ]
  },
  {
   "cell_type": "code",
   "execution_count": 235,
   "id": "f619bab4",
   "metadata": {},
   "outputs": [],
   "source": [
    "post_level_data = data"
   ]
  },
  {
   "cell_type": "code",
   "execution_count": 236,
   "id": "a6d47288",
   "metadata": {},
   "outputs": [
    {
     "name": "stderr",
     "output_type": "stream",
     "text": [
      "100%|██████████| 275032/275032 [03:17<00:00, 1392.43it/s]\n"
     ]
    }
   ],
   "source": [
    "if is_per_episode:\n",
    "    data = data.groupby(['uid','episode']).progress_apply(lambda d: pd.DataFrame({'text' : ' '.join(d['text']),'hashtags': [[e for u in d['hashtags'] for e in u if e != '']],'rid':[list(d['rid'])], 'urls' : [[e for u in d['urls'] for e in u if e != '']] }))"
   ]
  },
  {
   "cell_type": "markdown",
   "id": "c88a419e",
   "metadata": {},
   "source": [
    "### Hashtag Ground Truth"
   ]
  },
  {
   "cell_type": "code",
   "execution_count": 237,
   "id": "1d077ccd",
   "metadata": {},
   "outputs": [],
   "source": [
    "hashtag_labels = pd.read_csv(os.path.join(base_dir,'data','01_raw','hashtags_labelled_100.csv'))\n",
    "def assign_polarity(e):\n",
    "    if(e in {'left', 'more left', 'left?', 'left_'}):\n",
    "        return -1\n",
    "    elif(e in ['right', 'more right', 'right?']):\n",
    "        return 1\n",
    "    else:\n",
    "        return 0\n",
    "\n",
    "hashtag_labels['polarity'] = hashtag_labels['label'].apply(assign_polarity)\n",
    "hashtag_labels = hashtag_labels[~hashtag_labels['polarity'].isna()]"
   ]
  },
  {
   "cell_type": "code",
   "execution_count": 238,
   "id": "bc32f157",
   "metadata": {},
   "outputs": [],
   "source": [
    "left_hashtags = hashtag_labels[hashtag_labels['polarity'] == -1]['hashtags']\n",
    "right_hashtags = hashtag_labels[hashtag_labels['polarity'] == 1]['hashtags']\n",
    "\n",
    "def ground_truth_hashtag(ht):\n",
    "    if ht in left_hashtags.values:\n",
    "        return -1\n",
    "    elif ht in right_hashtags.values:\n",
    "        return 1\n",
    "    else:\n",
    "        return 0"
   ]
  },
  {
   "cell_type": "code",
   "execution_count": 239,
   "id": "bd24438e",
   "metadata": {},
   "outputs": [
    {
     "name": "stderr",
     "output_type": "stream",
     "text": [
      "<ipython-input-239-2503cdb4c8a9>:4: RuntimeWarning: Mean of empty slice\n",
      "  ground_truth_df['ht_gt'] = data_hashtags.apply(lambda l: np.nanmean(list(map(ground_truth_hashtag, l))))\n"
     ]
    }
   ],
   "source": [
    "data_hashtags = data['hashtags']\n",
    "\n",
    "ground_truth_df = pd.DataFrame({'hashtags' : data_hashtags})\n",
    "ground_truth_df['ht_gt'] = data_hashtags.apply(lambda l: np.nanmean(list(map(ground_truth_hashtag, l))))\n",
    "def handle_labels(s):\n",
    "    if np.isnan(s):\n",
    "        return -1\n",
    "    elif s > 0:\n",
    "        return 2\n",
    "    elif s == 0:\n",
    "        return 0\n",
    "    elif s < 0:\n",
    "        return 1\n",
    "ground_truth_df['ht_gt'] = ground_truth_df['ht_gt'].apply(handle_labels)"
   ]
  },
  {
   "cell_type": "markdown",
   "id": "19fd5d32",
   "metadata": {},
   "source": [
    "### URL Ground Truth"
   ]
  },
  {
   "cell_type": "code",
   "execution_count": 240,
   "id": "0c3ba429",
   "metadata": {},
   "outputs": [],
   "source": [
    "import tldextract\n",
    "def extract_domain(url):\n",
    "    ext = tldextract.extract(url)\n",
    "    return('.'.join([ext.domain, ext.suffix]))"
   ]
  },
  {
   "cell_type": "code",
   "execution_count": 241,
   "id": "d8648e28",
   "metadata": {},
   "outputs": [],
   "source": [
    "data_domains = data['urls'].apply(lambda l: [extract_domain(e) for e in l])"
   ]
  },
  {
   "cell_type": "code",
   "execution_count": 242,
   "id": "a5d8df37",
   "metadata": {},
   "outputs": [],
   "source": [
    "## Is URL ideology correlated with Hashtag ideology?\n",
    "reuters_domain_ideology = pd.read_csv(os.path.join(base_dir,'data','01_raw','reuters_2020_au_news_lr.csv'))\n",
    "reuters_domain_ideology = reuters_domain_ideology[~reuters_domain_ideology['domain'].isna()].set_index('domain')"
   ]
  },
  {
   "cell_type": "code",
   "execution_count": 243,
   "id": "0b72b57a",
   "metadata": {},
   "outputs": [],
   "source": [
    "reuters_domain_ideology['lr'] = reuters_domain_ideology['lr'] - reuters_domain_ideology.loc['abc.net.au','lr']"
   ]
  },
  {
   "cell_type": "code",
   "execution_count": 244,
   "id": "7af78acf",
   "metadata": {},
   "outputs": [],
   "source": [
    "# def get_domain_ideology_reuters(domain):\n",
    "#     try:\n",
    "#         return(reuters_domain_ideology.loc[domain].lr)\n",
    "#     except Exception as e:\n",
    "#         return(np.nan)\n",
    "    \n",
    "# users_with_url_ideology_gt = data_domains.apply(lambda l: np.nanmean([get_domain_ideology_reuters(e) for e in l])).apply(handle_labels)"
   ]
  },
  {
   "cell_type": "code",
   "execution_count": 245,
   "id": "200bf830",
   "metadata": {},
   "outputs": [],
   "source": [
    "allsides_df = pd.read_csv(os.path.join(base_dir,'data','02_processed','all_allsides_media_bias.csv'))[['News Source','AllSides Bias Rating','News Source Site']]"
   ]
  },
  {
   "cell_type": "code",
   "execution_count": 246,
   "id": "6c9db494",
   "metadata": {},
   "outputs": [],
   "source": [
    "from urllib.parse import urlparse\n",
    "def strip_scheme(url):\n",
    "    parsed = urlparse(url)\n",
    "    scheme = \"%s://\" % parsed.scheme\n",
    "    return parsed.geturl().replace(scheme, '', 1)"
   ]
  },
  {
   "cell_type": "code",
   "execution_count": 247,
   "id": "e0b4db11",
   "metadata": {},
   "outputs": [
    {
     "name": "stderr",
     "output_type": "stream",
     "text": [
      "100%|██████████| 478/478 [00:00<00:00, 503105.98it/s]\n"
     ]
    }
   ],
   "source": [
    "allsides_df = allsides_df[allsides_df['AllSides Bias Rating'] != 'allsides']\n",
    "allsides_df = allsides_df[~allsides_df['News Source Site'].isna()]\n",
    "allsides_df['stance'] = allsides_df['AllSides Bias Rating'].progress_apply(lambda r: {'left center':-0.5, 'left':-1.0,'center':0.0,'right center':0.5, 'right':1.0}[r])\n",
    "allsides_df['url'] = allsides_df['News Source Site'].apply(strip_scheme)"
   ]
  },
  {
   "cell_type": "code",
   "execution_count": 248,
   "id": "b7b8c22b",
   "metadata": {},
   "outputs": [],
   "source": [
    "def get_news_source(full_url):\n",
    "    for start_url, news_source in zip(allsides_df['url'],allsides_df['News Source']):\n",
    "        if strip_scheme(full_url).startswith(start_url):\n",
    "            return news_source\n",
    "\n",
    "def get_allsides_stance(full_url):\n",
    "    for start_url, stance in zip(allsides_df['url'],allsides_df['stance']):\n",
    "        if strip_scheme(full_url).startswith(start_url):\n",
    "            return stance\n",
    "    raise Exception('URL not in allsides dataset')"
   ]
  },
  {
   "cell_type": "code",
   "execution_count": 249,
   "id": "2572c16e",
   "metadata": {},
   "outputs": [],
   "source": [
    "def get_url_ideology(full_url):\n",
    "    domain = extract_domain(full_url)\n",
    "    try:\n",
    "#         raise Exception('e')\n",
    "        return(reuters_domain_ideology.loc[domain].lr)\n",
    "    except Exception as e:\n",
    "        try:\n",
    "            return(get_allsides_stance(full_url))\n",
    "#             return(allsides_df.loc[domain].stance)\n",
    "        except Exception as e:\n",
    "            return(np.nan)"
   ]
  },
  {
   "cell_type": "code",
   "execution_count": 250,
   "id": "6f741724",
   "metadata": {},
   "outputs": [],
   "source": [
    "def get_ideology_source(full_url):\n",
    "    domain = extract_domain(full_url)\n",
    "    try:\n",
    "#         raise Exception('e')\n",
    "        reuters_domain_ideology.loc[domain].lr\n",
    "        return('Australian')\n",
    "    except Exception as e:\n",
    "        try:\n",
    "            get_allsides_stance(full_url)\n",
    "            return('American')\n",
    "#             return(allsides_df.loc[domain].stance)\n",
    "        except Exception as e:\n",
    "            return(np.nan)"
   ]
  },
  {
   "cell_type": "code",
   "execution_count": 251,
   "id": "c514f5e2",
   "metadata": {},
   "outputs": [
    {
     "name": "stderr",
     "output_type": "stream",
     "text": [
      "  0%|          | 0/275032 [00:00<?, ?it/s]<ipython-input-251-234c399129da>:1: RuntimeWarning: Mean of empty slice\n",
      "  url_ideology = data['urls'].progress_apply(lambda l: np.nanmean([get_url_ideology(e) for e in l])).apply(handle_labels)\n",
      "100%|██████████| 275032/275032 [01:16<00:00, 3598.97it/s]\n"
     ]
    }
   ],
   "source": [
    "url_ideology = data['urls'].progress_apply(lambda l: np.nanmean([get_url_ideology(e) for e in l])).apply(handle_labels)"
   ]
  },
  {
   "cell_type": "code",
   "execution_count": 252,
   "id": "bcf637d3",
   "metadata": {},
   "outputs": [],
   "source": [
    "# url_ideology = users_with_url_ideology_gt.combine_first(allside_ideology_gt)"
   ]
  },
  {
   "cell_type": "code",
   "execution_count": 253,
   "id": "0bf92bf7",
   "metadata": {},
   "outputs": [],
   "source": [
    "ground_truths = pd.DataFrame({'ht_gt':ground_truth_df['ht_gt'],'url_gt': url_ideology})"
   ]
  },
  {
   "cell_type": "code",
   "execution_count": 254,
   "id": "b97b391b",
   "metadata": {},
   "outputs": [],
   "source": [
    "ground_truths['gt_label'] = ground_truths[('url_gt' if is_url_gt else 'ht_gt')]"
   ]
  },
  {
   "cell_type": "markdown",
   "id": "7c518081",
   "metadata": {},
   "source": [
    "### Generate Embeddings"
   ]
  },
  {
   "cell_type": "code",
   "execution_count": 255,
   "id": "50c1e9d5",
   "metadata": {},
   "outputs": [],
   "source": [
    "def dummy_fun(doc):\n",
    "    return doc\n",
    "\n",
    "tfidf = TfidfVectorizer(\n",
    "            analyzer='word',\n",
    "            tokenizer=dummy_fun,\n",
    "            preprocessor=dummy_fun,\n",
    "            token_pattern=None,\n",
    "            min_df = 10)\n",
    "\n",
    "toy = data_hashtags\n",
    "\n",
    "ht_embeddings = tfidf.fit_transform(toy.apply(lambda l: [str(s) for s in l])).todense()"
   ]
  },
  {
   "cell_type": "code",
   "execution_count": 256,
   "id": "7e4a0f6e",
   "metadata": {},
   "outputs": [
    {
     "name": "stdout",
     "output_type": "stream",
     "text": [
      "module https://tfhub.dev/google/universal-sentence-encoder/4 loaded\n"
     ]
    }
   ],
   "source": [
    "module_url = \"https://tfhub.dev/google/universal-sentence-encoder/4\"\n",
    "model = hub.load(module_url)\n",
    "print (\"module %s loaded\" % module_url)\n",
    "def embed(input):\n",
    "    return model(input)"
   ]
  },
  {
   "cell_type": "code",
   "execution_count": 257,
   "id": "df8f5ea8",
   "metadata": {},
   "outputs": [],
   "source": [
    "def batched_embed(l_text):\n",
    "    all_embeddings = []\n",
    "    chunk_size = 10\n",
    "    for i in tqdm(range(0, len(l_text), chunk_size)):\n",
    "        chunk = l_text[i: min(i+chunk_size, len(l_text))]\n",
    "        emb = embed(chunk)\n",
    "        all_embeddings.append(emb.numpy())\n",
    "    return np.vstack(all_embeddings)"
   ]
  },
  {
   "cell_type": "code",
   "execution_count": 258,
   "id": "a91d0748",
   "metadata": {},
   "outputs": [
    {
     "name": "stderr",
     "output_type": "stream",
     "text": [
      "100%|██████████| 27504/27504 [03:24<00:00, 134.32it/s]\n"
     ]
    }
   ],
   "source": [
    "use_embeddings = batched_embed(list(data['text']))"
   ]
  },
  {
   "cell_type": "code",
   "execution_count": 259,
   "id": "964efc1e",
   "metadata": {},
   "outputs": [
    {
     "name": "stderr",
     "output_type": "stream",
     "text": [
      "100%|██████████| 275032/275032 [00:33<00:00, 8192.37it/s]\n"
     ]
    }
   ],
   "source": [
    "most_popular_threads = post_level_data['rid'].value_counts().iloc[0:1000].index.values\n",
    "if is_per_episode:\n",
    "    def to_bow(rids):\n",
    "        res = np.zeros(1000)\n",
    "        for i, thread in enumerate(most_popular_threads):\n",
    "            if thread in rids:\n",
    "                res[i] += 1\n",
    "        return res\n",
    "    \n",
    "    retweet_embeddings = data['rid'].progress_apply(to_bow) \n",
    "else:\n",
    "    def to_bow(rid):\n",
    "        res = np.zeros(1000)\n",
    "        for i, thread in enumerate(most_popular_threads):\n",
    "            if rid == thread:\n",
    "                res[i] += 1\n",
    "        return res\n",
    "\n",
    "    retweet_embeddings = data['rid'].progress_apply(to_bow)"
   ]
  },
  {
   "cell_type": "code",
   "execution_count": 260,
   "id": "fd958f04",
   "metadata": {},
   "outputs": [],
   "source": [
    "from sklearn.model_selection import cross_val_predict, StratifiedKFold\n",
    "from sklearn.metrics import roc_auc_score, f1_score\n",
    "from sklearn.datasets import make_classification\n",
    "\n",
    "import os\n",
    "from collections import defaultdict"
   ]
  },
  {
   "cell_type": "code",
   "execution_count": 261,
   "id": "d379bbeb",
   "metadata": {},
   "outputs": [],
   "source": [
    "lgbm_performance = {}"
   ]
  },
  {
   "cell_type": "code",
   "execution_count": 262,
   "id": "7f524fc2",
   "metadata": {},
   "outputs": [
    {
     "data": {
      "text/plain": [
       "(275032, 512)"
      ]
     },
     "execution_count": 262,
     "metadata": {},
     "output_type": "execute_result"
    }
   ],
   "source": [
    "X_use = use_embeddings\n",
    "use_embeddings.shape"
   ]
  },
  {
   "cell_type": "code",
   "execution_count": 263,
   "id": "06230ccc",
   "metadata": {},
   "outputs": [],
   "source": [
    "rt_embeddings = np.vstack(retweet_embeddings.values)"
   ]
  },
  {
   "cell_type": "code",
   "execution_count": 264,
   "id": "fc4be2bb",
   "metadata": {},
   "outputs": [
    {
     "data": {
      "text/plain": [
       "(275032, 1000)"
      ]
     },
     "execution_count": 264,
     "metadata": {},
     "output_type": "execute_result"
    }
   ],
   "source": [
    "X_rt = rt_embeddings\n",
    "rt_embeddings.shape"
   ]
  },
  {
   "cell_type": "code",
   "execution_count": 265,
   "id": "a958d240",
   "metadata": {},
   "outputs": [
    {
     "data": {
      "text/plain": [
       "(275032, 2837)"
      ]
     },
     "execution_count": 265,
     "metadata": {},
     "output_type": "execute_result"
    }
   ],
   "source": [
    "X_ht = ht_embeddings\n",
    "ht_embeddings.shape"
   ]
  },
  {
   "cell_type": "code",
   "execution_count": 266,
   "id": "f938ba97",
   "metadata": {},
   "outputs": [],
   "source": [
    "y_orig = ground_truths['gt_label'].values"
   ]
  },
  {
   "cell_type": "code",
   "execution_count": 267,
   "id": "ec35885f",
   "metadata": {},
   "outputs": [],
   "source": [
    "# ground_truths['url_gt'].value_counts()"
   ]
  },
  {
   "cell_type": "code",
   "execution_count": 268,
   "id": "e1ed67e7",
   "metadata": {},
   "outputs": [],
   "source": [
    "mask = y_orig >= 0"
   ]
  },
  {
   "cell_type": "markdown",
   "id": "9476caea",
   "metadata": {},
   "source": [
    "## USE"
   ]
  },
  {
   "cell_type": "code",
   "execution_count": 269,
   "id": "15e7de79",
   "metadata": {},
   "outputs": [],
   "source": [
    "feature_set = 'use'"
   ]
  },
  {
   "cell_type": "code",
   "execution_count": 270,
   "id": "0c645813",
   "metadata": {},
   "outputs": [],
   "source": [
    "X = X_use[mask]"
   ]
  },
  {
   "cell_type": "code",
   "execution_count": 271,
   "id": "cb9ce90f",
   "metadata": {},
   "outputs": [],
   "source": [
    "y=y_orig[mask]"
   ]
  },
  {
   "cell_type": "code",
   "execution_count": 272,
   "id": "4b313811",
   "metadata": {},
   "outputs": [
    {
     "name": "stdout",
     "output_type": "stream",
     "text": [
      "[LightGBM] [Warning] min_data_in_leaf is set=500, min_child_samples=20 will be ignored. Current value: min_data_in_leaf=500\n",
      "[LightGBM] [Warning] min_data_in_leaf is set=500, min_child_samples=20 will be ignored. Current value: min_data_in_leaf=500\n",
      "[LightGBM] [Warning] min_data_in_leaf is set=500, min_child_samples=20 will be ignored. Current value: min_data_in_leaf=500\n",
      "[LightGBM] [Warning] min_data_in_leaf is set=500, min_child_samples=20 will be ignored. Current value: min_data_in_leaf=500\n",
      "Area under the ROC Curve: 0.9530983934701641\n"
     ]
    }
   ],
   "source": [
    "from lightgbm import LGBMClassifier\n",
    "\n",
    "et = LGBMClassifier(n_estimators=100, min_data_in_leaf=500,colsample_bytree=0.8, class_weight='balanced', n_jobs=-1)\n",
    "\n",
    "# validation instance\n",
    "skf = StratifiedKFold(n_splits=4, shuffle=True)\n",
    "\n",
    "# getting the model validation predictions\n",
    "preds = cross_val_predict(et, X, y, cv=skf, method='predict_proba')\n",
    "\n",
    "# evaluating the model\n",
    "# print('Area under the ROC Curve:', roc_auc_score(y, preds[:,1]))\n",
    "print('Area under the ROC Curve:', roc_auc_score(y, preds, multi_class='ovo'))\n",
    "\n",
    "lgbm_performance[feature_set] = roc_auc_score(y, preds, multi_class='ovo')"
   ]
  },
  {
   "cell_type": "code",
   "execution_count": 273,
   "id": "8a6bc0ab",
   "metadata": {},
   "outputs": [
    {
     "name": "stdout",
     "output_type": "stream",
     "text": [
      "[LightGBM] [Warning] min_data_in_leaf is set=500, min_child_samples=20 will be ignored. Current value: min_data_in_leaf=500\n"
     ]
    },
    {
     "data": {
      "text/plain": [
       "LGBMClassifier(class_weight='balanced', colsample_bytree=0.8,\n",
       "               min_data_in_leaf=500)"
      ]
     },
     "execution_count": 273,
     "metadata": {},
     "output_type": "execute_result"
    }
   ],
   "source": [
    "et.fit(X, y)"
   ]
  },
  {
   "cell_type": "code",
   "execution_count": 274,
   "id": "a97d680a",
   "metadata": {},
   "outputs": [],
   "source": [
    "predicted_labels = et.predict(X_use)"
   ]
  },
  {
   "cell_type": "code",
   "execution_count": 278,
   "id": "a7db0692",
   "metadata": {},
   "outputs": [],
   "source": [
    "predicted_probs = et.predict_proba(X_use)"
   ]
  },
  {
   "cell_type": "code",
   "execution_count": 275,
   "id": "83686ff0",
   "metadata": {},
   "outputs": [],
   "source": [
    "def handle_l_labels(l):\n",
    "    if l == 2:\n",
    "        return 1\n",
    "    if l == 1:\n",
    "        return -1\n",
    "    if l <1:\n",
    "        return 0"
   ]
  },
  {
   "cell_type": "code",
   "execution_count": 276,
   "id": "2208646c",
   "metadata": {},
   "outputs": [],
   "source": [
    "data['label'] = predicted_labels\n",
    "data['label'] = data['label'].apply(handle_l_labels)"
   ]
  },
  {
   "cell_type": "code",
   "execution_count": 279,
   "id": "6d5b9219",
   "metadata": {},
   "outputs": [],
   "source": [
    "data['stance'] = (predicted_probs*[0,-1,1])[range(len(predicted_probs)),list(np.argmax(np.abs(predicted_probs*[0,-1,1]), axis=1))]"
   ]
  },
  {
   "cell_type": "code",
   "execution_count": 280,
   "id": "22a8f4f4",
   "metadata": {},
   "outputs": [],
   "source": [
    "data.to_csv(os.path.join(base_dir,'data','02_processed','qanda_episode_w_labels.csv'))"
   ]
  },
  {
   "cell_type": "markdown",
   "id": "5386e881",
   "metadata": {},
   "source": [
    "## Hashtags"
   ]
  },
  {
   "cell_type": "code",
   "execution_count": 212,
   "id": "8d39a6b5",
   "metadata": {},
   "outputs": [],
   "source": [
    "feature_set = 'ht'"
   ]
  },
  {
   "cell_type": "code",
   "execution_count": 213,
   "id": "81662d0d",
   "metadata": {},
   "outputs": [],
   "source": [
    "X = X_ht[mask]"
   ]
  },
  {
   "cell_type": "code",
   "execution_count": 214,
   "id": "9146c4df",
   "metadata": {},
   "outputs": [],
   "source": [
    "y=y_orig[mask]"
   ]
  },
  {
   "cell_type": "code",
   "execution_count": 215,
   "id": "22e196d6",
   "metadata": {},
   "outputs": [
    {
     "name": "stderr",
     "output_type": "stream",
     "text": [
      "/home/roram/anaconda3/envs/condaEnv/lib/python3.9/site-packages/sklearn/utils/validation.py:585: FutureWarning: np.matrix usage is deprecated in 1.0 and will raise a TypeError in 1.2. Please convert to a numpy array with np.asarray. For more information see: https://numpy.org/doc/stable/reference/generated/numpy.matrix.html\n",
      "  warnings.warn(\n"
     ]
    },
    {
     "name": "stdout",
     "output_type": "stream",
     "text": [
      "[LightGBM] [Warning] min_data_in_leaf is set=500, min_child_samples=20 will be ignored. Current value: min_data_in_leaf=500\n"
     ]
    },
    {
     "name": "stderr",
     "output_type": "stream",
     "text": [
      "/home/roram/anaconda3/envs/condaEnv/lib/python3.9/site-packages/sklearn/utils/validation.py:585: FutureWarning: np.matrix usage is deprecated in 1.0 and will raise a TypeError in 1.2. Please convert to a numpy array with np.asarray. For more information see: https://numpy.org/doc/stable/reference/generated/numpy.matrix.html\n",
      "  warnings.warn(\n",
      "/home/roram/anaconda3/envs/condaEnv/lib/python3.9/site-packages/sklearn/utils/validation.py:585: FutureWarning: np.matrix usage is deprecated in 1.0 and will raise a TypeError in 1.2. Please convert to a numpy array with np.asarray. For more information see: https://numpy.org/doc/stable/reference/generated/numpy.matrix.html\n",
      "  warnings.warn(\n"
     ]
    },
    {
     "name": "stdout",
     "output_type": "stream",
     "text": [
      "[LightGBM] [Warning] min_data_in_leaf is set=500, min_child_samples=20 will be ignored. Current value: min_data_in_leaf=500\n"
     ]
    },
    {
     "name": "stderr",
     "output_type": "stream",
     "text": [
      "/home/roram/anaconda3/envs/condaEnv/lib/python3.9/site-packages/sklearn/utils/validation.py:585: FutureWarning: np.matrix usage is deprecated in 1.0 and will raise a TypeError in 1.2. Please convert to a numpy array with np.asarray. For more information see: https://numpy.org/doc/stable/reference/generated/numpy.matrix.html\n",
      "  warnings.warn(\n",
      "/home/roram/anaconda3/envs/condaEnv/lib/python3.9/site-packages/sklearn/utils/validation.py:585: FutureWarning: np.matrix usage is deprecated in 1.0 and will raise a TypeError in 1.2. Please convert to a numpy array with np.asarray. For more information see: https://numpy.org/doc/stable/reference/generated/numpy.matrix.html\n",
      "  warnings.warn(\n"
     ]
    },
    {
     "name": "stdout",
     "output_type": "stream",
     "text": [
      "[LightGBM] [Warning] min_data_in_leaf is set=500, min_child_samples=20 will be ignored. Current value: min_data_in_leaf=500\n"
     ]
    },
    {
     "name": "stderr",
     "output_type": "stream",
     "text": [
      "/home/roram/anaconda3/envs/condaEnv/lib/python3.9/site-packages/sklearn/utils/validation.py:585: FutureWarning: np.matrix usage is deprecated in 1.0 and will raise a TypeError in 1.2. Please convert to a numpy array with np.asarray. For more information see: https://numpy.org/doc/stable/reference/generated/numpy.matrix.html\n",
      "  warnings.warn(\n",
      "/home/roram/anaconda3/envs/condaEnv/lib/python3.9/site-packages/sklearn/utils/validation.py:585: FutureWarning: np.matrix usage is deprecated in 1.0 and will raise a TypeError in 1.2. Please convert to a numpy array with np.asarray. For more information see: https://numpy.org/doc/stable/reference/generated/numpy.matrix.html\n",
      "  warnings.warn(\n"
     ]
    },
    {
     "name": "stdout",
     "output_type": "stream",
     "text": [
      "[LightGBM] [Warning] min_data_in_leaf is set=500, min_child_samples=20 will be ignored. Current value: min_data_in_leaf=500\n",
      "Area under the ROC Curve: 0.7112458416441328\n"
     ]
    },
    {
     "name": "stderr",
     "output_type": "stream",
     "text": [
      "/home/roram/anaconda3/envs/condaEnv/lib/python3.9/site-packages/sklearn/utils/validation.py:585: FutureWarning: np.matrix usage is deprecated in 1.0 and will raise a TypeError in 1.2. Please convert to a numpy array with np.asarray. For more information see: https://numpy.org/doc/stable/reference/generated/numpy.matrix.html\n",
      "  warnings.warn(\n"
     ]
    }
   ],
   "source": [
    "from lightgbm import LGBMClassifier\n",
    "\n",
    "et = LGBMClassifier(n_estimators=100, min_data_in_leaf=500,colsample_bytree=0.8, class_weight='balanced', n_jobs=-1)\n",
    "\n",
    "# validation instance\n",
    "skf = StratifiedKFold(n_splits=4, shuffle=True)\n",
    "\n",
    "# getting the model validation predictions\n",
    "preds = cross_val_predict(et, X, y, cv=skf, method='predict_proba')\n",
    "\n",
    "# evaluating the model\n",
    "# print('Area under the ROC Curve:', roc_auc_score(y, preds[:,1]))\n",
    "print('Area under the ROC Curve:', roc_auc_score(y, preds, multi_class='ovo'))\n",
    "\n",
    "lgbm_performance[feature_set] = roc_auc_score(y, preds, multi_class='ovo')"
   ]
  },
  {
   "cell_type": "markdown",
   "id": "986ed63d",
   "metadata": {},
   "source": [
    "## Reshare"
   ]
  },
  {
   "cell_type": "code",
   "execution_count": 216,
   "id": "17208abd",
   "metadata": {},
   "outputs": [],
   "source": [
    "feature_set = 'rt'"
   ]
  },
  {
   "cell_type": "code",
   "execution_count": 217,
   "id": "f77bd250",
   "metadata": {},
   "outputs": [],
   "source": [
    "X = X_rt[mask]"
   ]
  },
  {
   "cell_type": "code",
   "execution_count": 218,
   "id": "cf3e938d",
   "metadata": {},
   "outputs": [],
   "source": [
    "y=y_orig[mask]"
   ]
  },
  {
   "cell_type": "code",
   "execution_count": 219,
   "id": "b0e322dd",
   "metadata": {},
   "outputs": [
    {
     "name": "stdout",
     "output_type": "stream",
     "text": [
      "[LightGBM] [Warning] min_data_in_leaf is set=500, min_child_samples=20 will be ignored. Current value: min_data_in_leaf=500\n",
      "[LightGBM] [Warning] min_data_in_leaf is set=500, min_child_samples=20 will be ignored. Current value: min_data_in_leaf=500\n",
      "[LightGBM] [Warning] min_data_in_leaf is set=500, min_child_samples=20 will be ignored. Current value: min_data_in_leaf=500\n",
      "[LightGBM] [Warning] min_data_in_leaf is set=500, min_child_samples=20 will be ignored. Current value: min_data_in_leaf=500\n",
      "Area under the ROC Curve: 0.5005678868700713\n"
     ]
    }
   ],
   "source": [
    "from lightgbm import LGBMClassifier\n",
    "\n",
    "et = LGBMClassifier(n_estimators=100, min_data_in_leaf=500,colsample_bytree=0.8, class_weight='balanced', n_jobs=-1)\n",
    "\n",
    "# validation instance\n",
    "skf = StratifiedKFold(n_splits=4, shuffle=True)\n",
    "\n",
    "# getting the model validation predictions\n",
    "preds = cross_val_predict(et, X, y, cv=skf, method='predict_proba')\n",
    "\n",
    "# evaluating the model\n",
    "# print('Area under the ROC Curve:', roc_auc_score(y, preds[:,1]))\n",
    "print('Area under the ROC Curve:', roc_auc_score(y, preds, multi_class='ovo'))\n",
    "\n",
    "lgbm_performance[feature_set] = roc_auc_score(y, preds, multi_class='ovo')"
   ]
  },
  {
   "cell_type": "markdown",
   "id": "62a34535",
   "metadata": {},
   "source": [
    "## Hashtag + USE"
   ]
  },
  {
   "cell_type": "code",
   "execution_count": 220,
   "id": "7fb12039",
   "metadata": {},
   "outputs": [],
   "source": [
    "feature_set = 'ht_use'"
   ]
  },
  {
   "cell_type": "code",
   "execution_count": 221,
   "id": "67ba02f3",
   "metadata": {},
   "outputs": [],
   "source": [
    "X = np.hstack([X_ht,X_use])[mask]"
   ]
  },
  {
   "cell_type": "code",
   "execution_count": 222,
   "id": "6041eeb3",
   "metadata": {},
   "outputs": [],
   "source": [
    "y=y_orig[mask]"
   ]
  },
  {
   "cell_type": "code",
   "execution_count": 223,
   "id": "8749910a",
   "metadata": {},
   "outputs": [
    {
     "name": "stderr",
     "output_type": "stream",
     "text": [
      "/home/roram/anaconda3/envs/condaEnv/lib/python3.9/site-packages/sklearn/utils/validation.py:585: FutureWarning: np.matrix usage is deprecated in 1.0 and will raise a TypeError in 1.2. Please convert to a numpy array with np.asarray. For more information see: https://numpy.org/doc/stable/reference/generated/numpy.matrix.html\n",
      "  warnings.warn(\n"
     ]
    },
    {
     "name": "stdout",
     "output_type": "stream",
     "text": [
      "[LightGBM] [Warning] min_data_in_leaf is set=500, min_child_samples=20 will be ignored. Current value: min_data_in_leaf=500\n"
     ]
    },
    {
     "name": "stderr",
     "output_type": "stream",
     "text": [
      "/home/roram/anaconda3/envs/condaEnv/lib/python3.9/site-packages/sklearn/utils/validation.py:585: FutureWarning: np.matrix usage is deprecated in 1.0 and will raise a TypeError in 1.2. Please convert to a numpy array with np.asarray. For more information see: https://numpy.org/doc/stable/reference/generated/numpy.matrix.html\n",
      "  warnings.warn(\n",
      "/home/roram/anaconda3/envs/condaEnv/lib/python3.9/site-packages/sklearn/utils/validation.py:585: FutureWarning: np.matrix usage is deprecated in 1.0 and will raise a TypeError in 1.2. Please convert to a numpy array with np.asarray. For more information see: https://numpy.org/doc/stable/reference/generated/numpy.matrix.html\n",
      "  warnings.warn(\n"
     ]
    },
    {
     "name": "stdout",
     "output_type": "stream",
     "text": [
      "[LightGBM] [Warning] min_data_in_leaf is set=500, min_child_samples=20 will be ignored. Current value: min_data_in_leaf=500\n",
      "Area under the ROC Curve: 0.9327524344815968\n"
     ]
    },
    {
     "name": "stderr",
     "output_type": "stream",
     "text": [
      "/home/roram/anaconda3/envs/condaEnv/lib/python3.9/site-packages/sklearn/utils/validation.py:585: FutureWarning: np.matrix usage is deprecated in 1.0 and will raise a TypeError in 1.2. Please convert to a numpy array with np.asarray. For more information see: https://numpy.org/doc/stable/reference/generated/numpy.matrix.html\n",
      "  warnings.warn(\n"
     ]
    }
   ],
   "source": [
    "from lightgbm import LGBMClassifier\n",
    "\n",
    "et = LGBMClassifier(n_estimators=100, min_data_in_leaf=500,colsample_bytree=0.8, class_weight='balanced', n_jobs=-1)\n",
    "\n",
    "# validation instance\n",
    "skf = StratifiedKFold(n_splits=2, shuffle=True)\n",
    "\n",
    "# getting the model validation predictions\n",
    "preds = cross_val_predict(et, X, y, cv=skf, method='predict_proba')\n",
    "\n",
    "# evaluating the model\n",
    "# print('Area under the ROC Curve:', roc_auc_score(y, preds[:,1]))\n",
    "print('Area under the ROC Curve:', roc_auc_score(y, preds, multi_class='ovo'))\n",
    "lgbm_performance[feature_set] = roc_auc_score(y, preds, multi_class='ovo')"
   ]
  },
  {
   "cell_type": "markdown",
   "id": "0380ed41",
   "metadata": {},
   "source": [
    "## Retweet + Linguistic"
   ]
  },
  {
   "cell_type": "code",
   "execution_count": 224,
   "id": "f5c4c5d7",
   "metadata": {},
   "outputs": [],
   "source": [
    "feature_set = 'rt_use'"
   ]
  },
  {
   "cell_type": "code",
   "execution_count": 225,
   "id": "8823ba5f",
   "metadata": {},
   "outputs": [
    {
     "name": "stdout",
     "output_type": "stream",
     "text": [
      "[LightGBM] [Warning] min_data_in_leaf is set=500, min_child_samples=20 will be ignored. Current value: min_data_in_leaf=500\n",
      "[LightGBM] [Warning] min_data_in_leaf is set=500, min_child_samples=20 will be ignored. Current value: min_data_in_leaf=500\n",
      "Area under the ROC Curve: 0.9313122589525502\n"
     ]
    }
   ],
   "source": [
    "X = np.hstack([X_rt,X_use])[mask]\n",
    "y = y_orig[mask]\n",
    "\n",
    "from lightgbm import LGBMClassifier\n",
    "\n",
    "et = LGBMClassifier(n_estimators=100, min_data_in_leaf=500,colsample_bytree=0.8, class_weight='balanced', n_jobs=-1)\n",
    "\n",
    "# validation instance\n",
    "skf = StratifiedKFold(n_splits=2, shuffle=True)\n",
    "\n",
    "# getting the model validation predictions\n",
    "preds = cross_val_predict(et, X, y, cv=skf, method='predict_proba')\n",
    "\n",
    "# evaluating the model\n",
    "# print('Area under the ROC Curve:', roc_auc_score(y, preds[:,1]))\n",
    "print('Area under the ROC Curve:', roc_auc_score(y, preds, multi_class='ovo'))\n",
    "lgbm_performance[feature_set] = roc_auc_score(y, preds, multi_class='ovo')"
   ]
  },
  {
   "cell_type": "markdown",
   "id": "2f7a9bd2",
   "metadata": {},
   "source": [
    "## Retweet + Hashtag"
   ]
  },
  {
   "cell_type": "code",
   "execution_count": 226,
   "id": "e929ef7c",
   "metadata": {},
   "outputs": [],
   "source": [
    "feature_set = 'rt_ht'"
   ]
  },
  {
   "cell_type": "code",
   "execution_count": 227,
   "id": "9f96793e",
   "metadata": {},
   "outputs": [
    {
     "name": "stderr",
     "output_type": "stream",
     "text": [
      "/home/roram/anaconda3/envs/condaEnv/lib/python3.9/site-packages/sklearn/utils/validation.py:585: FutureWarning: np.matrix usage is deprecated in 1.0 and will raise a TypeError in 1.2. Please convert to a numpy array with np.asarray. For more information see: https://numpy.org/doc/stable/reference/generated/numpy.matrix.html\n",
      "  warnings.warn(\n"
     ]
    },
    {
     "name": "stdout",
     "output_type": "stream",
     "text": [
      "[LightGBM] [Warning] min_data_in_leaf is set=500, min_child_samples=20 will be ignored. Current value: min_data_in_leaf=500\n"
     ]
    },
    {
     "name": "stderr",
     "output_type": "stream",
     "text": [
      "/home/roram/anaconda3/envs/condaEnv/lib/python3.9/site-packages/sklearn/utils/validation.py:585: FutureWarning: np.matrix usage is deprecated in 1.0 and will raise a TypeError in 1.2. Please convert to a numpy array with np.asarray. For more information see: https://numpy.org/doc/stable/reference/generated/numpy.matrix.html\n",
      "  warnings.warn(\n",
      "/home/roram/anaconda3/envs/condaEnv/lib/python3.9/site-packages/sklearn/utils/validation.py:585: FutureWarning: np.matrix usage is deprecated in 1.0 and will raise a TypeError in 1.2. Please convert to a numpy array with np.asarray. For more information see: https://numpy.org/doc/stable/reference/generated/numpy.matrix.html\n",
      "  warnings.warn(\n"
     ]
    },
    {
     "name": "stdout",
     "output_type": "stream",
     "text": [
      "[LightGBM] [Warning] min_data_in_leaf is set=500, min_child_samples=20 will be ignored. Current value: min_data_in_leaf=500\n",
      "Area under the ROC Curve: 0.697399262925428\n"
     ]
    },
    {
     "name": "stderr",
     "output_type": "stream",
     "text": [
      "/home/roram/anaconda3/envs/condaEnv/lib/python3.9/site-packages/sklearn/utils/validation.py:585: FutureWarning: np.matrix usage is deprecated in 1.0 and will raise a TypeError in 1.2. Please convert to a numpy array with np.asarray. For more information see: https://numpy.org/doc/stable/reference/generated/numpy.matrix.html\n",
      "  warnings.warn(\n"
     ]
    }
   ],
   "source": [
    "X = np.hstack([X_rt,X_ht])[mask]\n",
    "y = y_orig[mask]\n",
    "\n",
    "from lightgbm import LGBMClassifier\n",
    "\n",
    "et = LGBMClassifier(n_estimators=100, min_data_in_leaf=500,colsample_bytree=0.8, class_weight='balanced', n_jobs=-1)\n",
    "\n",
    "# validation instance\n",
    "skf = StratifiedKFold(n_splits=2, shuffle=True)\n",
    "\n",
    "# getting the model validation predictions\n",
    "preds = cross_val_predict(et, X, y, cv=skf, method='predict_proba')\n",
    "\n",
    "# evaluating the model\n",
    "# print('Area under the ROC Curve:', roc_auc_score(y, preds[:,1]))\n",
    "print('Area under the ROC Curve:', roc_auc_score(y, preds, multi_class='ovo'))\n",
    "lgbm_performance[feature_set] = roc_auc_score(y, preds, multi_class='ovo')"
   ]
  },
  {
   "cell_type": "markdown",
   "id": "4f8f428a",
   "metadata": {},
   "source": [
    "## Retweet + Linguistic + Hashtag"
   ]
  },
  {
   "cell_type": "code",
   "execution_count": 228,
   "id": "7ccb469e",
   "metadata": {},
   "outputs": [],
   "source": [
    "feature_set = 'rt_use_ht'"
   ]
  },
  {
   "cell_type": "code",
   "execution_count": 229,
   "id": "32178c1b",
   "metadata": {},
   "outputs": [
    {
     "name": "stderr",
     "output_type": "stream",
     "text": [
      "/home/roram/anaconda3/envs/condaEnv/lib/python3.9/site-packages/sklearn/utils/validation.py:585: FutureWarning: np.matrix usage is deprecated in 1.0 and will raise a TypeError in 1.2. Please convert to a numpy array with np.asarray. For more information see: https://numpy.org/doc/stable/reference/generated/numpy.matrix.html\n",
      "  warnings.warn(\n"
     ]
    },
    {
     "name": "stdout",
     "output_type": "stream",
     "text": [
      "[LightGBM] [Warning] min_data_in_leaf is set=500, min_child_samples=20 will be ignored. Current value: min_data_in_leaf=500\n"
     ]
    },
    {
     "name": "stderr",
     "output_type": "stream",
     "text": [
      "/home/roram/anaconda3/envs/condaEnv/lib/python3.9/site-packages/sklearn/utils/validation.py:585: FutureWarning: np.matrix usage is deprecated in 1.0 and will raise a TypeError in 1.2. Please convert to a numpy array with np.asarray. For more information see: https://numpy.org/doc/stable/reference/generated/numpy.matrix.html\n",
      "  warnings.warn(\n",
      "/home/roram/anaconda3/envs/condaEnv/lib/python3.9/site-packages/sklearn/utils/validation.py:585: FutureWarning: np.matrix usage is deprecated in 1.0 and will raise a TypeError in 1.2. Please convert to a numpy array with np.asarray. For more information see: https://numpy.org/doc/stable/reference/generated/numpy.matrix.html\n",
      "  warnings.warn(\n"
     ]
    },
    {
     "name": "stdout",
     "output_type": "stream",
     "text": [
      "[LightGBM] [Warning] min_data_in_leaf is set=500, min_child_samples=20 will be ignored. Current value: min_data_in_leaf=500\n",
      "Area under the ROC Curve: 0.9346886692236618\n"
     ]
    },
    {
     "name": "stderr",
     "output_type": "stream",
     "text": [
      "/home/roram/anaconda3/envs/condaEnv/lib/python3.9/site-packages/sklearn/utils/validation.py:585: FutureWarning: np.matrix usage is deprecated in 1.0 and will raise a TypeError in 1.2. Please convert to a numpy array with np.asarray. For more information see: https://numpy.org/doc/stable/reference/generated/numpy.matrix.html\n",
      "  warnings.warn(\n"
     ]
    }
   ],
   "source": [
    "X = np.hstack([X_use, X_ht,X_rt])[mask]\n",
    "y = y_orig[mask]\n",
    "\n",
    "from lightgbm import LGBMClassifier\n",
    "\n",
    "et = LGBMClassifier(n_estimators=100, min_data_in_leaf=500,colsample_bytree=0.8, class_weight='balanced', n_jobs=-1)\n",
    "\n",
    "# validation instance\n",
    "skf = StratifiedKFold(n_splits=2, shuffle=True)\n",
    "\n",
    "# getting the model validation predictions\n",
    "preds = cross_val_predict(et, X, y, cv=skf, method='predict_proba')\n",
    "\n",
    "# evaluating the model\n",
    "# print('Area under the ROC Curve:', roc_auc_score(y, preds[:,1]))\n",
    "print('Area under the ROC Curve:', roc_auc_score(y, preds, multi_class='ovo'))\n",
    "lgbm_performance[feature_set] = roc_auc_score(y, preds, multi_class='ovo')"
   ]
  },
  {
   "cell_type": "code",
   "execution_count": 230,
   "id": "472249bb",
   "metadata": {},
   "outputs": [
    {
     "data": {
      "text/plain": [
       "{'use': 0.9530879124346621,\n",
       " 'ht': 0.7112458416441328,\n",
       " 'rt': 0.5005678868700713,\n",
       " 'ht_use': 0.9327524344815968,\n",
       " 'rt_use': 0.9313122589525502,\n",
       " 'rt_ht': 0.697399262925428,\n",
       " 'rt_use_ht': 0.9346886692236618}"
      ]
     },
     "execution_count": 230,
     "metadata": {},
     "output_type": "execute_result"
    }
   ],
   "source": [
    "lgbm_performance"
   ]
  },
  {
   "cell_type": "code",
   "execution_count": null,
   "id": "ff189610",
   "metadata": {},
   "outputs": [],
   "source": []
  }
 ],
 "metadata": {
  "kernelspec": {
   "display_name": "condaEnv",
   "language": "python",
   "name": "condaenv"
  },
  "language_info": {
   "codemirror_mode": {
    "name": "ipython",
    "version": 3
   },
   "file_extension": ".py",
   "mimetype": "text/x-python",
   "name": "python",
   "nbconvert_exporter": "python",
   "pygments_lexer": "ipython3",
   "version": "3.9.7"
  }
 },
 "nbformat": 4,
 "nbformat_minor": 5
}
