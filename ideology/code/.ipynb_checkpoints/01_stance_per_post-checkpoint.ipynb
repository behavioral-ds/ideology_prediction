{
 "cells": [
  {
   "cell_type": "code",
   "execution_count": 15,
   "id": "905990fb",
   "metadata": {},
   "outputs": [],
   "source": [
    "from dotenv import load_dotenv\n",
    "import os\n",
    "import pandas as pd\n",
    "load_dotenv()\n",
    "from gdtm.helpers.common import load_flat_dataset\n",
    "\n",
    "base_dir = os.getenv('BASEDIR')"
   ]
  },
  {
   "cell_type": "code",
   "execution_count": 16,
   "id": "2200a25d",
   "metadata": {},
   "outputs": [],
   "source": [
    "import pandas as pd\n",
    "import os \n",
    "import re\n",
    "import numpy as np\n",
    "from sklearn.feature_extraction.text import TfidfVectorizer\n",
    "from tqdm import tqdm\n",
    "import tensorflow as tf\n",
    "import tensorflow_hub as hub"
   ]
  },
  {
   "cell_type": "code",
   "execution_count": 18,
   "id": "bc8ad6a1",
   "metadata": {},
   "outputs": [],
   "source": [
    "data = pd.read_csv(os.path.join(base_dir,'data','01_raw','qanda_episodes.csv'))\n",
    "\n",
    "data['hashtags'] = data['hashtags'].fillna('').apply(lambda s: s.split(';;;'))\n",
    "\n",
    "data['mentions'] = data['mentions'].fillna('').apply(lambda s: s.split(';;;'))\n",
    "\n",
    "data['urls'] = data['urls'].fillna('').apply(lambda s: s.split(';;;'))\n",
    "\n",
    "data['text_ht_censored'] = data['text'].apply(lambda t: re.sub(r'http\\S+', '<URL>', t)).apply(lambda t: re.sub(\"#[A-Za-z0-9_]+\",\"<HASHTAG>\", t)) \n",
    "data['text_full_censored'] = data['text'].apply(lambda t: re.sub(r'http\\S+', '', t)).apply(lambda t: re.sub(\"#[A-Za-z0-9_]+\",\"\", t)).apply(lambda t: re.sub(r'@\\S+', '', t))"
   ]
  },
  {
   "cell_type": "code",
   "execution_count": 19,
   "id": "1d077ccd",
   "metadata": {},
   "outputs": [],
   "source": [
    "hashtag_labels = pd.read_csv(os.path.join(base_dir,'data','01_raw','hashtags_labelled_100.csv'))\n",
    "def assign_polarity(e):\n",
    "    if(e in {'left', 'more left', 'left?', 'left_'}):\n",
    "        return 1\n",
    "    elif(e in ['right', 'more right', 'right?']):\n",
    "        return -1\n",
    "    else:\n",
    "        return 0\n",
    "\n",
    "hashtag_labels['polarity'] = hashtag_labels['label'].apply(assign_polarity)\n",
    "hashtag_labels = hashtag_labels[~hashtag_labels['polarity'].isna()]"
   ]
  },
  {
   "cell_type": "code",
   "execution_count": 20,
   "id": "bc32f157",
   "metadata": {},
   "outputs": [],
   "source": [
    "left_hashtags = hashtag_labels[hashtag_labels['polarity'] == 1]['hashtags']\n",
    "right_hashtags = hashtag_labels[hashtag_labels['polarity'] == -1]['hashtags']\n",
    "\n",
    "def ground_truth_hashtag(ht):\n",
    "    if ht in left_hashtags.values:\n",
    "        return -1\n",
    "    elif ht in right_hashtags.values:\n",
    "        return 1\n",
    "    else:\n",
    "        return 0"
   ]
  },
  {
   "cell_type": "code",
   "execution_count": 21,
   "id": "bd24438e",
   "metadata": {},
   "outputs": [],
   "source": [
    "data_hashtags = data['hashtags']\n",
    "post_ground_truth = data_hashtags.apply(lambda l: np.nanmean(list(map(ground_truth_hashtag, l))))\n",
    "\n",
    "ground_truth_df = pd.DataFrame({'hashtags' : data_hashtags})\n",
    "ground_truth_df['continuous_gt_score'] = post_ground_truth\n",
    "def handle_labels(s):\n",
    "    if np.isnan(s):\n",
    "        return -1\n",
    "    elif s > 0:\n",
    "        return 2\n",
    "    elif s == 0:\n",
    "        return 0\n",
    "    elif s < 0:\n",
    "        return 1\n",
    "ground_truth_df['gt_label'] = ground_truth_df['continuous_gt_score'].apply(handle_labels)"
   ]
  },
  {
   "cell_type": "code",
   "execution_count": 22,
   "id": "50c1e9d5",
   "metadata": {},
   "outputs": [],
   "source": [
    "def dummy_fun(doc):\n",
    "    return doc\n",
    "\n",
    "tfidf = TfidfVectorizer(\n",
    "            analyzer='word',\n",
    "            tokenizer=dummy_fun,\n",
    "            preprocessor=dummy_fun,\n",
    "            token_pattern=None,\n",
    "            min_df = 10)\n",
    "\n",
    "toy = data_hashtags\n",
    "\n",
    "ht_embeddings = tfidf.fit_transform(toy.apply(lambda l: [str(s) for s in l])).todense()"
   ]
  },
  {
   "cell_type": "code",
   "execution_count": 23,
   "id": "7e4a0f6e",
   "metadata": {},
   "outputs": [
    {
     "name": "stdout",
     "output_type": "stream",
     "text": [
      "module https://tfhub.dev/google/universal-sentence-encoder/4 loaded\n"
     ]
    }
   ],
   "source": [
    "module_url = \"https://tfhub.dev/google/universal-sentence-encoder/4\"\n",
    "model = hub.load(module_url)\n",
    "print (\"module %s loaded\" % module_url)\n",
    "def embed(input):\n",
    "    return model(input)"
   ]
  },
  {
   "cell_type": "code",
   "execution_count": 24,
   "id": "df8f5ea8",
   "metadata": {},
   "outputs": [],
   "source": [
    "def batched_embed(l_text):\n",
    "    all_embeddings = []\n",
    "    chunk_size = 10\n",
    "    for i in tqdm(range(0, len(l_text), chunk_size)):\n",
    "        chunk = l_text[i: min(i+chunk_size, len(l_text))]\n",
    "        emb = embed(chunk)\n",
    "        all_embeddings.append(emb.numpy())\n",
    "    return np.vstack(all_embeddings)"
   ]
  },
  {
   "cell_type": "code",
   "execution_count": 25,
   "id": "a91d0748",
   "metadata": {},
   "outputs": [
    {
     "name": "stderr",
     "output_type": "stream",
     "text": [
      "100%|██████████| 75664/75664 [03:18<00:00, 380.91it/s]\n"
     ]
    }
   ],
   "source": [
    "use_embeddings = batched_embed(list(data['text_full_censored']))"
   ]
  },
  {
   "cell_type": "code",
   "execution_count": 26,
   "id": "964efc1e",
   "metadata": {},
   "outputs": [],
   "source": [
    "data['rid'] = data['rid'].combine_first(data['tid'])\n",
    "\n",
    "most_popular_threads = data['rid'].value_counts().iloc[0:1000].index.values\n",
    "\n",
    "def to_bow(rid):\n",
    "    res = np.zeros(1000)\n",
    "    for i, thread in enumerate(most_popular_threads):\n",
    "        if rid == thread:\n",
    "            res[i] += 1\n",
    "    return res\n",
    "\n",
    "data['retweet_embeddings'] = data['rid'].apply(to_bow)"
   ]
  },
  {
   "cell_type": "code",
   "execution_count": 27,
   "id": "0c6f3960",
   "metadata": {},
   "outputs": [],
   "source": [
    "retweet_embeddings = data.groupby('uid').apply(lambda d: np.cumsum(d['retweet_embeddings'])).reset_index().sort_values('level_1')"
   ]
  },
  {
   "cell_type": "code",
   "execution_count": 28,
   "id": "3c022bf2",
   "metadata": {},
   "outputs": [],
   "source": [
    "retweet_embeddings = retweet_embeddings.set_index('level_1')"
   ]
  },
  {
   "cell_type": "code",
   "execution_count": 29,
   "id": "0c3ba429",
   "metadata": {},
   "outputs": [],
   "source": [
    "import tldextract\n",
    "def extract_domain(url):\n",
    "    ext = tldextract.extract(url)\n",
    "    return('.'.join([ext.domain, ext.suffix]))"
   ]
  },
  {
   "cell_type": "code",
   "execution_count": 30,
   "id": "d8648e28",
   "metadata": {},
   "outputs": [],
   "source": [
    "data_urls = data['urls'].apply(lambda l: [extract_domain(e) for e in l])"
   ]
  },
  {
   "cell_type": "code",
   "execution_count": 31,
   "id": "bacb0781",
   "metadata": {},
   "outputs": [],
   "source": [
    "def dummy_fun(doc):\n",
    "    return doc\n",
    "\n",
    "tfidf = TfidfVectorizer(\n",
    "            analyzer='word',\n",
    "            tokenizer=dummy_fun,\n",
    "            preprocessor=dummy_fun,\n",
    "            token_pattern=None,\n",
    "            min_df = 10)\n",
    "\n",
    "toy = data_urls\n",
    "\n",
    "url_embeddings = tfidf.fit_transform(toy.apply(lambda l: [str(s) for s in l])).todense()"
   ]
  },
  {
   "cell_type": "code",
   "execution_count": 32,
   "id": "a5d8df37",
   "metadata": {},
   "outputs": [],
   "source": [
    "## Is URL ideology correlated with Hashtag ideology?\n",
    "url_domain_ideology = pd.read_csv(os.path.join(base_dir,'data','01_raw','reuters_2020_au_news_lr.csv'))\n",
    "url_domain_ideology = url_domain_ideology[~url_domain_ideology['domain'].isna()].set_index('domain')"
   ]
  },
  {
   "cell_type": "code",
   "execution_count": 33,
   "id": "0b72b57a",
   "metadata": {},
   "outputs": [],
   "source": [
    "url_domain_ideology['lr'] = url_domain_ideology['lr'] - url_domain_ideology.loc['abc.net.au','lr']"
   ]
  },
  {
   "cell_type": "code",
   "execution_count": 34,
   "id": "7af78acf",
   "metadata": {},
   "outputs": [],
   "source": [
    "def get_domain_ideology(domain):\n",
    "    try:\n",
    "        return(url_domain_ideology.loc[domain].lr)\n",
    "    except Exception as e:\n",
    "        return(np.nan)"
   ]
  },
  {
   "cell_type": "code",
   "execution_count": 35,
   "id": "a9455867",
   "metadata": {},
   "outputs": [
    {
     "name": "stderr",
     "output_type": "stream",
     "text": [
      "<ipython-input-35-53fe212b3069>:1: RuntimeWarning: Mean of empty slice\n",
      "  users_with_url_ideology_gt = data_urls.apply(lambda l: np.nanmean([get_domain_ideology(e) for e in l]))\n"
     ]
    }
   ],
   "source": [
    "users_with_url_ideology_gt = data_urls.apply(lambda l: np.nanmean([get_domain_ideology(e) for e in l]))\n",
    "# users_with_url_ideology_gt = users_with_url_ideology_gt[~users_with_url_ideology_gt.isna()]"
   ]
  },
  {
   "cell_type": "code",
   "execution_count": 77,
   "id": "0bf92bf7",
   "metadata": {},
   "outputs": [],
   "source": [
    "ground_truths = pd.DataFrame({'hashtag_gt':ground_truth_df['continuous_gt_score'],'url_gt': users_with_url_ideology_gt})\n",
    "# ground_truths = ground_truths[~ground_truths['hashtag_gt'].isna() & ~ground_truths['url_gt'].isna()]"
   ]
  },
  {
   "cell_type": "code",
   "execution_count": 78,
   "id": "b97b391b",
   "metadata": {},
   "outputs": [],
   "source": [
    "ground_truths['gt_label'] = ground_truths['url_gt'].apply(handle_labels)"
   ]
  },
  {
   "cell_type": "code",
   "execution_count": 38,
   "id": "fd958f04",
   "metadata": {},
   "outputs": [],
   "source": [
    "from sklearn.ensemble import RandomForestClassifier, ExtraTreesClassifier \n",
    "from sklearn.preprocessing import OneHotEncoder, StandardScaler\n",
    "from sklearn.model_selection import cross_val_predict, StratifiedKFold\n",
    "from sklearn.metrics import roc_auc_score, f1_score\n",
    "from sklearn.datasets import make_classification\n",
    "from umap import UMAP\n",
    "from sklearn_extra.cluster import KMedoids\n",
    "from sklearn.cluster import KMeans\n",
    "import hdbscan\n",
    "\n",
    "import datashader as ds, pandas as pd, colorcet as cc\n",
    "import datashader.transfer_functions as tf\n",
    "from sklearn.metrics import adjusted_rand_score\n",
    "from sklearn.metrics import silhouette_score\n",
    "import os\n",
    "from collections import defaultdict"
   ]
  },
  {
   "cell_type": "code",
   "execution_count": 39,
   "id": "d379bbeb",
   "metadata": {},
   "outputs": [],
   "source": [
    "lgbm_performance = {}\n",
    "silhouette_scores = {}\n",
    "intracluster_distances = {}\n",
    "intercluster_distances = {}\n",
    "kmeans_performance = {k:defaultdict(dict) for k in [2,5,30]}\n",
    "hdbscan_performance = {k:defaultdict(dict) for k in [2,5,30]}"
   ]
  },
  {
   "cell_type": "code",
   "execution_count": 79,
   "id": "a838adeb",
   "metadata": {},
   "outputs": [
    {
     "data": {
      "text/plain": [
       "-1    752130\n",
       " 1      2292\n",
       " 0      1819\n",
       " 2       399\n",
       "Name: url_gt, dtype: int64"
      ]
     },
     "execution_count": 79,
     "metadata": {},
     "output_type": "execute_result"
    }
   ],
   "source": [
    "ground_truths['url_gt'].apply(handle_labels).value_counts()"
   ]
  },
  {
   "cell_type": "code",
   "execution_count": 80,
   "id": "8bc3f9ad",
   "metadata": {},
   "outputs": [],
   "source": [
    "# ground_truths['gt_label'][ground_truths['gt_label']==-1] = 0"
   ]
  },
  {
   "cell_type": "code",
   "execution_count": 81,
   "id": "a52243e5",
   "metadata": {},
   "outputs": [
    {
     "data": {
      "text/plain": [
       "-1    752130\n",
       " 1      2292\n",
       " 0      1819\n",
       " 2       399\n",
       "Name: gt_label, dtype: int64"
      ]
     },
     "execution_count": 81,
     "metadata": {},
     "output_type": "execute_result"
    }
   ],
   "source": [
    "ground_truths['gt_label'].value_counts()"
   ]
  },
  {
   "cell_type": "code",
   "execution_count": 82,
   "id": "1c0a0080",
   "metadata": {},
   "outputs": [],
   "source": [
    "user_ground_truth_df = ground_truths"
   ]
  },
  {
   "cell_type": "code",
   "execution_count": 83,
   "id": "7f524fc2",
   "metadata": {},
   "outputs": [
    {
     "data": {
      "text/plain": [
       "(756640, 512)"
      ]
     },
     "execution_count": 83,
     "metadata": {},
     "output_type": "execute_result"
    }
   ],
   "source": [
    "X_use = use_embeddings\n",
    "use_embeddings.shape"
   ]
  },
  {
   "cell_type": "code",
   "execution_count": 84,
   "id": "06230ccc",
   "metadata": {},
   "outputs": [],
   "source": [
    "rt_embeddings = np.vstack(retweet_embeddings['retweet_embeddings'].values)"
   ]
  },
  {
   "cell_type": "code",
   "execution_count": 85,
   "id": "fc4be2bb",
   "metadata": {},
   "outputs": [
    {
     "data": {
      "text/plain": [
       "(756640, 1000)"
      ]
     },
     "execution_count": 85,
     "metadata": {},
     "output_type": "execute_result"
    }
   ],
   "source": [
    "X_rt = rt_embeddings\n",
    "rt_embeddings.shape"
   ]
  },
  {
   "cell_type": "code",
   "execution_count": 86,
   "id": "a958d240",
   "metadata": {},
   "outputs": [
    {
     "data": {
      "text/plain": [
       "(756640, 3590)"
      ]
     },
     "execution_count": 86,
     "metadata": {},
     "output_type": "execute_result"
    }
   ],
   "source": [
    "X_ht = ht_embeddings\n",
    "ht_embeddings.shape"
   ]
  },
  {
   "cell_type": "code",
   "execution_count": 87,
   "id": "7d44ad72",
   "metadata": {},
   "outputs": [
    {
     "data": {
      "text/plain": [
       "(756640, 147)"
      ]
     },
     "execution_count": 87,
     "metadata": {},
     "output_type": "execute_result"
    }
   ],
   "source": [
    "X_url = url_embeddings\n",
    "url_embeddings.shape"
   ]
  },
  {
   "cell_type": "code",
   "execution_count": 164,
   "id": "f938ba97",
   "metadata": {},
   "outputs": [],
   "source": [
    "y = ground_truths['gt_label'].values"
   ]
  },
  {
   "cell_type": "code",
   "execution_count": 89,
   "id": "e1ed67e7",
   "metadata": {},
   "outputs": [],
   "source": [
    "mask = y > 0"
   ]
  },
  {
   "cell_type": "code",
   "execution_count": null,
   "id": "d4c01cd6",
   "metadata": {},
   "outputs": [],
   "source": []
  },
  {
   "cell_type": "markdown",
   "id": "986ed63d",
   "metadata": {},
   "source": [
    "## USE"
   ]
  },
  {
   "cell_type": "code",
   "execution_count": 165,
   "id": "17208abd",
   "metadata": {},
   "outputs": [],
   "source": [
    "feature_set = 'use'"
   ]
  },
  {
   "cell_type": "code",
   "execution_count": 166,
   "id": "f77bd250",
   "metadata": {},
   "outputs": [],
   "source": [
    "X = X_use"
   ]
  },
  {
   "cell_type": "code",
   "execution_count": 167,
   "id": "cf3e938d",
   "metadata": {},
   "outputs": [],
   "source": [
    "y=y"
   ]
  },
  {
   "cell_type": "code",
   "execution_count": 169,
   "id": "b0e322dd",
   "metadata": {},
   "outputs": [
    {
     "name": "stdout",
     "output_type": "stream",
     "text": [
      "[LightGBM] [Warning] min_data_in_leaf is set=500, min_child_samples=20 will be ignored. Current value: min_data_in_leaf=500\n",
      "[LightGBM] [Warning] min_data_in_leaf is set=500, min_child_samples=20 will be ignored. Current value: min_data_in_leaf=500\n",
      "[LightGBM] [Warning] min_data_in_leaf is set=500, min_child_samples=20 will be ignored. Current value: min_data_in_leaf=500\n",
      "[LightGBM] [Warning] min_data_in_leaf is set=500, min_child_samples=20 will be ignored. Current value: min_data_in_leaf=500\n",
      "Area under the ROC Curve: 0.9953883497551433\n"
     ]
    }
   ],
   "source": [
    "from lightgbm import LGBMClassifier\n",
    "\n",
    "et = LGBMClassifier(n_estimators=100, min_data_in_leaf=500,colsample_bytree=0.8, class_weight='balanced', n_jobs=-1)\n",
    "\n",
    "# validation instance\n",
    "skf = StratifiedKFold(n_splits=4, shuffle=True)\n",
    "\n",
    "# getting the model validation predictions\n",
    "preds = cross_val_predict(et, X, y, cv=skf, method='predict_proba')\n",
    "\n",
    "# evaluating the model\n",
    "# print('Area under the ROC Curve:', roc_auc_score(y, preds[:,1]))\n",
    "print('Area under the ROC Curve:', roc_auc_score(y, preds, multi_class='ovo'))\n",
    "\n",
    "# lgbm_performance[feature_set] = roc_auc_score(y, preds, multi_class='ovo')"
   ]
  },
  {
   "cell_type": "code",
   "execution_count": 170,
   "id": "16780849",
   "metadata": {},
   "outputs": [
    {
     "name": "stdout",
     "output_type": "stream",
     "text": [
      "[LightGBM] [Warning] min_data_in_leaf is set=500, min_child_samples=20 will be ignored. Current value: min_data_in_leaf=500\n"
     ]
    },
    {
     "data": {
      "text/plain": [
       "LGBMClassifier(class_weight='balanced', colsample_bytree=0.8,\n",
       "               min_data_in_leaf=500)"
      ]
     },
     "execution_count": 170,
     "metadata": {},
     "output_type": "execute_result"
    }
   ],
   "source": [
    "et.fit(X, y)"
   ]
  },
  {
   "cell_type": "code",
   "execution_count": 175,
   "id": "ff89590b",
   "metadata": {},
   "outputs": [],
   "source": [
    "predicted_labels = et.predict(X_use)"
   ]
  },
  {
   "cell_type": "code",
   "execution_count": 172,
   "id": "f530706b",
   "metadata": {},
   "outputs": [
    {
     "data": {
      "text/plain": [
       "array([-1,  0,  1,  2])"
      ]
     },
     "execution_count": 172,
     "metadata": {},
     "output_type": "execute_result"
    }
   ],
   "source": [
    "et.classes_"
   ]
  },
  {
   "cell_type": "code",
   "execution_count": 176,
   "id": "9c28c187",
   "metadata": {},
   "outputs": [
    {
     "data": {
      "text/plain": [
       "array([-1, -1, -1, ..., -1, -1, -1])"
      ]
     },
     "execution_count": 176,
     "metadata": {},
     "output_type": "execute_result"
    }
   ],
   "source": [
    "predicted_labels"
   ]
  },
  {
   "cell_type": "code",
   "execution_count": 104,
   "id": "1f01108d",
   "metadata": {},
   "outputs": [
    {
     "data": {
      "text/plain": [
       "756640"
      ]
     },
     "execution_count": 104,
     "metadata": {},
     "output_type": "execute_result"
    }
   ],
   "source": [
    "len(predicted_labels)"
   ]
  },
  {
   "cell_type": "code",
   "execution_count": 177,
   "id": "3f897060",
   "metadata": {},
   "outputs": [],
   "source": [
    "data['label'] = predicted_labels"
   ]
  },
  {
   "cell_type": "code",
   "execution_count": 178,
   "id": "7b03067a",
   "metadata": {},
   "outputs": [],
   "source": [
    "def handle_l_labels(l):\n",
    "    if l == 2:\n",
    "        return 1\n",
    "    if l == 1:\n",
    "        return -1\n",
    "    if l <1:\n",
    "        return 0"
   ]
  },
  {
   "cell_type": "code",
   "execution_count": 179,
   "id": "5f073eec",
   "metadata": {},
   "outputs": [],
   "source": [
    "data['stance'] = data['label'].apply(handle_l_labels)"
   ]
  },
  {
   "cell_type": "code",
   "execution_count": 188,
   "id": "546bc4a0",
   "metadata": {},
   "outputs": [],
   "source": [
    "res= data.groupby('uid')['stance'].agg(lambda s: [np.ptp(s),np.mean(s),len(s), np.std(s), np.sum(np.abs(s))]).sort_values(ascending=False)"
   ]
  },
  {
   "cell_type": "code",
   "execution_count": 190,
   "id": "84799e65",
   "metadata": {},
   "outputs": [],
   "source": [
    "res = pd.DataFrame(res)\n",
    "res['diffscore'] = res['stance'].apply(lambda d: d[0])\n",
    "res['mean_scores'] = res['stance'].apply(lambda d: d[1])\n",
    "res['size'] = res['stance'].apply(lambda d: d[2])\n",
    "res['std_score'] = res['stance'].apply(lambda d: d[3])\n",
    "res['abs_sum'] = res['stance'].apply(lambda d: d[4])"
   ]
  },
  {
   "cell_type": "code",
   "execution_count": 186,
   "id": "bc6814b7",
   "metadata": {},
   "outputs": [],
   "source": [
    "import seaborn as sns\n",
    "sns.set(rc={'figure.figsize':(11.7,8.27)})"
   ]
  },
  {
   "cell_type": "code",
   "execution_count": 192,
   "id": "7a93f60f",
   "metadata": {},
   "outputs": [
    {
     "data": {
      "text/html": [
       "<div>\n",
       "<style scoped>\n",
       "    .dataframe tbody tr th:only-of-type {\n",
       "        vertical-align: middle;\n",
       "    }\n",
       "\n",
       "    .dataframe tbody tr th {\n",
       "        vertical-align: top;\n",
       "    }\n",
       "\n",
       "    .dataframe thead th {\n",
       "        text-align: right;\n",
       "    }\n",
       "</style>\n",
       "<table border=\"1\" class=\"dataframe\">\n",
       "  <thead>\n",
       "    <tr style=\"text-align: right;\">\n",
       "      <th></th>\n",
       "      <th>stance</th>\n",
       "      <th>diffscore</th>\n",
       "      <th>mean_scores</th>\n",
       "      <th>size</th>\n",
       "      <th>std_score</th>\n",
       "      <th>abs_sum</th>\n",
       "    </tr>\n",
       "    <tr>\n",
       "      <th>uid</th>\n",
       "      <th></th>\n",
       "      <th></th>\n",
       "      <th></th>\n",
       "      <th></th>\n",
       "      <th></th>\n",
       "      <th></th>\n",
       "    </tr>\n",
       "  </thead>\n",
       "  <tbody>\n",
       "    <tr>\n",
       "      <th>1214302696569655296</th>\n",
       "      <td>[0, 0.0, 1, 0.0, 0]</td>\n",
       "      <td>0</td>\n",
       "      <td>0.000000</td>\n",
       "      <td>1</td>\n",
       "      <td>0.000000</td>\n",
       "      <td>0</td>\n",
       "    </tr>\n",
       "    <tr>\n",
       "      <th>1277936110950367232</th>\n",
       "      <td>[0, 0.0, 1, 0.0, 0]</td>\n",
       "      <td>0</td>\n",
       "      <td>0.000000</td>\n",
       "      <td>1</td>\n",
       "      <td>0.000000</td>\n",
       "      <td>0</td>\n",
       "    </tr>\n",
       "    <tr>\n",
       "      <th>1032931238581956608</th>\n",
       "      <td>[0, 0.0, 1, 0.0, 0]</td>\n",
       "      <td>0</td>\n",
       "      <td>0.000000</td>\n",
       "      <td>1</td>\n",
       "      <td>0.000000</td>\n",
       "      <td>0</td>\n",
       "    </tr>\n",
       "    <tr>\n",
       "      <th>1171526656336388099</th>\n",
       "      <td>[0, 0.0, 1, 0.0, 0]</td>\n",
       "      <td>0</td>\n",
       "      <td>0.000000</td>\n",
       "      <td>1</td>\n",
       "      <td>0.000000</td>\n",
       "      <td>0</td>\n",
       "    </tr>\n",
       "    <tr>\n",
       "      <th>1171511839655481344</th>\n",
       "      <td>[0, 0.0, 1, 0.0, 0]</td>\n",
       "      <td>0</td>\n",
       "      <td>0.000000</td>\n",
       "      <td>1</td>\n",
       "      <td>0.000000</td>\n",
       "      <td>0</td>\n",
       "    </tr>\n",
       "    <tr>\n",
       "      <th>...</th>\n",
       "      <td>...</td>\n",
       "      <td>...</td>\n",
       "      <td>...</td>\n",
       "      <td>...</td>\n",
       "      <td>...</td>\n",
       "      <td>...</td>\n",
       "    </tr>\n",
       "    <tr>\n",
       "      <th>384923143</th>\n",
       "      <td>[1, -0.055944055944055944, 143, 0.229813660491...</td>\n",
       "      <td>1</td>\n",
       "      <td>-0.055944</td>\n",
       "      <td>143</td>\n",
       "      <td>0.229814</td>\n",
       "      <td>8</td>\n",
       "    </tr>\n",
       "    <tr>\n",
       "      <th>28690225</th>\n",
       "      <td>[1, -0.00975609756097561, 820, 0.0982899594127...</td>\n",
       "      <td>1</td>\n",
       "      <td>-0.009756</td>\n",
       "      <td>820</td>\n",
       "      <td>0.098290</td>\n",
       "      <td>8</td>\n",
       "    </tr>\n",
       "    <tr>\n",
       "      <th>1974472332</th>\n",
       "      <td>[1, -0.03361344537815126, 238, 0.1802320217607...</td>\n",
       "      <td>1</td>\n",
       "      <td>-0.033613</td>\n",
       "      <td>238</td>\n",
       "      <td>0.180232</td>\n",
       "      <td>8</td>\n",
       "    </tr>\n",
       "    <tr>\n",
       "      <th>17353325</th>\n",
       "      <td>[2, -0.0033944331296673455, 1473, 0.0780926210...</td>\n",
       "      <td>2</td>\n",
       "      <td>-0.003394</td>\n",
       "      <td>1473</td>\n",
       "      <td>0.078093</td>\n",
       "      <td>9</td>\n",
       "    </tr>\n",
       "    <tr>\n",
       "      <th>195635551</th>\n",
       "      <td>[1, -0.20588235294117646, 102, 0.4043449142608...</td>\n",
       "      <td>1</td>\n",
       "      <td>-0.205882</td>\n",
       "      <td>102</td>\n",
       "      <td>0.404345</td>\n",
       "      <td>21</td>\n",
       "    </tr>\n",
       "  </tbody>\n",
       "</table>\n",
       "<p>100114 rows × 6 columns</p>\n",
       "</div>"
      ],
      "text/plain": [
       "                                                                stance  \\\n",
       "uid                                                                      \n",
       "1214302696569655296                                [0, 0.0, 1, 0.0, 0]   \n",
       "1277936110950367232                                [0, 0.0, 1, 0.0, 0]   \n",
       "1032931238581956608                                [0, 0.0, 1, 0.0, 0]   \n",
       "1171526656336388099                                [0, 0.0, 1, 0.0, 0]   \n",
       "1171511839655481344                                [0, 0.0, 1, 0.0, 0]   \n",
       "...                                                                ...   \n",
       "384923143            [1, -0.055944055944055944, 143, 0.229813660491...   \n",
       "28690225             [1, -0.00975609756097561, 820, 0.0982899594127...   \n",
       "1974472332           [1, -0.03361344537815126, 238, 0.1802320217607...   \n",
       "17353325             [2, -0.0033944331296673455, 1473, 0.0780926210...   \n",
       "195635551            [1, -0.20588235294117646, 102, 0.4043449142608...   \n",
       "\n",
       "                     diffscore  mean_scores  size  std_score  abs_sum  \n",
       "uid                                                                    \n",
       "1214302696569655296          0     0.000000     1   0.000000        0  \n",
       "1277936110950367232          0     0.000000     1   0.000000        0  \n",
       "1032931238581956608          0     0.000000     1   0.000000        0  \n",
       "1171526656336388099          0     0.000000     1   0.000000        0  \n",
       "1171511839655481344          0     0.000000     1   0.000000        0  \n",
       "...                        ...          ...   ...        ...      ...  \n",
       "384923143                    1    -0.055944   143   0.229814        8  \n",
       "28690225                     1    -0.009756   820   0.098290        8  \n",
       "1974472332                   1    -0.033613   238   0.180232        8  \n",
       "17353325                     2    -0.003394  1473   0.078093        9  \n",
       "195635551                    1    -0.205882   102   0.404345       21  \n",
       "\n",
       "[100114 rows x 6 columns]"
      ]
     },
     "execution_count": 192,
     "metadata": {},
     "output_type": "execute_result"
    }
   ],
   "source": [
    "res.sort_values('abs_sum')"
   ]
  },
  {
   "cell_type": "code",
   "execution_count": 162,
   "id": "2fa26c3e",
   "metadata": {},
   "outputs": [
    {
     "data": {
      "text/html": [
       "<div>\n",
       "<style scoped>\n",
       "    .dataframe tbody tr th:only-of-type {\n",
       "        vertical-align: middle;\n",
       "    }\n",
       "\n",
       "    .dataframe tbody tr th {\n",
       "        vertical-align: top;\n",
       "    }\n",
       "\n",
       "    .dataframe thead th {\n",
       "        text-align: right;\n",
       "    }\n",
       "</style>\n",
       "<table border=\"1\" class=\"dataframe\">\n",
       "  <thead>\n",
       "    <tr style=\"text-align: right;\">\n",
       "      <th></th>\n",
       "      <th>stance</th>\n",
       "      <th>diffscore</th>\n",
       "      <th>mean_scores</th>\n",
       "      <th>size</th>\n",
       "      <th>std_score</th>\n",
       "    </tr>\n",
       "    <tr>\n",
       "      <th>uid</th>\n",
       "      <th></th>\n",
       "      <th></th>\n",
       "      <th></th>\n",
       "      <th></th>\n",
       "      <th></th>\n",
       "    </tr>\n",
       "  </thead>\n",
       "  <tbody>\n",
       "    <tr>\n",
       "      <th>1132980099639156737</th>\n",
       "      <td>[0.7930263658268779, 0.17278691366653617, 42, ...</td>\n",
       "      <td>0.793026</td>\n",
       "      <td>0.172787</td>\n",
       "      <td>42</td>\n",
       "      <td>42</td>\n",
       "    </tr>\n",
       "    <tr>\n",
       "      <th>1098332323743842304</th>\n",
       "      <td>[0.40520961851848364, 0.11330135502798894, 42,...</td>\n",
       "      <td>0.405210</td>\n",
       "      <td>0.113301</td>\n",
       "      <td>42</td>\n",
       "      <td>42</td>\n",
       "    </tr>\n",
       "    <tr>\n",
       "      <th>720275402</th>\n",
       "      <td>[0.4923513921092996, 0.11667163095996644, 42, ...</td>\n",
       "      <td>0.492351</td>\n",
       "      <td>0.116672</td>\n",
       "      <td>42</td>\n",
       "      <td>42</td>\n",
       "    </tr>\n",
       "    <tr>\n",
       "      <th>1081770803815800833</th>\n",
       "      <td>[0.8154133505448934, 0.22242619784824122, 42, ...</td>\n",
       "      <td>0.815413</td>\n",
       "      <td>0.222426</td>\n",
       "      <td>42</td>\n",
       "      <td>42</td>\n",
       "    </tr>\n",
       "    <tr>\n",
       "      <th>288605100</th>\n",
       "      <td>[0.7919841435008955, 0.1912681096466089, 42, 0...</td>\n",
       "      <td>0.791984</td>\n",
       "      <td>0.191268</td>\n",
       "      <td>42</td>\n",
       "      <td>42</td>\n",
       "    </tr>\n",
       "    <tr>\n",
       "      <th>...</th>\n",
       "      <td>...</td>\n",
       "      <td>...</td>\n",
       "      <td>...</td>\n",
       "      <td>...</td>\n",
       "      <td>...</td>\n",
       "    </tr>\n",
       "    <tr>\n",
       "      <th>16213404</th>\n",
       "      <td>[0.912865285601998, 0.1810065985778692, 2111, ...</td>\n",
       "      <td>0.912865</td>\n",
       "      <td>0.181007</td>\n",
       "      <td>2111</td>\n",
       "      <td>2111</td>\n",
       "    </tr>\n",
       "    <tr>\n",
       "      <th>877415741124825088</th>\n",
       "      <td>[0.9425980913672927, 0.17857375750216245, 2252...</td>\n",
       "      <td>0.942598</td>\n",
       "      <td>0.178574</td>\n",
       "      <td>2252</td>\n",
       "      <td>2252</td>\n",
       "    </tr>\n",
       "    <tr>\n",
       "      <th>840496870875045889</th>\n",
       "      <td>[0.7944595129115394, 0.11322346030602448, 3195...</td>\n",
       "      <td>0.794460</td>\n",
       "      <td>0.113223</td>\n",
       "      <td>3195</td>\n",
       "      <td>3195</td>\n",
       "    </tr>\n",
       "    <tr>\n",
       "      <th>47239788</th>\n",
       "      <td>[0.9408842889879382, 0.20201787529295354, 3391...</td>\n",
       "      <td>0.940884</td>\n",
       "      <td>0.202018</td>\n",
       "      <td>3391</td>\n",
       "      <td>3391</td>\n",
       "    </tr>\n",
       "    <tr>\n",
       "      <th>3835582274</th>\n",
       "      <td>[0.9461890714146646, 0.19178222498099923, 4824...</td>\n",
       "      <td>0.946189</td>\n",
       "      <td>0.191782</td>\n",
       "      <td>4824</td>\n",
       "      <td>4824</td>\n",
       "    </tr>\n",
       "  </tbody>\n",
       "</table>\n",
       "<p>3138 rows × 5 columns</p>\n",
       "</div>"
      ],
      "text/plain": [
       "                                                                stance  \\\n",
       "uid                                                                      \n",
       "1132980099639156737  [0.7930263658268779, 0.17278691366653617, 42, ...   \n",
       "1098332323743842304  [0.40520961851848364, 0.11330135502798894, 42,...   \n",
       "720275402            [0.4923513921092996, 0.11667163095996644, 42, ...   \n",
       "1081770803815800833  [0.8154133505448934, 0.22242619784824122, 42, ...   \n",
       "288605100            [0.7919841435008955, 0.1912681096466089, 42, 0...   \n",
       "...                                                                ...   \n",
       "16213404             [0.912865285601998, 0.1810065985778692, 2111, ...   \n",
       "877415741124825088   [0.9425980913672927, 0.17857375750216245, 2252...   \n",
       "840496870875045889   [0.7944595129115394, 0.11322346030602448, 3195...   \n",
       "47239788             [0.9408842889879382, 0.20201787529295354, 3391...   \n",
       "3835582274           [0.9461890714146646, 0.19178222498099923, 4824...   \n",
       "\n",
       "                     diffscore  mean_scores  size  std_score  \n",
       "uid                                                           \n",
       "1132980099639156737   0.793026     0.172787    42         42  \n",
       "1098332323743842304   0.405210     0.113301    42         42  \n",
       "720275402             0.492351     0.116672    42         42  \n",
       "1081770803815800833   0.815413     0.222426    42         42  \n",
       "288605100             0.791984     0.191268    42         42  \n",
       "...                        ...          ...   ...        ...  \n",
       "16213404              0.912865     0.181007  2111       2111  \n",
       "877415741124825088    0.942598     0.178574  2252       2252  \n",
       "840496870875045889    0.794460     0.113223  3195       3195  \n",
       "47239788              0.940884     0.202018  3391       3391  \n",
       "3835582274            0.946189     0.191782  4824       4824  \n",
       "\n",
       "[3138 rows x 5 columns]"
      ]
     },
     "execution_count": 162,
     "metadata": {},
     "output_type": "execute_result"
    }
   ],
   "source": [
    "res[res['size']>40].sort_values('size').iloc[100:100000]"
   ]
  },
  {
   "cell_type": "code",
   "execution_count": 146,
   "id": "07905ea1",
   "metadata": {},
   "outputs": [
    {
     "data": {
      "text/html": [
       "<div>\n",
       "<style scoped>\n",
       "    .dataframe tbody tr th:only-of-type {\n",
       "        vertical-align: middle;\n",
       "    }\n",
       "\n",
       "    .dataframe tbody tr th {\n",
       "        vertical-align: top;\n",
       "    }\n",
       "\n",
       "    .dataframe thead th {\n",
       "        text-align: right;\n",
       "    }\n",
       "</style>\n",
       "<table border=\"1\" class=\"dataframe\">\n",
       "  <thead>\n",
       "    <tr style=\"text-align: right;\">\n",
       "      <th></th>\n",
       "      <th>tid</th>\n",
       "      <th>rid</th>\n",
       "      <th>uid</th>\n",
       "      <th>date</th>\n",
       "      <th>text</th>\n",
       "      <th>hashtags</th>\n",
       "      <th>mentions</th>\n",
       "      <th>episode</th>\n",
       "      <th>urls</th>\n",
       "      <th>text_ht_censored</th>\n",
       "      <th>text_full_censored</th>\n",
       "      <th>retweet_embeddings</th>\n",
       "      <th>stance</th>\n",
       "    </tr>\n",
       "  </thead>\n",
       "  <tbody>\n",
       "    <tr>\n",
       "      <th>22055</th>\n",
       "      <td>1224349706341367809</td>\n",
       "      <td>1.224288e+18</td>\n",
       "      <td>3109350722</td>\n",
       "      <td>2020-02-03T15:11:31Z</td>\n",
       "      <td>#QandA what worries me is we’re acting as if t...</td>\n",
       "      <td>[QandA]</td>\n",
       "      <td>[92932981]</td>\n",
       "      <td>1</td>\n",
       "      <td>[]</td>\n",
       "      <td>&lt;HASHTAG&gt; what worries me is we’re acting as i...</td>\n",
       "      <td>what worries me is we’re acting as if this cr...</td>\n",
       "      <td>[0.0, 0.0, 0.0, 0.0, 0.0, 0.0, 0.0, 0.0, 0.0, ...</td>\n",
       "      <td>0.010410</td>\n",
       "    </tr>\n",
       "    <tr>\n",
       "      <th>22104</th>\n",
       "      <td>1224351184632180736</td>\n",
       "      <td>1.224313e+18</td>\n",
       "      <td>3109350722</td>\n",
       "      <td>2020-02-03T15:17:24Z</td>\n",
       "      <td>Betcha #ScottyFomMarketing is regretting 'allo...</td>\n",
       "      <td>[ScottyFomMarketing, qanda]</td>\n",
       "      <td>[1555336693]</td>\n",
       "      <td>1</td>\n",
       "      <td>[https://twitter.com/kezincanberra/status/1224...</td>\n",
       "      <td>Betcha &lt;HASHTAG&gt; is regretting 'allowing' Jim ...</td>\n",
       "      <td>Betcha  is regretting 'allowing' Jim Molan on ...</td>\n",
       "      <td>[0.0, 0.0, 0.0, 0.0, 0.0, 0.0, 0.0, 0.0, 0.0, ...</td>\n",
       "      <td>0.231273</td>\n",
       "    </tr>\n",
       "    <tr>\n",
       "      <th>22112</th>\n",
       "      <td>1224351462391566336</td>\n",
       "      <td>1.224293e+18</td>\n",
       "      <td>3109350722</td>\n",
       "      <td>2020-02-03T15:18:30Z</td>\n",
       "      <td>“My mind is open” #QandA The science is not se...</td>\n",
       "      <td>[QandA]</td>\n",
       "      <td>[424624761]</td>\n",
       "      <td>1</td>\n",
       "      <td>[]</td>\n",
       "      <td>“My mind is open” &lt;HASHTAG&gt; The science is not...</td>\n",
       "      <td>“My mind is open”  The science is not settled ...</td>\n",
       "      <td>[0.0, 0.0, 0.0, 0.0, 0.0, 0.0, 0.0, 0.0, 0.0, ...</td>\n",
       "      <td>0.094829</td>\n",
       "    </tr>\n",
       "    <tr>\n",
       "      <th>22115</th>\n",
       "      <td>1224351594033991680</td>\n",
       "      <td>1.224287e+18</td>\n",
       "      <td>3109350722</td>\n",
       "      <td>2020-02-03T15:19:02Z</td>\n",
       "      <td>#QandA if either the NSW govt or the Federal g...</td>\n",
       "      <td>[QandA]</td>\n",
       "      <td>[92932981]</td>\n",
       "      <td>1</td>\n",
       "      <td>[]</td>\n",
       "      <td>&lt;HASHTAG&gt; if either the NSW govt or the Federa...</td>\n",
       "      <td>if either the NSW govt or the Federal govt cl...</td>\n",
       "      <td>[0.0, 0.0, 0.0, 0.0, 0.0, 0.0, 0.0, 0.0, 0.0, ...</td>\n",
       "      <td>0.039552</td>\n",
       "    </tr>\n",
       "    <tr>\n",
       "      <th>22123</th>\n",
       "      <td>1224351778663067650</td>\n",
       "      <td>1.224288e+18</td>\n",
       "      <td>3109350722</td>\n",
       "      <td>2020-02-03T15:19:46Z</td>\n",
       "      <td>#qanda $5-$7 Billion PA is given to retirees #...</td>\n",
       "      <td>[qanda, frankingcredits, LNP, auspol]</td>\n",
       "      <td>[16213404]</td>\n",
       "      <td>1</td>\n",
       "      <td>[]</td>\n",
       "      <td>&lt;HASHTAG&gt; $5-$7 Billion PA is given to retiree...</td>\n",
       "      <td>$5-$7 Billion PA is given to retirees  rebate...</td>\n",
       "      <td>[0.0, 0.0, 0.0, 0.0, 0.0, 0.0, 0.0, 0.0, 0.0, ...</td>\n",
       "      <td>0.025006</td>\n",
       "    </tr>\n",
       "    <tr>\n",
       "      <th>...</th>\n",
       "      <td>...</td>\n",
       "      <td>...</td>\n",
       "      <td>...</td>\n",
       "      <td>...</td>\n",
       "      <td>...</td>\n",
       "      <td>...</td>\n",
       "      <td>...</td>\n",
       "      <td>...</td>\n",
       "      <td>...</td>\n",
       "      <td>...</td>\n",
       "      <td>...</td>\n",
       "      <td>...</td>\n",
       "      <td>...</td>\n",
       "    </tr>\n",
       "    <tr>\n",
       "      <th>739152</th>\n",
       "      <td>1328707841457152000</td>\n",
       "      <td>1.328584e+18</td>\n",
       "      <td>3109350722</td>\n",
       "      <td>2020-11-17T14:33:30Z</td>\n",
       "      <td>Last night on #QandA we spent most of the show...</td>\n",
       "      <td>[QandA]</td>\n",
       "      <td>[423035895]</td>\n",
       "      <td>42</td>\n",
       "      <td>[]</td>\n",
       "      <td>Last night on &lt;HASHTAG&gt; we spent most of the s...</td>\n",
       "      <td>Last night on  we spent most of the show argui...</td>\n",
       "      <td>[0.0, 0.0, 0.0, 0.0, 0.0, 0.0, 0.0, 0.0, 0.0, ...</td>\n",
       "      <td>0.774474</td>\n",
       "    </tr>\n",
       "    <tr>\n",
       "      <th>747733</th>\n",
       "      <td>1330902915465113604</td>\n",
       "      <td>1.330843e+18</td>\n",
       "      <td>3109350722</td>\n",
       "      <td>2020-11-23T15:55:56Z</td>\n",
       "      <td>A twitter user named @oooblahhh made an eloque...</td>\n",
       "      <td>[qanda, springst, nswpol, auspol]</td>\n",
       "      <td>[1242039077840404482]</td>\n",
       "      <td>43</td>\n",
       "      <td>[]</td>\n",
       "      <td>A twitter user named @oooblahhh made an eloque...</td>\n",
       "      <td>A twitter user named  made an eloquent  point ...</td>\n",
       "      <td>[0.0, 0.0, 0.0, 0.0, 0.0, 0.0, 0.0, 0.0, 0.0, ...</td>\n",
       "      <td>0.452737</td>\n",
       "    </tr>\n",
       "    <tr>\n",
       "      <th>747745</th>\n",
       "      <td>1330903989068566530</td>\n",
       "      <td>1.330830e+18</td>\n",
       "      <td>3109350722</td>\n",
       "      <td>2020-11-23T16:00:12Z</td>\n",
       "      <td>RT @drpete00: We need a leader who speaks out ...</td>\n",
       "      <td>[QandA]</td>\n",
       "      <td>[48665949]</td>\n",
       "      <td>43</td>\n",
       "      <td>[]</td>\n",
       "      <td>RT @drpete00: We need a leader who speaks out ...</td>\n",
       "      <td>RT  We need a leader who speaks out about the ...</td>\n",
       "      <td>[0.0, 0.0, 0.0, 0.0, 0.0, 0.0, 0.0, 0.0, 0.0, ...</td>\n",
       "      <td>0.880197</td>\n",
       "    </tr>\n",
       "    <tr>\n",
       "      <th>747747</th>\n",
       "      <td>1330904319760109569</td>\n",
       "      <td>1.330834e+18</td>\n",
       "      <td>3109350722</td>\n",
       "      <td>2020-11-23T16:01:31Z</td>\n",
       "      <td>RT @DanielBleakley: Suggesting the Leppington ...</td>\n",
       "      <td>[qanda]</td>\n",
       "      <td>[799617770]</td>\n",
       "      <td>43</td>\n",
       "      <td>[]</td>\n",
       "      <td>RT @DanielBleakley: Suggesting the Leppington ...</td>\n",
       "      <td>RT  Suggesting the Leppington triangle scandal...</td>\n",
       "      <td>[0.0, 0.0, 0.0, 0.0, 0.0, 0.0, 0.0, 0.0, 0.0, ...</td>\n",
       "      <td>0.072659</td>\n",
       "    </tr>\n",
       "    <tr>\n",
       "      <th>749641</th>\n",
       "      <td>1331029005097525248</td>\n",
       "      <td>1.330836e+18</td>\n",
       "      <td>3109350722</td>\n",
       "      <td>2020-11-24T00:16:58Z</td>\n",
       "      <td>RT @MaralynParker: Both state and fed govts gu...</td>\n",
       "      <td>[TAFE, qanda]</td>\n",
       "      <td>[31669146]</td>\n",
       "      <td>43</td>\n",
       "      <td>[]</td>\n",
       "      <td>RT @MaralynParker: Both state and fed govts gu...</td>\n",
       "      <td>RT  Both state and fed govts gutted  - no wond...</td>\n",
       "      <td>[0.0, 0.0, 0.0, 0.0, 0.0, 0.0, 0.0, 0.0, 0.0, ...</td>\n",
       "      <td>0.035566</td>\n",
       "    </tr>\n",
       "  </tbody>\n",
       "</table>\n",
       "<p>538 rows × 13 columns</p>\n",
       "</div>"
      ],
      "text/plain": [
       "                        tid           rid         uid                  date  \\\n",
       "22055   1224349706341367809  1.224288e+18  3109350722  2020-02-03T15:11:31Z   \n",
       "22104   1224351184632180736  1.224313e+18  3109350722  2020-02-03T15:17:24Z   \n",
       "22112   1224351462391566336  1.224293e+18  3109350722  2020-02-03T15:18:30Z   \n",
       "22115   1224351594033991680  1.224287e+18  3109350722  2020-02-03T15:19:02Z   \n",
       "22123   1224351778663067650  1.224288e+18  3109350722  2020-02-03T15:19:46Z   \n",
       "...                     ...           ...         ...                   ...   \n",
       "739152  1328707841457152000  1.328584e+18  3109350722  2020-11-17T14:33:30Z   \n",
       "747733  1330902915465113604  1.330843e+18  3109350722  2020-11-23T15:55:56Z   \n",
       "747745  1330903989068566530  1.330830e+18  3109350722  2020-11-23T16:00:12Z   \n",
       "747747  1330904319760109569  1.330834e+18  3109350722  2020-11-23T16:01:31Z   \n",
       "749641  1331029005097525248  1.330836e+18  3109350722  2020-11-24T00:16:58Z   \n",
       "\n",
       "                                                     text  \\\n",
       "22055   #QandA what worries me is we’re acting as if t...   \n",
       "22104   Betcha #ScottyFomMarketing is regretting 'allo...   \n",
       "22112   “My mind is open” #QandA The science is not se...   \n",
       "22115   #QandA if either the NSW govt or the Federal g...   \n",
       "22123   #qanda $5-$7 Billion PA is given to retirees #...   \n",
       "...                                                   ...   \n",
       "739152  Last night on #QandA we spent most of the show...   \n",
       "747733  A twitter user named @oooblahhh made an eloque...   \n",
       "747745  RT @drpete00: We need a leader who speaks out ...   \n",
       "747747  RT @DanielBleakley: Suggesting the Leppington ...   \n",
       "749641  RT @MaralynParker: Both state and fed govts gu...   \n",
       "\n",
       "                                     hashtags               mentions  episode  \\\n",
       "22055                                 [QandA]             [92932981]        1   \n",
       "22104             [ScottyFomMarketing, qanda]           [1555336693]        1   \n",
       "22112                                 [QandA]            [424624761]        1   \n",
       "22115                                 [QandA]             [92932981]        1   \n",
       "22123   [qanda, frankingcredits, LNP, auspol]             [16213404]        1   \n",
       "...                                       ...                    ...      ...   \n",
       "739152                                [QandA]            [423035895]       42   \n",
       "747733      [qanda, springst, nswpol, auspol]  [1242039077840404482]       43   \n",
       "747745                                [QandA]             [48665949]       43   \n",
       "747747                                [qanda]            [799617770]       43   \n",
       "749641                          [TAFE, qanda]             [31669146]       43   \n",
       "\n",
       "                                                     urls  \\\n",
       "22055                                                  []   \n",
       "22104   [https://twitter.com/kezincanberra/status/1224...   \n",
       "22112                                                  []   \n",
       "22115                                                  []   \n",
       "22123                                                  []   \n",
       "...                                                   ...   \n",
       "739152                                                 []   \n",
       "747733                                                 []   \n",
       "747745                                                 []   \n",
       "747747                                                 []   \n",
       "749641                                                 []   \n",
       "\n",
       "                                         text_ht_censored  \\\n",
       "22055   <HASHTAG> what worries me is we’re acting as i...   \n",
       "22104   Betcha <HASHTAG> is regretting 'allowing' Jim ...   \n",
       "22112   “My mind is open” <HASHTAG> The science is not...   \n",
       "22115   <HASHTAG> if either the NSW govt or the Federa...   \n",
       "22123   <HASHTAG> $5-$7 Billion PA is given to retiree...   \n",
       "...                                                   ...   \n",
       "739152  Last night on <HASHTAG> we spent most of the s...   \n",
       "747733  A twitter user named @oooblahhh made an eloque...   \n",
       "747745  RT @drpete00: We need a leader who speaks out ...   \n",
       "747747  RT @DanielBleakley: Suggesting the Leppington ...   \n",
       "749641  RT @MaralynParker: Both state and fed govts gu...   \n",
       "\n",
       "                                       text_full_censored  \\\n",
       "22055    what worries me is we’re acting as if this cr...   \n",
       "22104   Betcha  is regretting 'allowing' Jim Molan on ...   \n",
       "22112   “My mind is open”  The science is not settled ...   \n",
       "22115    if either the NSW govt or the Federal govt cl...   \n",
       "22123    $5-$7 Billion PA is given to retirees  rebate...   \n",
       "...                                                   ...   \n",
       "739152  Last night on  we spent most of the show argui...   \n",
       "747733  A twitter user named  made an eloquent  point ...   \n",
       "747745  RT  We need a leader who speaks out about the ...   \n",
       "747747  RT  Suggesting the Leppington triangle scandal...   \n",
       "749641  RT  Both state and fed govts gutted  - no wond...   \n",
       "\n",
       "                                       retweet_embeddings    stance  \n",
       "22055   [0.0, 0.0, 0.0, 0.0, 0.0, 0.0, 0.0, 0.0, 0.0, ...  0.010410  \n",
       "22104   [0.0, 0.0, 0.0, 0.0, 0.0, 0.0, 0.0, 0.0, 0.0, ...  0.231273  \n",
       "22112   [0.0, 0.0, 0.0, 0.0, 0.0, 0.0, 0.0, 0.0, 0.0, ...  0.094829  \n",
       "22115   [0.0, 0.0, 0.0, 0.0, 0.0, 0.0, 0.0, 0.0, 0.0, ...  0.039552  \n",
       "22123   [0.0, 0.0, 0.0, 0.0, 0.0, 0.0, 0.0, 0.0, 0.0, ...  0.025006  \n",
       "...                                                   ...       ...  \n",
       "739152  [0.0, 0.0, 0.0, 0.0, 0.0, 0.0, 0.0, 0.0, 0.0, ...  0.774474  \n",
       "747733  [0.0, 0.0, 0.0, 0.0, 0.0, 0.0, 0.0, 0.0, 0.0, ...  0.452737  \n",
       "747745  [0.0, 0.0, 0.0, 0.0, 0.0, 0.0, 0.0, 0.0, 0.0, ...  0.880197  \n",
       "747747  [0.0, 0.0, 0.0, 0.0, 0.0, 0.0, 0.0, 0.0, 0.0, ...  0.072659  \n",
       "749641  [0.0, 0.0, 0.0, 0.0, 0.0, 0.0, 0.0, 0.0, 0.0, ...  0.035566  \n",
       "\n",
       "[538 rows x 13 columns]"
      ]
     },
     "execution_count": 146,
     "metadata": {},
     "output_type": "execute_result"
    }
   ],
   "source": [
    "data[data['uid'] == 3109350722]"
   ]
  },
  {
   "cell_type": "code",
   "execution_count": 193,
   "id": "1b757219",
   "metadata": {},
   "outputs": [
    {
     "data": {
      "text/plain": [
       "<AxesSubplot:xlabel='date', ylabel='stance'>"
      ]
     },
     "execution_count": 193,
     "metadata": {},
     "output_type": "execute_result"
    },
    {
     "data": {
      "image/png": "[encoded data removed]",
      "text/plain": [
       "<Figure size 842.4x595.44 with 1 Axes>"
      ]
     },
     "metadata": {},
     "output_type": "display_data"
    }
   ],
   "source": [
    "sns.lineplot(data=data[data['uid'] == 195635551], x='date', y='stance')"
   ]
  },
  {
   "cell_type": "code",
   "execution_count": null,
   "id": "0b699c06",
   "metadata": {},
   "outputs": [],
   "source": [
    "preds = cross_val_predict(et, X, y, cv=skf)"
   ]
  },
  {
   "cell_type": "code",
   "execution_count": null,
   "id": "29d3b5f4",
   "metadata": {},
   "outputs": [],
   "source": [
    "preds"
   ]
  },
  {
   "cell_type": "code",
   "execution_count": null,
   "id": "16f799e9",
   "metadata": {},
   "outputs": [],
   "source": [
    "f1_score(y, preds, average='macro')"
   ]
  },
  {
   "cell_type": "markdown",
   "id": "62a34535",
   "metadata": {},
   "source": [
    "## Hashtag + USE"
   ]
  },
  {
   "cell_type": "code",
   "execution_count": 134,
   "id": "7fb12039",
   "metadata": {},
   "outputs": [],
   "source": [
    "feature_set = 'ht_use'"
   ]
  },
  {
   "cell_type": "code",
   "execution_count": 135,
   "id": "67ba02f3",
   "metadata": {},
   "outputs": [],
   "source": [
    "X = np.hstack([X_ht,X_use])"
   ]
  },
  {
   "cell_type": "code",
   "execution_count": 136,
   "id": "8749910a",
   "metadata": {},
   "outputs": [
    {
     "name": "stderr",
     "output_type": "stream",
     "text": [
      "/home/roram/anaconda3/envs/condaEnv/lib/python3.9/site-packages/sklearn/utils/validation.py:585: FutureWarning: np.matrix usage is deprecated in 1.0 and will raise a TypeError in 1.2. Please convert to a numpy array with np.asarray. For more information see: https://numpy.org/doc/stable/reference/generated/numpy.matrix.html\n",
      "  warnings.warn(\n"
     ]
    },
    {
     "name": "stdout",
     "output_type": "stream",
     "text": [
      "[LightGBM] [Warning] min_data_in_leaf is set=500, min_child_samples=20 will be ignored. Current value: min_data_in_leaf=500\n"
     ]
    },
    {
     "name": "stderr",
     "output_type": "stream",
     "text": [
      "/home/roram/anaconda3/envs/condaEnv/lib/python3.9/site-packages/sklearn/utils/validation.py:585: FutureWarning: np.matrix usage is deprecated in 1.0 and will raise a TypeError in 1.2. Please convert to a numpy array with np.asarray. For more information see: https://numpy.org/doc/stable/reference/generated/numpy.matrix.html\n",
      "  warnings.warn(\n",
      "/home/roram/anaconda3/envs/condaEnv/lib/python3.9/site-packages/sklearn/utils/validation.py:585: FutureWarning: np.matrix usage is deprecated in 1.0 and will raise a TypeError in 1.2. Please convert to a numpy array with np.asarray. For more information see: https://numpy.org/doc/stable/reference/generated/numpy.matrix.html\n",
      "  warnings.warn(\n"
     ]
    },
    {
     "name": "stdout",
     "output_type": "stream",
     "text": [
      "[LightGBM] [Warning] min_data_in_leaf is set=500, min_child_samples=20 will be ignored. Current value: min_data_in_leaf=500\n"
     ]
    },
    {
     "name": "stderr",
     "output_type": "stream",
     "text": [
      "/home/roram/anaconda3/envs/condaEnv/lib/python3.9/site-packages/sklearn/utils/validation.py:585: FutureWarning: np.matrix usage is deprecated in 1.0 and will raise a TypeError in 1.2. Please convert to a numpy array with np.asarray. For more information see: https://numpy.org/doc/stable/reference/generated/numpy.matrix.html\n",
      "  warnings.warn(\n"
     ]
    },
    {
     "name": "stdout",
     "output_type": "stream",
     "text": [
      "Area under the ROC Curve: 0.9950730471687659\n"
     ]
    }
   ],
   "source": [
    "from lightgbm import LGBMClassifier\n",
    "\n",
    "et = LGBMClassifier(n_estimators=100, min_data_in_leaf=500,colsample_bytree=0.8, class_weight='balanced', n_jobs=-1)\n",
    "\n",
    "# validation instance\n",
    "skf = StratifiedKFold(n_splits=2, shuffle=True)\n",
    "\n",
    "# getting the model validation predictions\n",
    "preds = cross_val_predict(et, X, y, cv=skf, method='predict_proba')\n",
    "\n",
    "# evaluating the model\n",
    "# print('Area under the ROC Curve:', roc_auc_score(y, preds[:,1]))\n",
    "print('Area under the ROC Curve:', roc_auc_score(y, preds, multi_class='ovo'))\n",
    "lgbm_performance[feature_set] = roc_auc_score(y, preds, multi_class='ovo')"
   ]
  },
  {
   "cell_type": "code",
   "execution_count": 70,
   "id": "4aec4820",
   "metadata": {},
   "outputs": [],
   "source": [
    "# lgbm_performance[feature_set] = roc_auc_score(y, preds[:,1])"
   ]
  },
  {
   "cell_type": "markdown",
   "id": "0380ed41",
   "metadata": {},
   "source": [
    "## Retweet + Linguistic"
   ]
  },
  {
   "cell_type": "code",
   "execution_count": 137,
   "id": "f5c4c5d7",
   "metadata": {},
   "outputs": [],
   "source": [
    "feature_set = 'rt_use'"
   ]
  },
  {
   "cell_type": "code",
   "execution_count": 138,
   "id": "8823ba5f",
   "metadata": {},
   "outputs": [
    {
     "name": "stdout",
     "output_type": "stream",
     "text": [
      "[LightGBM] [Warning] min_data_in_leaf is set=500, min_child_samples=20 will be ignored. Current value: min_data_in_leaf=500\n",
      "[LightGBM] [Warning] min_data_in_leaf is set=500, min_child_samples=20 will be ignored. Current value: min_data_in_leaf=500\n",
      "Area under the ROC Curve: 0.9945468363426131\n"
     ]
    }
   ],
   "source": [
    "X = np.hstack([X_rt,X_use])\n",
    "y = y\n",
    "\n",
    "from lightgbm import LGBMClassifier\n",
    "\n",
    "et = LGBMClassifier(n_estimators=100, min_data_in_leaf=500,colsample_bytree=0.8, class_weight='balanced', n_jobs=-1)\n",
    "\n",
    "# validation instance\n",
    "skf = StratifiedKFold(n_splits=2, shuffle=True)\n",
    "\n",
    "# getting the model validation predictions\n",
    "preds = cross_val_predict(et, X, y, cv=skf, method='predict_proba')\n",
    "\n",
    "# evaluating the model\n",
    "# print('Area under the ROC Curve:', roc_auc_score(y, preds[:,1]))\n",
    "print('Area under the ROC Curve:', roc_auc_score(y, preds, multi_class='ovo'))\n",
    "lgbm_performance[feature_set] = roc_auc_score(y, preds, multi_class='ovo')"
   ]
  },
  {
   "cell_type": "code",
   "execution_count": 87,
   "id": "3b69804e",
   "metadata": {},
   "outputs": [],
   "source": [
    "# lgbm_performance[feature_set] = roc_auc_score(y, preds[:,1])"
   ]
  },
  {
   "cell_type": "code",
   "execution_count": null,
   "id": "c8197785",
   "metadata": {},
   "outputs": [],
   "source": []
  }
 ],
 "metadata": {
  "kernelspec": {
   "display_name": "condaEnv",
   "language": "python",
   "name": "condaenv"
  },
  "language_info": {
   "codemirror_mode": {
    "name": "ipython",
    "version": 3
   },
   "file_extension": ".py",
   "mimetype": "text/x-python",
   "name": "python",
   "nbconvert_exporter": "python",
   "pygments_lexer": "ipython3",
   "version": "3.9.7"
  }
 },
 "nbformat": 4,
 "nbformat_minor": 5
}
